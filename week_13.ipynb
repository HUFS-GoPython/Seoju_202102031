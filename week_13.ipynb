{
 "cells": [
  {
   "cell_type": "markdown",
   "id": "a4fa1655",
   "metadata": {},
   "source": [
    "### 함수 2\n",
    "\n",
    "- 중첩함수\n",
    "    - 캡슐화 목적\n",
    "        - 변수 범위를 제한할 수 있음\n",
    "        - 책임, 관리 명확해짐\n",
    "- 제너레이터\n",
    "- 재귀함수"
   ]
  },
  {
   "cell_type": "code",
   "execution_count": 1,
   "id": "ad0b6e27",
   "metadata": {},
   "outputs": [
    {
     "data": {
      "text/plain": [
       "4"
      ]
     },
     "execution_count": 1,
     "metadata": {},
     "output_type": "execute_result"
    }
   ],
   "source": [
    "def outer(a, b): # 외부함수\n",
    "    def inner(c, d): # 내부함수\n",
    "        return c + d\n",
    "    return inner(a, b)\n",
    "\n",
    "outer(2, 2)"
   ]
  },
  {
   "cell_type": "code",
   "execution_count": 3,
   "id": "e5501f47",
   "metadata": {},
   "outputs": [
    {
     "ename": "NameError",
     "evalue": "name 'inner' is not defined",
     "output_type": "error",
     "traceback": [
      "\u001b[1;31m---------------------------------------------------------------------------\u001b[0m",
      "\u001b[1;31mNameError\u001b[0m                                 Traceback (most recent call last)",
      "\u001b[1;32m~\\AppData\\Local\\Temp/ipykernel_14908/2770580406.py\u001b[0m in \u001b[0;36m<module>\u001b[1;34m\u001b[0m\n\u001b[1;32m----> 1\u001b[1;33m \u001b[0minner\u001b[0m\u001b[1;33m(\u001b[0m\u001b[1;36m2\u001b[0m\u001b[1;33m,\u001b[0m \u001b[1;36m2\u001b[0m\u001b[1;33m)\u001b[0m\u001b[1;33m\u001b[0m\u001b[1;33m\u001b[0m\u001b[0m\n\u001b[0m",
      "\u001b[1;31mNameError\u001b[0m: name 'inner' is not defined"
     ]
    }
   ],
   "source": [
    "inner(2, 2) # error => 선언한 적 없음"
   ]
  },
  {
   "cell_type": "code",
   "execution_count": 6,
   "id": "b249c22e",
   "metadata": {},
   "outputs": [],
   "source": [
    "def knights(saying):\n",
    "    def inner(quote):\n",
    "        return f'we are the knights who say: {quote}'\n",
    "    return inner(saying)\n",
    "\n",
    "case1 = knights('Ni')"
   ]
  },
  {
   "cell_type": "code",
   "execution_count": 7,
   "id": "4876214e",
   "metadata": {},
   "outputs": [
    {
     "data": {
      "text/plain": [
       "'we are the knights who say: Ni'"
      ]
     },
     "execution_count": 7,
     "metadata": {},
     "output_type": "execute_result"
    }
   ],
   "source": [
    "case1"
   ]
  },
  {
   "cell_type": "markdown",
   "id": "ae8b2ac3",
   "metadata": {},
   "source": [
    "클로저\n",
    "\n",
    "- 자신을 둘러싼 scope(name space)의 상태값을 기억하는 함수\n",
    "- 매모리 효율적 사용(함수 호출 시 꺼내쓸 수 있다)\n",
    "- 조건\n",
    "    - 중첩함수여야 함\n",
    "    - 외부함수의 상태값 참조해야 함\n",
    "    - 외부함수가 내부함수를 반환해야 함"
   ]
  },
  {
   "cell_type": "code",
   "execution_count": 12,
   "id": "124c9ef7",
   "metadata": {},
   "outputs": [
    {
     "data": {
      "text/plain": [
       "<function __main__.multiply(x)>"
      ]
     },
     "execution_count": 12,
     "metadata": {},
     "output_type": "execute_result"
    }
   ],
   "source": [
    "def multiply(x): # 클로저(closure)\n",
    "    def inner(y):\n",
    "        return x * y\n",
    "    return inner # 함수 실행되기 전\n",
    "\n",
    "multiply"
   ]
  },
  {
   "cell_type": "code",
   "execution_count": 10,
   "id": "9b876408",
   "metadata": {},
   "outputs": [],
   "source": [
    "m5 = multiply(5)\n",
    "m6 = multiply(6)"
   ]
  },
  {
   "cell_type": "code",
   "execution_count": 11,
   "id": "9f9261a7",
   "metadata": {},
   "outputs": [
    {
     "data": {
      "text/plain": [
       "30"
      ]
     },
     "execution_count": 11,
     "metadata": {},
     "output_type": "execute_result"
    }
   ],
   "source": [
    "m5(6)"
   ]
  },
  {
   "cell_type": "code",
   "execution_count": 13,
   "id": "1cd3c51e",
   "metadata": {},
   "outputs": [
    {
     "data": {
      "text/plain": [
       "<function __main__.multiply(x)>"
      ]
     },
     "execution_count": 13,
     "metadata": {},
     "output_type": "execute_result"
    }
   ],
   "source": [
    "multiply"
   ]
  },
  {
   "cell_type": "code",
   "execution_count": 14,
   "id": "6096b7f0",
   "metadata": {},
   "outputs": [
    {
     "ename": "NameError",
     "evalue": "name 'multiply' is not defined",
     "output_type": "error",
     "traceback": [
      "\u001b[1;31m---------------------------------------------------------------------------\u001b[0m",
      "\u001b[1;31mNameError\u001b[0m                                 Traceback (most recent call last)",
      "\u001b[1;32m~\\AppData\\Local\\Temp/ipykernel_14908/696810967.py\u001b[0m in \u001b[0;36m<module>\u001b[1;34m\u001b[0m\n\u001b[0;32m      1\u001b[0m \u001b[1;32mdel\u001b[0m\u001b[1;33m(\u001b[0m\u001b[0mmultiply\u001b[0m\u001b[1;33m)\u001b[0m\u001b[1;33m\u001b[0m\u001b[1;33m\u001b[0m\u001b[0m\n\u001b[1;32m----> 2\u001b[1;33m \u001b[0mmultiply\u001b[0m\u001b[1;33m\u001b[0m\u001b[1;33m\u001b[0m\u001b[0m\n\u001b[0m",
      "\u001b[1;31mNameError\u001b[0m: name 'multiply' is not defined"
     ]
    }
   ],
   "source": [
    "del(multiply)\n",
    "multiply"
   ]
  },
  {
   "cell_type": "code",
   "execution_count": 15,
   "id": "80c72b4b",
   "metadata": {},
   "outputs": [
    {
     "data": {
      "text/plain": [
       "50"
      ]
     },
     "execution_count": 15,
     "metadata": {},
     "output_type": "execute_result"
    }
   ],
   "source": [
    "m5(10) # 메모리 유지되고 있음"
   ]
  },
  {
   "cell_type": "markdown",
   "id": "464c0135",
   "metadata": {},
   "source": [
    "#### 데코레이터\n",
    "- 메인 함수에 또 다른 함수를 데코레이터로 선언하여 사용할 수 있음\n",
    "- 목적:\n",
    "    - 재사용, 가독성, 직관적"
   ]
  },
  {
   "cell_type": "code",
   "execution_count": 26,
   "id": "32440003",
   "metadata": {},
   "outputs": [],
   "source": [
    "@document_it\n",
    "def add(a, b):\n",
    "    return a + b\n",
    "\n",
    "@document_it\n",
    "def subtract(a, b):\n",
    "    return a - b\n",
    "\n",
    "def document_it(func):\n",
    "    def new_func(*args, **kargs):\n",
    "        print('arguments: ', *args)\n",
    "        print('key arguments: ', kargs)\n",
    "        return func(*args, **kargs)\n",
    "    return new_func"
   ]
  },
  {
   "cell_type": "code",
   "execution_count": 28,
   "id": "1ad96af9",
   "metadata": {},
   "outputs": [
    {
     "name": "stdout",
     "output_type": "stream",
     "text": [
      "arguments:  (1, 3)\n",
      "key arguments:  {}\n"
     ]
    },
    {
     "data": {
      "text/plain": [
       "4"
      ]
     },
     "execution_count": 28,
     "metadata": {},
     "output_type": "execute_result"
    }
   ],
   "source": [
    "add(1, 3)"
   ]
  },
  {
   "cell_type": "markdown",
   "id": "bef5d32c",
   "metadata": {},
   "source": [
    "Q1. add에 활용할 중첩함수 만들기\n",
    "- 결과값의 제곱 값을 반환하는 클로저 함수 만들기"
   ]
  },
  {
   "cell_type": "code",
   "execution_count": 29,
   "id": "5fa16ad0",
   "metadata": {},
   "outputs": [],
   "source": [
    "def square(func): # func이 들어와야 데코레이터 사용가능\n",
    "    def new_func(*args): ## x -> x * x\n",
    "        result = func(*args)\n",
    "        return result * result\n",
    "    return new_func\n",
    "\n",
    "@square\n",
    "def add(a, b):\n",
    "    return a + b"
   ]
  },
  {
   "cell_type": "code",
   "execution_count": 30,
   "id": "9436af57",
   "metadata": {},
   "outputs": [
    {
     "data": {
      "text/plain": [
       "49"
      ]
     },
     "execution_count": 30,
     "metadata": {},
     "output_type": "execute_result"
    }
   ],
   "source": [
    "add(3, 4)"
   ]
  },
  {
   "cell_type": "markdown",
   "id": "625d3be6",
   "metadata": {},
   "source": [
    "#### scope: global, local, nonlocal\n",
    "- 내부함수는 외부함수의 인자를 '참조'만 할 수 있음 (읽기만 가능)\n",
    "- nonlocal 예약어를 활용"
   ]
  },
  {
   "cell_type": "code",
   "execution_count": 31,
   "id": "52a0d373",
   "metadata": {},
   "outputs": [],
   "source": [
    "# 전역(global)\n",
    "a = 4\n",
    "\n",
    "def square(func):\n",
    "    # 지역(local)\n",
    "    def new_func(*args): \n",
    "        # 지역 내의 지역?\n",
    "        result = func(*args)\n",
    "        return result * result\n",
    "    return new_func"
   ]
  },
  {
   "cell_type": "code",
   "execution_count": 36,
   "id": "97a0b2f1",
   "metadata": {},
   "outputs": [
    {
     "data": {
      "text/plain": [
       "10"
      ]
     },
     "execution_count": 36,
     "metadata": {},
     "output_type": "execute_result"
    }
   ],
   "source": [
    "z = 3\n",
    "def outer(x):\n",
    "    y = 4\n",
    "    def inner():\n",
    "        # x = 10\n",
    "        # inner를 타지 않음\n",
    "        x = 1000\n",
    "        return x\n",
    "    return x\n",
    "\n",
    "outer(10)"
   ]
  },
  {
   "cell_type": "code",
   "execution_count": 34,
   "id": "4abc86af",
   "metadata": {},
   "outputs": [
    {
     "data": {
      "text/plain": [
       "1000"
      ]
     },
     "execution_count": 34,
     "metadata": {},
     "output_type": "execute_result"
    }
   ],
   "source": [
    "z = 3\n",
    "def outer(x):\n",
    "    y = 4\n",
    "    def inner():\n",
    "        # x = 10\n",
    "        x = 1000\n",
    "        return x # 1000\n",
    "    return inner()\n",
    "\n",
    "outer(10)"
   ]
  },
  {
   "cell_type": "code",
   "execution_count": 37,
   "id": "5c8947d4",
   "metadata": {},
   "outputs": [
    {
     "data": {
      "text/plain": [
       "11"
      ]
     },
     "execution_count": 37,
     "metadata": {},
     "output_type": "execute_result"
    }
   ],
   "source": [
    "z = 3\n",
    "def outer(x): # x값 '참조'\n",
    "    y = 4\n",
    "    def inner():\n",
    "        # x = 10\n",
    "        # x = 1000\n",
    "        nonlocal x\n",
    "        x += 1 # x가 무엇인지 모름\n",
    "        return x\n",
    "    return inner()\n",
    "\n",
    "outer(10)"
   ]
  },
  {
   "cell_type": "code",
   "execution_count": 46,
   "id": "34ff5a62",
   "metadata": {},
   "outputs": [],
   "source": [
    "def my_func(nums:list): # 가변인자 -> 리턴 없이도 리턴값 얻음\n",
    "    # 문서화 => 사용자가 알 수 있도록\n",
    "    nums.append(sum(nums))\n",
    "    \n",
    "a = [1, 2, 3]\n",
    "my_func(a)"
   ]
  },
  {
   "cell_type": "code",
   "execution_count": 47,
   "id": "f5c751e5",
   "metadata": {},
   "outputs": [
    {
     "data": {
      "text/plain": [
       "[1, 2, 3, 6]"
      ]
     },
     "execution_count": 47,
     "metadata": {},
     "output_type": "execute_result"
    }
   ],
   "source": [
    "a"
   ]
  },
  {
   "cell_type": "code",
   "execution_count": 48,
   "id": "d0d35926",
   "metadata": {},
   "outputs": [
    {
     "data": {
      "text/plain": [
       "[1, 2, 3, 6, 12, 24, 48]"
      ]
     },
     "execution_count": 48,
     "metadata": {},
     "output_type": "execute_result"
    }
   ],
   "source": [
    "my_func(a)\n",
    "my_func(a)\n",
    "my_func(a)\n",
    "a"
   ]
  },
  {
   "cell_type": "markdown",
   "id": "21eab3d4",
   "metadata": {},
   "source": [
    "Q2. \n",
    "1. 함수: 차 속도, 제한 속도를 비교해서 true/false 반환\n",
    "\n",
    "2. 데코레이터 함수\n",
    "- 중첩\n",
    "- 만약 제한 속도를 초과했다면 얼마나 초과했는지 프린트하는 함수\n",
    "- 예: 100 / 80\n",
    "- '20km/h 초과'"
   ]
  },
  {
   "cell_type": "code",
   "execution_count": 50,
   "id": "9f885a2e",
   "metadata": {},
   "outputs": [],
   "source": [
    "def square(func):\n",
    "    def compare_speed(speed, limit):\n",
    "        if speed <= limit:\n",
    "            return False\n",
    "        else:\n",
    "            return True\n",
    "        \n",
    "@square\n",
    "def print_excess(speed, limit):\n",
    "    print(speed - limit)"
   ]
  },
  {
   "cell_type": "code",
   "execution_count": 53,
   "id": "8185dbc2",
   "metadata": {},
   "outputs": [],
   "source": [
    "def calc_speed(func):\n",
    "    def inner(speed, limit):\n",
    "        if func(speed, limit):\n",
    "            return f'초과 속도: {speed - limit} km/h'\n",
    "        else:\n",
    "            return f'정상 속도'\n",
    "    return inner"
   ]
  },
  {
   "cell_type": "code",
   "execution_count": 54,
   "id": "b62be243",
   "metadata": {},
   "outputs": [
    {
     "data": {
      "text/plain": [
       "'초과 속도: 20 km/h'"
      ]
     },
     "execution_count": 54,
     "metadata": {},
     "output_type": "execute_result"
    }
   ],
   "source": [
    "@calc_speed\n",
    "def is_speeding(speed, limit):\n",
    "    return speed > limit\n",
    "\n",
    "is_speeding(100, 80)"
   ]
  },
  {
   "cell_type": "markdown",
   "id": "9abb7864",
   "metadata": {},
   "source": [
    "### 제너레이터\n",
    "- return -> yield\n",
    "- 순회의 리턴값을 하나씩 반환\n",
    "- 시퀀스를 생성하는 객체\n",
    "- 메모리 효율성 증대\n",
    "    - 한 번 사용되고 메모리에서 사라짐"
   ]
  },
  {
   "cell_type": "code",
   "execution_count": 56,
   "id": "b7d74f0d",
   "metadata": {},
   "outputs": [],
   "source": [
    "def func():\n",
    "    for i in range(5):\n",
    "        yield i"
   ]
  },
  {
   "cell_type": "code",
   "execution_count": 60,
   "id": "4b5ba1ab",
   "metadata": {},
   "outputs": [],
   "source": [
    "names = 'Kevin Michael Juliette Laura'.split()\n",
    "\n",
    "def printing(name_list:list):\n",
    "    for name in name_list:\n",
    "        yield name\n",
    "        \n",
    "name_list = printing(names)"
   ]
  },
  {
   "cell_type": "code",
   "execution_count": 61,
   "id": "b338892f",
   "metadata": {},
   "outputs": [
    {
     "name": "stdout",
     "output_type": "stream",
     "text": [
      "Kevin\n",
      "Michael\n",
      "Juliette\n",
      "Laura\n"
     ]
    }
   ],
   "source": [
    "for i in name_list:\n",
    "    print(i)"
   ]
  },
  {
   "cell_type": "markdown",
   "id": "952eaae8",
   "metadata": {},
   "source": [
    "Q3. range 함수 구현\n",
    "- def my_range(start, end, step):\n",
    "    [] #range 쓰지 말것\n",
    "    yield"
   ]
  },
  {
   "cell_type": "code",
   "execution_count": 68,
   "id": "20b07e3f",
   "metadata": {},
   "outputs": [
    {
     "name": "stdout",
     "output_type": "stream",
     "text": [
      "<generator object my_range at 0x000001D08925A4A0>\n"
     ]
    }
   ],
   "source": [
    "def my_range(start, end, step = 1):\n",
    "    while start < end:\n",
    "        yield start\n",
    "        start += step\n",
    "        \n",
    "ranger = my_range(1, 10)"
   ]
  },
  {
   "cell_type": "code",
   "execution_count": 69,
   "id": "7df92a05",
   "metadata": {},
   "outputs": [
    {
     "data": {
      "text/plain": [
       "[0, 1, 2, 3, 4, 5, 6, 7, 8, 9]"
      ]
     },
     "execution_count": 69,
     "metadata": {},
     "output_type": "execute_result"
    }
   ],
   "source": [
    "# 리스트 컴프리핸션에서도 제너레이터 사용 가능\n",
    "\n",
    "[i for i in range(10)]"
   ]
  },
  {
   "cell_type": "code",
   "execution_count": 70,
   "id": "8dcf8765",
   "metadata": {},
   "outputs": [],
   "source": [
    "ranger = (i for i in range(10))"
   ]
  },
  {
   "cell_type": "code",
   "execution_count": 72,
   "id": "abcb8527",
   "metadata": {},
   "outputs": [
    {
     "name": "stdout",
     "output_type": "stream",
     "text": [
      "K0\n",
      "K1\n",
      "K2\n",
      "K3\n",
      "K4\n",
      "K5\n",
      "K6\n",
      "K7\n",
      "K8\n",
      "K9\n"
     ]
    }
   ],
   "source": [
    "for i in ranger:\n",
    "    print(f'K{i}')"
   ]
  },
  {
   "cell_type": "markdown",
   "id": "941da2a9",
   "metadata": {},
   "source": [
    "### 재귀함수\n",
    "- 자기 자신을 호출하는 함수\n",
    "- 재귀가 너무 깊어지면 예외 발생, 주의해야 함\n",
    "- [[a, b], ][[a, b, c,]], b], b, c]]\n",
    "=> 모든 요소의 차원을 단일화시킬 때 \n",
    "- [a, b, a, b, c, ...]"
   ]
  },
  {
   "cell_type": "code",
   "execution_count": 76,
   "id": "506bc45f",
   "metadata": {},
   "outputs": [
    {
     "data": {
      "text/plain": [
       "<generator object flatten at 0x000001D08925A9E0>"
      ]
     },
     "execution_count": 76,
     "metadata": {},
     "output_type": "execute_result"
    }
   ],
   "source": [
    "def flatten(sent):\n",
    "    for word in sent:\n",
    "        if isinstance(word, list):\n",
    "            # 리스트가 맞다\n",
    "            for sub_word in flatten(word):\n",
    "                yield sub_word\n",
    "        else:\n",
    "            yield word\n",
    "    \n",
    "a = [1, 2, [2, 3, 4], [[[1, 2]]]]\n",
    "flatten(a)"
   ]
  },
  {
   "cell_type": "code",
   "execution_count": 74,
   "id": "aa33f576",
   "metadata": {},
   "outputs": [
    {
     "data": {
      "text/plain": [
       "False"
      ]
     },
     "execution_count": 74,
     "metadata": {},
     "output_type": "execute_result"
    }
   ],
   "source": [
    "isinstance('word', int)"
   ]
  },
  {
   "cell_type": "code",
   "execution_count": 77,
   "id": "617f1f73",
   "metadata": {},
   "outputs": [
    {
     "name": "stdout",
     "output_type": "stream",
     "text": [
      "1\n",
      "2\n",
      "2\n",
      "3\n",
      "4\n",
      "1\n",
      "2\n"
     ]
    }
   ],
   "source": [
    "for i in flatten(a):\n",
    "    print(i)"
   ]
  },
  {
   "cell_type": "code",
   "execution_count": 79,
   "id": "3454cb43",
   "metadata": {},
   "outputs": [],
   "source": [
    "def flatten(sent):\n",
    "    for word in sent:\n",
    "        if isinstance(word, list):\n",
    "            # 리스트가 맞다\n",
    "            yield from flatten(word)\n",
    "        else:\n",
    "            yield word"
   ]
  },
  {
   "cell_type": "markdown",
   "id": "16d325b1",
   "metadata": {},
   "source": [
    "### 예외처리 | excepting handling\n",
    "- 프로그램 동작 중 예외가 발생했을 때 대처하기 위함\n",
    "- 사용자에게 예외를 알리고, 원하는 조치 설정\n",
    "- 프로그램이 정상적으로 종료가 될 수 있음"
   ]
  },
  {
   "cell_type": "code",
   "execution_count": 85,
   "id": "86e9380a",
   "metadata": {},
   "outputs": [
    {
     "name": "stdout",
     "output_type": "stream",
     "text": [
      "0으로 나눌 수 없음\n"
     ]
    }
   ],
   "source": [
    "try:\n",
    "    # 예외가 발생할 수도 있는 코드 블럭\n",
    "    5/0\n",
    "except ZeroDivisionError:\n",
    "    # 예외 시 행할 행동\n",
    "    print('0으로 나눌 수 없음')"
   ]
  },
  {
   "cell_type": "code",
   "execution_count": 86,
   "id": "24d03443",
   "metadata": {},
   "outputs": [
    {
     "name": "stdout",
     "output_type": "stream",
     "text": [
      "0으로 나눌 수 없음\n",
      "10.0\n",
      "5.0\n",
      "3.3333333333333335\n",
      "2.5\n",
      "2.0\n",
      "1.6666666666666667\n",
      "1.4285714285714286\n",
      "1.25\n",
      "1.1111111111111112\n"
     ]
    }
   ],
   "source": [
    "for i in range(10):\n",
    "    try:\n",
    "        print(10 / i)\n",
    "    except ZeroDivisionError:\n",
    "        print('0으로 나눌 수 없음')"
   ]
  },
  {
   "cell_type": "code",
   "execution_count": 89,
   "id": "6d3c3f4a",
   "metadata": {
    "scrolled": true
   },
   "outputs": [
    {
     "name": "stdout",
     "output_type": "stream",
     "text": [
      "인덱스를 입력하세요>> 9\n",
      "string index out of range\n",
      "인덱스를 입력하세요>> word\n",
      "invalid literal for int() with base 10: 'word'\n",
      "인덱스를 입력하세요>> q\n"
     ]
    }
   ],
   "source": [
    "word = 'hello'\n",
    "\n",
    "while True:\n",
    "    index = input('인덱스를 입력하세요>> ')\n",
    "    if index == 'q':\n",
    "        break\n",
    "    try:\n",
    "        index = int(index) # ValueError, IndexError\n",
    "        print(word[index])\n",
    "    except ValueError as e1:\n",
    "        print(e1) # 에러 메시지\n",
    "    except IndexError as e2:\n",
    "        print(e2)"
   ]
  },
  {
   "cell_type": "markdown",
   "id": "94f3d08b",
   "metadata": {},
   "source": [
    "+) 오류 종류"
   ]
  },
  {
   "cell_type": "code",
   "execution_count": 80,
   "id": "13b935d6",
   "metadata": {},
   "outputs": [
    {
     "ename": "ZeroDivisionError",
     "evalue": "division by zero",
     "output_type": "error",
     "traceback": [
      "\u001b[1;31m---------------------------------------------------------------------------\u001b[0m",
      "\u001b[1;31mZeroDivisionError\u001b[0m                         Traceback (most recent call last)",
      "\u001b[1;32m~\\AppData\\Local\\Temp/ipykernel_14908/1648751004.py\u001b[0m in \u001b[0;36m<module>\u001b[1;34m\u001b[0m\n\u001b[1;32m----> 1\u001b[1;33m \u001b[1;36m5\u001b[0m\u001b[1;33m/\u001b[0m \u001b[1;36m0\u001b[0m\u001b[1;33m\u001b[0m\u001b[1;33m\u001b[0m\u001b[0m\n\u001b[0m",
      "\u001b[1;31mZeroDivisionError\u001b[0m: division by zero"
     ]
    }
   ],
   "source": [
    "5 / 0"
   ]
  },
  {
   "cell_type": "code",
   "execution_count": 84,
   "id": "1b1beb16",
   "metadata": {},
   "outputs": [
    {
     "ename": "IndexError",
     "evalue": "list index out of range",
     "output_type": "error",
     "traceback": [
      "\u001b[1;31m---------------------------------------------------------------------------\u001b[0m",
      "\u001b[1;31mIndexError\u001b[0m                                Traceback (most recent call last)",
      "\u001b[1;32m~\\AppData\\Local\\Temp/ipykernel_14908/2277038320.py\u001b[0m in \u001b[0;36m<module>\u001b[1;34m\u001b[0m\n\u001b[0;32m      1\u001b[0m \u001b[0ma\u001b[0m \u001b[1;33m=\u001b[0m \u001b[1;33m[\u001b[0m\u001b[1;36m1\u001b[0m\u001b[1;33m,\u001b[0m \u001b[1;36m2\u001b[0m\u001b[1;33m,\u001b[0m \u001b[1;36m3\u001b[0m\u001b[1;33m]\u001b[0m\u001b[1;33m\u001b[0m\u001b[1;33m\u001b[0m\u001b[0m\n\u001b[1;32m----> 2\u001b[1;33m \u001b[0ma\u001b[0m\u001b[1;33m[\u001b[0m\u001b[1;36m5\u001b[0m\u001b[1;33m]\u001b[0m\u001b[1;33m\u001b[0m\u001b[1;33m\u001b[0m\u001b[0m\n\u001b[0m",
      "\u001b[1;31mIndexError\u001b[0m: list index out of range"
     ]
    }
   ],
   "source": [
    "a = [1, 2, 3]\n",
    "a[5]"
   ]
  },
  {
   "cell_type": "code",
   "execution_count": 82,
   "id": "2c2b12b3",
   "metadata": {},
   "outputs": [
    {
     "ename": "ValueError",
     "evalue": "invalid literal for int() with base 10: 'hello'",
     "output_type": "error",
     "traceback": [
      "\u001b[1;31m---------------------------------------------------------------------------\u001b[0m",
      "\u001b[1;31mValueError\u001b[0m                                Traceback (most recent call last)",
      "\u001b[1;32m~\\AppData\\Local\\Temp/ipykernel_14908/1136785238.py\u001b[0m in \u001b[0;36m<module>\u001b[1;34m\u001b[0m\n\u001b[1;32m----> 1\u001b[1;33m \u001b[0mint\u001b[0m\u001b[1;33m(\u001b[0m\u001b[1;34m'hello'\u001b[0m\u001b[1;33m)\u001b[0m\u001b[1;33m\u001b[0m\u001b[1;33m\u001b[0m\u001b[0m\n\u001b[0m",
      "\u001b[1;31mValueError\u001b[0m: invalid literal for int() with base 10: 'hello'"
     ]
    }
   ],
   "source": [
    "int('hello')"
   ]
  },
  {
   "cell_type": "code",
   "execution_count": 83,
   "id": "04ececc3",
   "metadata": {},
   "outputs": [
    {
     "ename": "NameError",
     "evalue": "name 'k' is not defined",
     "output_type": "error",
     "traceback": [
      "\u001b[1;31m---------------------------------------------------------------------------\u001b[0m",
      "\u001b[1;31mNameError\u001b[0m                                 Traceback (most recent call last)",
      "\u001b[1;32m~\\AppData\\Local\\Temp/ipykernel_14908/2542369611.py\u001b[0m in \u001b[0;36m<module>\u001b[1;34m\u001b[0m\n\u001b[1;32m----> 1\u001b[1;33m \u001b[0mk\u001b[0m \u001b[1;33m+=\u001b[0m \u001b[1;36m1\u001b[0m\u001b[1;33m\u001b[0m\u001b[1;33m\u001b[0m\u001b[0m\n\u001b[0m",
      "\u001b[1;31mNameError\u001b[0m: name 'k' is not defined"
     ]
    }
   ],
   "source": [
    "k += 1"
   ]
  },
  {
   "cell_type": "markdown",
   "id": "6c59866c",
   "metadata": {},
   "source": [
    "#### 예외 일으키기\n",
    "- 프로그램을 강제 종료시키기 위해 사용\n",
    "- raise, assert"
   ]
  },
  {
   "cell_type": "code",
   "execution_count": null,
   "id": "81d8d27c",
   "metadata": {},
   "outputs": [],
   "source": [
    "raise 예외타입(에러 종류)"
   ]
  },
  {
   "cell_type": "code",
   "execution_count": 90,
   "id": "6112a18e",
   "metadata": {},
   "outputs": [
    {
     "name": "stdout",
     "output_type": "stream",
     "text": [
      "숫자>> d\n"
     ]
    },
    {
     "ename": "ValueError",
     "evalue": "숫자가 아닙니다!",
     "output_type": "error",
     "traceback": [
      "\u001b[1;31m---------------------------------------------------------------------------\u001b[0m",
      "\u001b[1;31mValueError\u001b[0m                                Traceback (most recent call last)",
      "\u001b[1;32m~\\AppData\\Local\\Temp/ipykernel_14908/1475971809.py\u001b[0m in \u001b[0;36m<module>\u001b[1;34m\u001b[0m\n\u001b[0;32m      2\u001b[0m     \u001b[0mnum\u001b[0m \u001b[1;33m=\u001b[0m \u001b[0minput\u001b[0m\u001b[1;33m(\u001b[0m\u001b[1;34m'숫자>> '\u001b[0m\u001b[1;33m)\u001b[0m\u001b[1;33m\u001b[0m\u001b[1;33m\u001b[0m\u001b[0m\n\u001b[0;32m      3\u001b[0m     \u001b[1;32mif\u001b[0m \u001b[1;32mnot\u001b[0m \u001b[0mnum\u001b[0m\u001b[1;33m.\u001b[0m\u001b[0misdigit\u001b[0m\u001b[1;33m(\u001b[0m\u001b[1;33m)\u001b[0m\u001b[1;33m:\u001b[0m\u001b[1;33m\u001b[0m\u001b[1;33m\u001b[0m\u001b[0m\n\u001b[1;32m----> 4\u001b[1;33m         \u001b[1;32mraise\u001b[0m \u001b[0mValueError\u001b[0m\u001b[1;33m(\u001b[0m\u001b[1;34m'숫자가 아닙니다!'\u001b[0m\u001b[1;33m)\u001b[0m\u001b[1;33m\u001b[0m\u001b[1;33m\u001b[0m\u001b[0m\n\u001b[0m\u001b[0;32m      5\u001b[0m     \u001b[1;32melse\u001b[0m\u001b[1;33m:\u001b[0m\u001b[1;33m\u001b[0m\u001b[1;33m\u001b[0m\u001b[0m\n\u001b[0;32m      6\u001b[0m         \u001b[0mprint\u001b[0m\u001b[1;33m(\u001b[0m\u001b[0mint\u001b[0m\u001b[1;33m(\u001b[0m\u001b[0mnum\u001b[0m\u001b[1;33m)\u001b[0m \u001b[1;33m+\u001b[0m \u001b[1;36m5\u001b[0m\u001b[1;33m)\u001b[0m\u001b[1;33m\u001b[0m\u001b[1;33m\u001b[0m\u001b[0m\n",
      "\u001b[1;31mValueError\u001b[0m: 숫자가 아닙니다!"
     ]
    }
   ],
   "source": [
    "while True:\n",
    "    num = input('숫자>> ')\n",
    "    if not num.isdigit():\n",
    "        raise ValueError('숫자가 아닙니다!')\n",
    "    else:\n",
    "        print(int(num) + 5)"
   ]
  },
  {
   "cell_type": "code",
   "execution_count": null,
   "id": "7ae154be",
   "metadata": {},
   "outputs": [],
   "source": [
    "assert <참인 조건>, <False일 경우 내보낼 메시지>"
   ]
  },
  {
   "cell_type": "code",
   "execution_count": 2,
   "id": "76bc28db",
   "metadata": {},
   "outputs": [
    {
     "data": {
      "text/plain": [
       "'0b1010'"
      ]
     },
     "execution_count": 2,
     "metadata": {},
     "output_type": "execute_result"
    }
   ],
   "source": [
    "def get_binary(num):\n",
    "    assert isinstance(num, int), '정수 아님'\n",
    "    return bin(num)\n",
    "\n",
    "get_binary(10)"
   ]
  },
  {
   "cell_type": "code",
   "execution_count": 4,
   "id": "46eba273",
   "metadata": {},
   "outputs": [
    {
     "ename": "AssertionError",
     "evalue": "정수 아님",
     "output_type": "error",
     "traceback": [
      "\u001b[1;31m---------------------------------------------------------------------------\u001b[0m",
      "\u001b[1;31mAssertionError\u001b[0m                            Traceback (most recent call last)",
      "\u001b[1;32m~\\AppData\\Local\\Temp/ipykernel_14568/3303499768.py\u001b[0m in \u001b[0;36m<module>\u001b[1;34m\u001b[0m\n\u001b[1;32m----> 1\u001b[1;33m \u001b[0mget_binary\u001b[0m\u001b[1;33m(\u001b[0m\u001b[1;34m'10'\u001b[0m\u001b[1;33m)\u001b[0m\u001b[1;33m\u001b[0m\u001b[1;33m\u001b[0m\u001b[0m\n\u001b[0m",
      "\u001b[1;32m~\\AppData\\Local\\Temp/ipykernel_14568/203491626.py\u001b[0m in \u001b[0;36mget_binary\u001b[1;34m(num)\u001b[0m\n\u001b[0;32m      1\u001b[0m \u001b[1;32mdef\u001b[0m \u001b[0mget_binary\u001b[0m\u001b[1;33m(\u001b[0m\u001b[0mnum\u001b[0m\u001b[1;33m)\u001b[0m\u001b[1;33m:\u001b[0m\u001b[1;33m\u001b[0m\u001b[1;33m\u001b[0m\u001b[0m\n\u001b[1;32m----> 2\u001b[1;33m     \u001b[1;32massert\u001b[0m \u001b[0misinstance\u001b[0m\u001b[1;33m(\u001b[0m\u001b[0mnum\u001b[0m\u001b[1;33m,\u001b[0m \u001b[0mint\u001b[0m\u001b[1;33m)\u001b[0m\u001b[1;33m,\u001b[0m \u001b[1;34m'정수 아님'\u001b[0m\u001b[1;33m\u001b[0m\u001b[1;33m\u001b[0m\u001b[0m\n\u001b[0m\u001b[0;32m      3\u001b[0m     \u001b[1;32mreturn\u001b[0m \u001b[0mbin\u001b[0m\u001b[1;33m(\u001b[0m\u001b[0mnum\u001b[0m\u001b[1;33m)\u001b[0m\u001b[1;33m\u001b[0m\u001b[1;33m\u001b[0m\u001b[0m\n\u001b[0;32m      4\u001b[0m \u001b[1;33m\u001b[0m\u001b[0m\n\u001b[0;32m      5\u001b[0m \u001b[0mget_binary\u001b[0m\u001b[1;33m(\u001b[0m\u001b[1;36m10\u001b[0m\u001b[1;33m)\u001b[0m\u001b[1;33m\u001b[0m\u001b[1;33m\u001b[0m\u001b[0m\n",
      "\u001b[1;31mAssertionError\u001b[0m: 정수 아님"
     ]
    }
   ],
   "source": [
    "get_binary('10')\n",
    "# str 타입이므로 에러"
   ]
  },
  {
   "cell_type": "markdown",
   "id": "135f23d1",
   "metadata": {},
   "source": [
    "### 사용자 정의 예외 타입\n",
    "- class 선언, Exception 클래스를 상속받는다."
   ]
  },
  {
   "cell_type": "code",
   "execution_count": 6,
   "id": "a25452c5",
   "metadata": {},
   "outputs": [],
   "source": [
    "class MyException(Exception):\n",
    "    pass"
   ]
  },
  {
   "cell_type": "code",
   "execution_count": 7,
   "id": "0087f75e",
   "metadata": {},
   "outputs": [
    {
     "name": "stdout",
     "output_type": "stream",
     "text": [
      "dublin\n",
      "newyork\n",
      "seoul\n"
     ]
    },
    {
     "ename": "MyException",
     "evalue": "대문자 사용 불가",
     "output_type": "error",
     "traceback": [
      "\u001b[1;31m---------------------------------------------------------------------------\u001b[0m",
      "\u001b[1;31mMyException\u001b[0m                               Traceback (most recent call last)",
      "\u001b[1;32m~\\AppData\\Local\\Temp/ipykernel_14568/1695780554.py\u001b[0m in \u001b[0;36m<module>\u001b[1;34m\u001b[0m\n\u001b[0;32m      3\u001b[0m \u001b[1;32mfor\u001b[0m \u001b[0mcity\u001b[0m \u001b[1;32min\u001b[0m \u001b[0mcities\u001b[0m\u001b[1;33m:\u001b[0m\u001b[1;33m\u001b[0m\u001b[1;33m\u001b[0m\u001b[0m\n\u001b[0;32m      4\u001b[0m     \u001b[1;32mif\u001b[0m \u001b[0mcity\u001b[0m\u001b[1;33m.\u001b[0m\u001b[0misupper\u001b[0m\u001b[1;33m(\u001b[0m\u001b[1;33m)\u001b[0m\u001b[1;33m:\u001b[0m\u001b[1;33m\u001b[0m\u001b[1;33m\u001b[0m\u001b[0m\n\u001b[1;32m----> 5\u001b[1;33m         \u001b[1;32mraise\u001b[0m \u001b[0mMyException\u001b[0m\u001b[1;33m(\u001b[0m\u001b[1;34m'대문자 사용 불가'\u001b[0m\u001b[1;33m)\u001b[0m\u001b[1;33m\u001b[0m\u001b[1;33m\u001b[0m\u001b[0m\n\u001b[0m\u001b[0;32m      6\u001b[0m     \u001b[1;32melse\u001b[0m\u001b[1;33m:\u001b[0m\u001b[1;33m\u001b[0m\u001b[1;33m\u001b[0m\u001b[0m\n\u001b[0;32m      7\u001b[0m         \u001b[0mprint\u001b[0m\u001b[1;33m(\u001b[0m\u001b[0mcity\u001b[0m\u001b[1;33m)\u001b[0m\u001b[1;33m\u001b[0m\u001b[1;33m\u001b[0m\u001b[0m\n",
      "\u001b[1;31mMyException\u001b[0m: 대문자 사용 불가"
     ]
    }
   ],
   "source": [
    "cities = 'dublin newyork seoul TOKYO'.split()\n",
    "\n",
    "for city in cities:\n",
    "    if city.isupper():\n",
    "        raise MyException('대문자 사용 불가')\n",
    "    else:\n",
    "        print(city)"
   ]
  },
  {
   "cell_type": "code",
   "execution_count": 13,
   "id": "70b19c87",
   "metadata": {},
   "outputs": [],
   "source": [
    "# 모든 케이스에서 예외처리\n",
    "class UppercaseException(Exception):\n",
    "    def __init__(self):\n",
    "        super().__init__('대문자 사용 불가입니다!')"
   ]
  },
  {
   "cell_type": "code",
   "execution_count": 14,
   "id": "43b34d85",
   "metadata": {},
   "outputs": [
    {
     "name": "stdout",
     "output_type": "stream",
     "text": [
      "dublin\n",
      "newyork\n",
      "seoul\n"
     ]
    },
    {
     "ename": "UppercaseException",
     "evalue": "대문자 사용 불가입니다!",
     "output_type": "error",
     "traceback": [
      "\u001b[1;31m---------------------------------------------------------------------------\u001b[0m",
      "\u001b[1;31mUppercaseException\u001b[0m                        Traceback (most recent call last)",
      "\u001b[1;32m~\\AppData\\Local\\Temp/ipykernel_14568/436246164.py\u001b[0m in \u001b[0;36m<module>\u001b[1;34m\u001b[0m\n\u001b[0;32m      3\u001b[0m \u001b[1;32mfor\u001b[0m \u001b[0mcity\u001b[0m \u001b[1;32min\u001b[0m \u001b[0mcities\u001b[0m\u001b[1;33m:\u001b[0m\u001b[1;33m\u001b[0m\u001b[1;33m\u001b[0m\u001b[0m\n\u001b[0;32m      4\u001b[0m     \u001b[1;32mif\u001b[0m \u001b[0mcity\u001b[0m\u001b[1;33m.\u001b[0m\u001b[0misupper\u001b[0m\u001b[1;33m(\u001b[0m\u001b[1;33m)\u001b[0m\u001b[1;33m:\u001b[0m\u001b[1;33m\u001b[0m\u001b[1;33m\u001b[0m\u001b[0m\n\u001b[1;32m----> 5\u001b[1;33m         \u001b[1;32mraise\u001b[0m \u001b[0mUppercaseException\u001b[0m\u001b[1;33m\u001b[0m\u001b[1;33m\u001b[0m\u001b[0m\n\u001b[0m\u001b[0;32m      6\u001b[0m     \u001b[1;32melse\u001b[0m\u001b[1;33m:\u001b[0m\u001b[1;33m\u001b[0m\u001b[1;33m\u001b[0m\u001b[0m\n\u001b[0;32m      7\u001b[0m         \u001b[0mprint\u001b[0m\u001b[1;33m(\u001b[0m\u001b[0mcity\u001b[0m\u001b[1;33m)\u001b[0m\u001b[1;33m\u001b[0m\u001b[1;33m\u001b[0m\u001b[0m\n",
      "\u001b[1;31mUppercaseException\u001b[0m: 대문자 사용 불가입니다!"
     ]
    }
   ],
   "source": [
    "cities = 'dublin newyork seoul TOKYO'.split()\n",
    "\n",
    "for city in cities:\n",
    "    if city.isupper():\n",
    "        raise UppercaseException\n",
    "    else:\n",
    "        print(city)"
   ]
  }
 ],
 "metadata": {
  "kernelspec": {
   "display_name": "Python 3 (ipykernel)",
   "language": "python",
   "name": "python3"
  },
  "language_info": {
   "codemirror_mode": {
    "name": "ipython",
    "version": 3
   },
   "file_extension": ".py",
   "mimetype": "text/x-python",
   "name": "python",
   "nbconvert_exporter": "python",
   "pygments_lexer": "ipython3",
   "version": "3.9.7"
  }
 },
 "nbformat": 4,
 "nbformat_minor": 5
}
