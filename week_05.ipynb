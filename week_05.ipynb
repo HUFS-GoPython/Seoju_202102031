{
 "cells": [
  {
   "cell_type": "markdown",
   "id": "2808812d",
   "metadata": {},
   "source": [
    "### 지난 주(week04) 과제 퀴즈 풀이"
   ]
  },
  {
   "cell_type": "markdown",
   "id": "6d005851",
   "metadata": {},
   "source": [
    "1. text6에서 길이가 4자 이하인 알파벳 중 ie를 포함하는 단어를 '단어 개수'로 출력\n",
    "    - ex) [1, 3, 4, 3]"
   ]
  },
  {
   "cell_type": "code",
   "execution_count": 67,
   "id": "56338b0b",
   "metadata": {},
   "outputs": [
    {
     "data": {
      "text/plain": [
       "[2, 10, 10, 10, 10, 2, 4, 10, 10, 2, 1, 1, 4, 3, 3, 4, 2, 10, 10, 10, 10, 3, 4]"
      ]
     },
     "execution_count": 67,
     "metadata": {},
     "output_type": "execute_result"
    }
   ],
   "source": [
    "[text6.count(w) for w in text6 if len(w) <= 4 and 'ie' in w]"
   ]
  },
  {
   "cell_type": "markdown",
   "id": "00fab0b8",
   "metadata": {},
   "source": [
    "2. text2에서 ch로 끝나는 단어를 출력하되\n",
    "    - 중복 없이\n",
    "    - 첫 글자와 ch 남기고 가운데는 모두 -로 가리기 (예: much -> m-ch)\n",
    "        - ch로 시작하면 바꾸면 안 됨 \n",
    "        - 문자 길이로 정렬하기"
   ]
  },
  {
   "cell_type": "code",
   "execution_count": 93,
   "id": "24191d4a",
   "metadata": {},
   "outputs": [
    {
     "name": "stdout",
     "output_type": "stream",
     "text": [
      "e-ch\n",
      "s-ch\n",
      "i-ch\n",
      "r-ch\n",
      "m-ch\n",
      "m--ch\n",
      "f--ch\n",
      "b--ch\n",
      "w--ch\n",
      "c--ch\n",
      "t--ch\n",
      "t--ch\n",
      "r--ch\n",
      "c--ch\n",
      "m--ch\n",
      "w--ch\n",
      "p--ch\n",
      "e---ch\n",
      "s---ch\n",
      "a---ch\n",
      "b---ch\n",
      "b---ch\n",
      "s---ch\n",
      "s---ch\n",
      "c---ch\n",
      "s----ch\n",
      "s----ch\n",
      "s----ch\n",
      "r-----ch\n",
      "a-----ch\n",
      "d-----ch\n",
      "d-----ch\n"
     ]
    }
   ],
   "source": [
    "word_ch = sorted(set([w.lower() for w in text2 if w.endswith('ch')]), key = len)\n",
    "\n",
    "for i in range(len(word_ch)):\n",
    "    print(word_ch[i][0] + '-' * len(word_ch[i][:-3]) + 'ch')"
   ]
  },
  {
   "cell_type": "code",
   "execution_count": 42,
   "id": "75a01568",
   "metadata": {},
   "outputs": [
    {
     "name": "stdout",
     "output_type": "stream",
     "text": [
      "*** Introductory Examples for the NLTK Book ***\n",
      "Loading text1, ..., text9 and sent1, ..., sent9\n",
      "Type the name of the text or sentence to view it.\n",
      "Type: 'texts()' or 'sents()' to list the materials.\n",
      "text1: Moby Dick by Herman Melville 1851\n",
      "text2: Sense and Sensibility by Jane Austen 1811\n",
      "text3: The Book of Genesis\n",
      "text4: Inaugural Address Corpus\n",
      "text5: Chat Corpus\n",
      "text6: Monty Python and the Holy Grail\n",
      "text7: Wall Street Journal\n",
      "text8: Personals Corpus\n",
      "text9: The Man Who Was Thursday by G . K . Chesterton 1908\n"
     ]
    },
    {
     "data": {
      "text/plain": [
       "True"
      ]
     },
     "execution_count": 42,
     "metadata": {},
     "output_type": "execute_result"
    }
   ],
   "source": [
    "import nltk\n",
    "from nltk.book import *\n",
    "nltk.download('book', quiet = True)"
   ]
  },
  {
   "cell_type": "markdown",
   "id": "507914ad",
   "metadata": {},
   "source": [
    "## 반복문\n",
    "- for, while\n",
    "\n",
    "### while\n",
    "- 어떤 조건이 만족될 때까지 블록 수행\n",
    "- 해당 조건이 거짓이면 수행을 멈춘다\n",
    "    - 언제 빠져나오는지 정확히 알아야 한다.\n",
    "- for + if 의 형태라고 생각하면 됨\n",
    "\n",
    "#### for과 while문의 차이점\n",
    "- for loop: 반복 횟수가 정확하며, 변하지 않을 때 사용\n",
    "    - 예: 전체 학생 성적 산출\n",
    "- while loop: 반복 횟수가 정확하지 않고, 어떤 조건을 만족시킬 때 프로그램을 종료하고 싶다면 사용\n",
    "    - 예: 가위바위보로 이기면 종료"
   ]
  },
  {
   "cell_type": "code",
   "execution_count": 5,
   "id": "ef5b32fe",
   "metadata": {
    "scrolled": true
   },
   "outputs": [
    {
     "name": "stdout",
     "output_type": "stream",
     "text": [
      "0\n",
      "1\n",
      "2\n",
      "3\n",
      "4\n",
      "5\n",
      "6\n",
      "7\n",
      "8\n",
      "9\n"
     ]
    }
   ],
   "source": [
    "for i in range(10):\n",
    "    print(i)"
   ]
  },
  {
   "cell_type": "code",
   "execution_count": 6,
   "id": "a565c3c0",
   "metadata": {},
   "outputs": [
    {
     "name": "stdout",
     "output_type": "stream",
     "text": [
      "0\n",
      "1\n",
      "2\n",
      "3\n",
      "4\n"
     ]
    }
   ],
   "source": [
    "j = 0\n",
    "while j < 5: \n",
    "    print(j)\n",
    "    j += 1"
   ]
  },
  {
   "cell_type": "code",
   "execution_count": 7,
   "id": "42db2b40",
   "metadata": {},
   "outputs": [
    {
     "data": {
      "text/plain": [
       "5"
      ]
     },
     "execution_count": 7,
     "metadata": {},
     "output_type": "execute_result"
    }
   ],
   "source": [
    "# j 값은? 5 (j = 4 값에 +1 된 상태이기 때문)\n",
    "\n",
    "j"
   ]
  },
  {
   "cell_type": "code",
   "execution_count": 10,
   "id": "617c0651",
   "metadata": {},
   "outputs": [
    {
     "name": "stdout",
     "output_type": "stream",
     "text": [
      "a\n",
      "b\n",
      "c\n"
     ]
    }
   ],
   "source": [
    "characters = ['a','b','c']\n",
    "for ch in characters:\n",
    "    print(ch)"
   ]
  },
  {
   "cell_type": "markdown",
   "id": "fd47440b",
   "metadata": {},
   "source": [
    "while문으로 바꾸기"
   ]
  },
  {
   "cell_type": "code",
   "execution_count": 11,
   "id": "fcc1e00c",
   "metadata": {},
   "outputs": [
    {
     "name": "stdout",
     "output_type": "stream",
     "text": [
      "a\n",
      "b\n",
      "c\n"
     ]
    }
   ],
   "source": [
    "ch = 0\n",
    "while ch < len(characters):\n",
    "    print(characters[ch])\n",
    "    ch += 1"
   ]
  },
  {
   "cell_type": "markdown",
   "id": "9a3c76ec",
   "metadata": {},
   "source": [
    "### 반복문의 제어\n",
    "- 의도치 않게 코드를 종료시킬 수 있기 때문에 되도록 사용하지 않는다.\n",
    "\n",
    "- break: 논리적으로 반복을 종료시키는 방법, break 시점을 잘 알아야 함.\n",
    "- else: 전체를 돌고 나서 끝. \n",
    "     - 어떤 조건이 완전히 끝났을 때 한 번 더 실행. break과 구분\n",
    "- continue: 특정 조건을 건너뛰고 다음 조건 수행"
   ]
  },
  {
   "cell_type": "code",
   "execution_count": 104,
   "id": "451a5a8e",
   "metadata": {},
   "outputs": [
    {
     "name": "stdout",
     "output_type": "stream",
     "text": [
      "0\n",
      "1\n",
      "2\n",
      "3\n",
      "4\n",
      "5\n",
      "6\n",
      "7\n",
      "8\n",
      "9\n",
      "ended\n"
     ]
    }
   ],
   "source": [
    "for i in range(10):\n",
    "    if i == 16: break # i == 16까지 가지 않으므로 else 실행됨\n",
    "    print(i)\n",
    "else:\n",
    "    print(\"ended\")"
   ]
  },
  {
   "cell_type": "code",
   "execution_count": 13,
   "id": "ea4c8fe7",
   "metadata": {},
   "outputs": [
    {
     "name": "stdout",
     "output_type": "stream",
     "text": [
      "0\n",
      "1\n",
      "2\n",
      "3\n",
      "4\n",
      "5\n"
     ]
    }
   ],
   "source": [
    "for i in range(10):\n",
    "    if i == 6: break # i == 6에서 종료되므로 else 실행 X\n",
    "    print(i)\n",
    "else:\n",
    "    print(\"ended\")"
   ]
  },
  {
   "cell_type": "code",
   "execution_count": 100,
   "id": "6875c5f7",
   "metadata": {},
   "outputs": [
    {
     "name": "stdout",
     "output_type": "stream",
     "text": [
      "0\n",
      "1\n",
      "2\n",
      "3\n",
      "4\n"
     ]
    }
   ],
   "source": [
    "j = 0\n",
    "while j < 5: \n",
    "    print(j)\n",
    "    if j == 4: break\n",
    "    j += 1\n",
    "else:\n",
    "    print(\"\")"
   ]
  },
  {
   "cell_type": "code",
   "execution_count": 101,
   "id": "e24363f8",
   "metadata": {
    "scrolled": true
   },
   "outputs": [
    {
     "data": {
      "text/plain": [
       "4"
      ]
     },
     "execution_count": 101,
     "metadata": {},
     "output_type": "execute_result"
    }
   ],
   "source": [
    "j # j == 4에서 종료되었으므로 그대로 4"
   ]
  },
  {
   "cell_type": "markdown",
   "id": "3c42449d",
   "metadata": {},
   "source": [
    "continue"
   ]
  },
  {
   "cell_type": "code",
   "execution_count": 102,
   "id": "b1ce646b",
   "metadata": {},
   "outputs": [
    {
     "name": "stdout",
     "output_type": "stream",
     "text": [
      "0\n",
      "1\n",
      "2\n",
      "3\n",
      "4\n",
      "5\n",
      "7\n",
      "8\n",
      "9\n",
      "ended\n"
     ]
    }
   ],
   "source": [
    "for i in range(10):\n",
    "    if i == 6: continue\n",
    "    print(i)\n",
    "else:\n",
    "    print(\"ended\")"
   ]
  },
  {
   "cell_type": "markdown",
   "id": "ecd01b1d",
   "metadata": {},
   "source": [
    "### Quiz 실습: 구구단\n",
    "- 1. for, while 선택해서 n 입력받아 n단 출력\n",
    "    - 출력: == 3단 ==\n",
    "        3 x 1 = 3\n",
    "        3 x 2 = 6\n",
    "        ...\n",
    "        3 x 9 = 27\n",
    "        \n",
    "- 2. 1 ~ n단까지 출력\n",
    "- 3. 시작단, 끝단 둘다 입력받기\n",
    "    - 예: 4 ~ 7단\n",
    "    - 끝 단이 시작 단보다 작을 때 어떻게 처리할지\n",
    "    \n",
    "- 4. 프로그램으로 만든다.\n",
    "    - 1) n단  2) 1-n단  3) n-m단\n",
    "    - 3번 -> n, m -> ...\n",
    "    - 메뉴에 없는 선택 처리"
   ]
  },
  {
   "cell_type": "markdown",
   "id": "96b81dba",
   "metadata": {},
   "source": [
    "1. "
   ]
  },
  {
   "cell_type": "code",
   "execution_count": 68,
   "id": "7ecaada4",
   "metadata": {},
   "outputs": [
    {
     "name": "stdout",
     "output_type": "stream",
     "text": [
      "몇 단을 출력하시겠습니까?: 2\n",
      "===2단 ===\n",
      "2 x 1 = 2\n",
      "2 x 2 = 4\n",
      "2 x 3 = 6\n",
      "2 x 4 = 8\n",
      "2 x 5 = 10\n",
      "2 x 6 = 12\n",
      "2 x 7 = 14\n",
      "2 x 8 = 16\n",
      "2 x 9 = 18\n"
     ]
    }
   ],
   "source": [
    "num = int(input('몇 단을 출력하시겠습니까?: '))\n",
    "print(f'==={num}단 ===')\n",
    "\n",
    "for i in range(1,10):\n",
    "    print(f'{num} x {i} = {num * i}')"
   ]
  },
  {
   "cell_type": "markdown",
   "id": "f8bcc42f",
   "metadata": {},
   "source": [
    "2. "
   ]
  },
  {
   "cell_type": "code",
   "execution_count": 21,
   "id": "9a3497eb",
   "metadata": {},
   "outputs": [
    {
     "name": "stdout",
     "output_type": "stream",
     "text": [
      "몇 단까지 출력할까요?: 3\n",
      "===2단===\n",
      "2 x 1 = 2\n",
      "2 x 2 = 4\n",
      "2 x 3 = 6\n",
      "2 x 4 = 8\n",
      "2 x 5 = 10\n",
      "2 x 6 = 12\n",
      "2 x 7 = 14\n",
      "2 x 8 = 16\n",
      "2 x 9 = 18\n",
      "===3단===\n",
      "3 x 1 = 3\n",
      "3 x 2 = 6\n",
      "3 x 3 = 9\n",
      "3 x 4 = 12\n",
      "3 x 5 = 15\n",
      "3 x 6 = 18\n",
      "3 x 7 = 21\n",
      "3 x 8 = 24\n",
      "3 x 9 = 27\n"
     ]
    }
   ],
   "source": [
    "n = int(input('몇 단까지 출력할까요?: '))\n",
    "\n",
    "for i in range(2, n+1):\n",
    "    print(f'==={i}단===')\n",
    "    for j in range(1, 10):\n",
    "        print(f'{i} x {j} = {i * j}')"
   ]
  },
  {
   "cell_type": "markdown",
   "id": "09fdf0a8",
   "metadata": {},
   "source": [
    "3."
   ]
  },
  {
   "cell_type": "code",
   "execution_count": 33,
   "id": "d422d231",
   "metadata": {},
   "outputs": [
    {
     "name": "stdout",
     "output_type": "stream",
     "text": [
      "몇 단부터?: 4\n",
      "몇 단까지?: 3\n",
      "숫자를 다시 입력해주세요.\n",
      "몇 단부터?: 2\n",
      "몇 단까지?: 4\n",
      "===2단===\n",
      "2 x 1 = 2\n",
      "2 x 2 = 4\n",
      "2 x 3 = 6\n",
      "2 x 4 = 8\n",
      "2 x 5 = 10\n",
      "2 x 6 = 12\n",
      "2 x 7 = 14\n",
      "2 x 8 = 16\n",
      "2 x 9 = 18\n",
      "===3단===\n",
      "3 x 1 = 3\n",
      "3 x 2 = 6\n",
      "3 x 3 = 9\n",
      "3 x 4 = 12\n",
      "3 x 5 = 15\n",
      "3 x 6 = 18\n",
      "3 x 7 = 21\n",
      "3 x 8 = 24\n",
      "3 x 9 = 27\n",
      "===4단===\n",
      "4 x 1 = 4\n",
      "4 x 2 = 8\n",
      "4 x 3 = 12\n",
      "4 x 4 = 16\n",
      "4 x 5 = 20\n",
      "4 x 6 = 24\n",
      "4 x 7 = 28\n",
      "4 x 8 = 32\n",
      "4 x 9 = 36\n"
     ]
    }
   ],
   "source": [
    "while True:\n",
    "    start = int(input('몇 단부터?: '))\n",
    "    end = int(input('몇 단까지?: '))\n",
    "    \n",
    "    if start >= end:\n",
    "        print('숫자를 다시 입력해주세요.')\n",
    "    else:\n",
    "        for i in range(start, end + 1):\n",
    "            print(f'==={i}단===')\n",
    "            for j in range(1, 10):\n",
    "                print(f'{i} x {j} = {i*j}')\n",
    "        break"
   ]
  },
  {
   "cell_type": "markdown",
   "id": "30a15d44",
   "metadata": {},
   "source": [
    "4."
   ]
  },
  {
   "cell_type": "code",
   "execution_count": 82,
   "id": "8a2ce297",
   "metadata": {},
   "outputs": [
    {
     "name": "stdout",
     "output_type": "stream",
     "text": [
      "원하는 옵션 번호를 입력하세요: 4\n",
      "옵션 번호는 1부터 3까지만 입력해주세요.\n",
      "원하는 옵션 번호를 입력하세요: 3\n",
      "몇 단부터?: 2\n",
      "몇 단까지?: 4\n",
      "===2단===\n",
      "2 x 1 = 2\n",
      "2 x 2 = 4\n",
      "2 x 3 = 6\n",
      "2 x 4 = 8\n",
      "2 x 5 = 10\n",
      "2 x 6 = 12\n",
      "2 x 7 = 14\n",
      "2 x 8 = 16\n",
      "2 x 9 = 18\n",
      "===3단===\n",
      "3 x 1 = 3\n",
      "3 x 2 = 6\n",
      "3 x 3 = 9\n",
      "3 x 4 = 12\n",
      "3 x 5 = 15\n",
      "3 x 6 = 18\n",
      "3 x 7 = 21\n",
      "3 x 8 = 24\n",
      "3 x 9 = 27\n",
      "===4단===\n",
      "4 x 1 = 4\n",
      "4 x 2 = 8\n",
      "4 x 3 = 12\n",
      "4 x 4 = 16\n",
      "4 x 5 = 20\n",
      "4 x 6 = 24\n",
      "4 x 7 = 28\n",
      "4 x 8 = 32\n",
      "4 x 9 = 36\n"
     ]
    }
   ],
   "source": [
    "while True:\n",
    "    option = int(input('원하는 옵션 번호를 입력하세요: '))\n",
    "    if option == 1:\n",
    "        num = int(input('몇 단을 출력하시겠습니까?: '))\n",
    "        print(f'==={num}단 ===')\n",
    "        for i in range(1,10):\n",
    "            print(f'{num} x {i} = {num * i}')\n",
    "        break\n",
    "    \n",
    "    elif option == 2:\n",
    "        num = int(input('몇 단까지 출력할까요?: '))\n",
    "        for i in range(2, num + 1):\n",
    "            print(f'==={i}단===')\n",
    "            for j in range(1, 10):\n",
    "                print(f'{i} x {j} = {i * j}')\n",
    "        break\n",
    "        \n",
    "    elif option == 3:\n",
    "        while True:\n",
    "            start = int(input('몇 단부터?: '))\n",
    "            end = int(input('몇 단까지?: '))\n",
    "            if start >= end:\n",
    "                print('숫자를 다시 입력해주세요.')\n",
    "            else:\n",
    "                for i in range(start, end + 1):\n",
    "                    print(f'==={i}단===')\n",
    "                    for j in range(1, 10):\n",
    "                        print(f'{i} x {j} = {i*j}')\n",
    "                break\n",
    "        break\n",
    "            \n",
    "    else:\n",
    "        print('옵션 번호는 1부터 3까지만 입력해주세요.')"
   ]
  },
  {
   "cell_type": "markdown",
   "id": "f0d9e95b",
   "metadata": {},
   "source": [
    "### print formatting\n",
    "- 1. f string\n",
    "    - f, F 모두 사용 가능\n",
    "        - 형태: f'{변수}'\n",
    "- 2. format\n",
    "    - '{}'.format(var)\n",
    "- 3. %\n",
    "    - '%type' % var\n",
    "    \n",
    "    \n",
    "- print(\",a,\",b) => 오답\n",
    "- 방법 1,2 추천"
   ]
  },
  {
   "cell_type": "code",
   "execution_count": 8,
   "id": "f3433986",
   "metadata": {},
   "outputs": [
    {
     "name": "stdout",
     "output_type": "stream",
     "text": [
      "나의 이름은 yang!\n"
     ]
    }
   ],
   "source": [
    "name = 'yang'\n",
    "print(f'나의 이름은 {name}!')"
   ]
  },
  {
   "cell_type": "code",
   "execution_count": 9,
   "id": "fa8c1d57",
   "metadata": {},
   "outputs": [
    {
     "name": "stdout",
     "output_type": "stream",
     "text": [
      "너의 이름은 yang?\n"
     ]
    }
   ],
   "source": [
    "print('너의 이름은 {}?'.format(name))"
   ]
  },
  {
   "cell_type": "code",
   "execution_count": 10,
   "id": "aabfc520",
   "metadata": {},
   "outputs": [
    {
     "name": "stdout",
     "output_type": "stream",
     "text": [
      "나의 이름은 yang입니다.\n"
     ]
    }
   ],
   "source": [
    "print('나의 이름은 %s입니다.' %name)"
   ]
  },
  {
   "cell_type": "code",
   "execution_count": 12,
   "id": "f9474d27",
   "metadata": {},
   "outputs": [
    {
     "name": "stdout",
     "output_type": "stream",
     "text": [
      "나의 이름은 name = 'yang'!\n"
     ]
    }
   ],
   "source": [
    "# '=' 사용하면 변수명(name)까지 동시에 출력됨\n",
    "\n",
    "print(f'나의 이름은 {name = }!')"
   ]
  },
  {
   "cell_type": "markdown",
   "id": "b455966c",
   "metadata": {},
   "source": [
    "#### 소수점 출력\n",
    "- 문자열의 경우 {:.ns}\n",
    "- 숫자의 경우: {:.nf}"
   ]
  },
  {
   "cell_type": "code",
   "execution_count": 18,
   "id": "979c275b",
   "metadata": {},
   "outputs": [
    {
     "name": "stdout",
     "output_type": "stream",
     "text": [
      "너의 이름은 y ???\n",
      "너의 이름은 y ???\n"
     ]
    }
   ],
   "source": [
    "print('너의 이름은 {:.1s} ???'.format(name))\n",
    "\n",
    "# f스트링\n",
    "print(f'너의 이름은 {name:.1s} ???')"
   ]
  },
  {
   "cell_type": "code",
   "execution_count": 15,
   "id": "8db369b6",
   "metadata": {},
   "outputs": [
    {
     "name": "stdout",
     "output_type": "stream",
     "text": [
      "숫자는 110.22\n"
     ]
    }
   ],
   "source": [
    "num = 110.221\n",
    "print(f'숫자는 {num:.2f}')"
   ]
  },
  {
   "cell_type": "markdown",
   "id": "8a38c5f4",
   "metadata": {},
   "source": [
    "### NLTK: Corpus\n",
    "- 다양한 종류의 코퍼스 有, 테마 o\n",
    "- 더 다양한 언어 분석 가능\n",
    "- 종류\n",
    "    - gutenberg\n",
    "    - brown\n",
    "    - inaugural\n",
    "- 함수\n",
    "    - words()\n",
    "    - sents()\n",
    "    - fileids()\n",
    "    - raw()"
   ]
  },
  {
   "cell_type": "code",
   "execution_count": 35,
   "id": "26746b3e",
   "metadata": {},
   "outputs": [
    {
     "data": {
      "text/plain": [
       "True"
      ]
     },
     "execution_count": 35,
     "metadata": {},
     "output_type": "execute_result"
    }
   ],
   "source": [
    "import nltk\n",
    "from nltk.corpus import gutenberg\n",
    "nltk.download('gutenberg', quiet = True)"
   ]
  },
  {
   "cell_type": "code",
   "execution_count": 38,
   "id": "b9f6744d",
   "metadata": {},
   "outputs": [
    {
     "data": {
      "text/plain": [
       "['[', 'Emma', 'by', 'Jane', 'Austen', '1816', ']', ...]"
      ]
     },
     "execution_count": 38,
     "metadata": {},
     "output_type": "execute_result"
    }
   ],
   "source": [
    "# nltk.book은 tokens()로, gutenberg는 words()로 접근\n",
    "\n",
    "gutenberg.words() "
   ]
  },
  {
   "cell_type": "code",
   "execution_count": 37,
   "id": "f17970f1",
   "metadata": {},
   "outputs": [
    {
     "data": {
      "text/plain": [
       "['austen-emma.txt',\n",
       " 'austen-persuasion.txt',\n",
       " 'austen-sense.txt',\n",
       " 'bible-kjv.txt',\n",
       " 'blake-poems.txt',\n",
       " 'bryant-stories.txt',\n",
       " 'burgess-busterbrown.txt',\n",
       " 'carroll-alice.txt',\n",
       " 'chesterton-ball.txt',\n",
       " 'chesterton-brown.txt',\n",
       " 'chesterton-thursday.txt',\n",
       " 'edgeworth-parents.txt',\n",
       " 'melville-moby_dick.txt',\n",
       " 'milton-paradise.txt',\n",
       " 'shakespeare-caesar.txt',\n",
       " 'shakespeare-hamlet.txt',\n",
       " 'shakespeare-macbeth.txt',\n",
       " 'whitman-leaves.txt']"
      ]
     },
     "execution_count": 37,
     "metadata": {},
     "output_type": "execute_result"
    }
   ],
   "source": [
    "gutenberg.fileids()"
   ]
  },
  {
   "cell_type": "markdown",
   "id": "080a346f",
   "metadata": {},
   "source": [
    "#### Mini Quiz. 구텐버그의 각 파일을 돌아가면서 글자 수, 단어 수, 문장 수를 출력합니다.\n",
    "\n",
    "ex. austen=emma | 글자 수 = 12개, 단어 수 = 14개, 문장 수 = 15개\n",
    "..."
   ]
  },
  {
   "cell_type": "code",
   "execution_count": 39,
   "id": "d8873a56",
   "metadata": {},
   "outputs": [
    {
     "name": "stdout",
     "output_type": "stream",
     "text": [
      "192427 7752 887071\n",
      "98171 3747 466292\n",
      "141576 4999 673022\n",
      "1010654 30103 4332554\n",
      "8354 438 38153\n",
      "55563 2863 249439\n",
      "18963 1054 84663\n",
      "34110 1703 144395\n",
      "96996 4779 457450\n",
      "86063 3806 406629\n",
      "69213 3742 320525\n",
      "210663 10230 935158\n",
      "260819 10059 1242990\n",
      "96825 1851 468220\n",
      "25833 2163 112310\n",
      "37360 3106 162881\n",
      "23140 1907 100351\n",
      "154883 4250 711215\n"
     ]
    }
   ],
   "source": [
    "for files in gutenberg.fileids():\n",
    "    words = len(gutenberg.words(files))\n",
    "    sent = len(gutenberg.sents(files))\n",
    "    raw = len(gutenberg.raw(files))\n",
    "    \n",
    "    print(words, sent, raw)"
   ]
  },
  {
   "cell_type": "code",
   "execution_count": 56,
   "id": "40677d88",
   "metadata": {},
   "outputs": [],
   "source": [
    "corpus1 = gutenberg.words(fileids = 'whitman-leaves.txt') # words 접근\n",
    "fdist = nltk.FreqDist([w.lower() for w in corpus1]) # frequency distribution"
   ]
  },
  {
   "cell_type": "code",
   "execution_count": 57,
   "id": "01bc09a9",
   "metadata": {},
   "outputs": [
    {
     "data": {
      "text/plain": [
       "28"
      ]
     },
     "execution_count": 57,
     "metadata": {},
     "output_type": "execute_result"
    }
   ],
   "source": [
    "fdist['tree'] # 원하는 단어의 distribution 알아낼 수 있음"
   ]
  },
  {
   "cell_type": "markdown",
   "id": "9bb79595",
   "metadata": {},
   "source": [
    "### +) nltk.book 관련\n",
    "\n",
    "texts = [text1, ..., ]\n",
    "- 1. text1-9 => str 'text1'\n",
    "- 2. 'text1'에 기능을 부여한다. \n",
    "    - 형태: getattr(library, string_name)"
   ]
  },
  {
   "cell_type": "markdown",
   "id": "82226bcc",
   "metadata": {},
   "source": [
    "text1 vs. 'text1'"
   ]
  },
  {
   "cell_type": "code",
   "execution_count": 40,
   "id": "f2db32fc",
   "metadata": {},
   "outputs": [
    {
     "data": {
      "text/plain": [
       "['text1',\n",
       " 'text2',\n",
       " 'text3',\n",
       " 'text4',\n",
       " 'text5',\n",
       " 'text6',\n",
       " 'text7',\n",
       " 'text8',\n",
       " 'text9']"
      ]
     },
     "execution_count": 40,
     "metadata": {},
     "output_type": "execute_result"
    }
   ],
   "source": [
    "texts = [f'text{i}' for i in range(1, 10)]\n",
    "texts"
   ]
  },
  {
   "cell_type": "code",
   "execution_count": 43,
   "id": "98a9fab5",
   "metadata": {},
   "outputs": [
    {
     "data": {
      "text/plain": [
       "[<Text: Moby Dick by Herman Melville 1851>,\n",
       " <Text: Sense and Sensibility by Jane Austen 1811>,\n",
       " <Text: The Book of Genesis>,\n",
       " <Text: Inaugural Address Corpus>,\n",
       " <Text: Chat Corpus>,\n",
       " <Text: Monty Python and the Holy Grail>,\n",
       " <Text: Wall Street Journal>,\n",
       " <Text: Personals Corpus>,\n",
       " <Text: The Man Who Was Thursday by G . K . Chesterton 1908>]"
      ]
     },
     "execution_count": 43,
     "metadata": {},
     "output_type": "execute_result"
    }
   ],
   "source": [
    "texts = [getattr(nltk.book, f'text{i}') for i in range(1, 10)]\n",
    "texts"
   ]
  },
  {
   "cell_type": "code",
   "execution_count": 47,
   "id": "e208e2e1",
   "metadata": {},
   "outputs": [
    {
     "data": {
      "text/plain": [
       "<Text: Moby Dick by Herman Melville 1851>"
      ]
     },
     "execution_count": 47,
     "metadata": {},
     "output_type": "execute_result"
    }
   ],
   "source": [
    "texts[0]"
   ]
  },
  {
   "cell_type": "markdown",
   "id": "6d23ce3b",
   "metadata": {},
   "source": [
    "Brown\n",
    "- fileid()가 아닌 categories()\n",
    "- 브라운 대학교에서 만든 코퍼스"
   ]
  },
  {
   "cell_type": "code",
   "execution_count": 50,
   "id": "34d43129",
   "metadata": {},
   "outputs": [
    {
     "name": "stderr",
     "output_type": "stream",
     "text": [
      "[nltk_data] Downloading package brown to\n",
      "[nltk_data]     C:\\Users\\user\\AppData\\Roaming\\nltk_data...\n",
      "[nltk_data]   Package brown is already up-to-date!\n"
     ]
    }
   ],
   "source": [
    "from nltk.corpus import brown\n",
    "nltk.download('brown')\n",
    "brown_corpus = nltk.corpus.brown \n",
    "\n",
    "# brown_corpus와 같이, 이름 설정은 마음대로"
   ]
  },
  {
   "cell_type": "code",
   "execution_count": 51,
   "id": "04dda4d3",
   "metadata": {},
   "outputs": [
    {
     "data": {
      "text/plain": [
       "['adventure',\n",
       " 'belles_lettres',\n",
       " 'editorial',\n",
       " 'fiction',\n",
       " 'government',\n",
       " 'hobbies',\n",
       " 'humor',\n",
       " 'learned',\n",
       " 'lore',\n",
       " 'mystery',\n",
       " 'news',\n",
       " 'religion',\n",
       " 'reviews',\n",
       " 'romance',\n",
       " 'science_fiction']"
      ]
     },
     "execution_count": 51,
     "metadata": {},
     "output_type": "execute_result"
    }
   ],
   "source": [
    "brown_corpus.categories()"
   ]
  },
  {
   "cell_type": "code",
   "execution_count": 53,
   "id": "8257d854",
   "metadata": {},
   "outputs": [
    {
     "data": {
      "text/plain": [
       "['It', 'was', 'among', 'these', 'that', 'Hinkle', ...]"
      ]
     },
     "execution_count": 53,
     "metadata": {},
     "output_type": "execute_result"
    }
   ],
   "source": [
    "# 변수명 지정('humor')\n",
    "humor = brown_corpus.words(categories = 'humor')\n",
    "humor"
   ]
  },
  {
   "cell_type": "markdown",
   "id": "dd813ea4",
   "metadata": {},
   "source": [
    "#### moda verbs의 쓰임"
   ]
  },
  {
   "cell_type": "code",
   "execution_count": 58,
   "id": "df452520",
   "metadata": {},
   "outputs": [
    {
     "name": "stdout",
     "output_type": "stream",
     "text": [
      "can 17\n",
      "could 33\n",
      "may 8\n",
      "might 8\n",
      "will 13\n",
      "would 56\n"
     ]
    }
   ],
   "source": [
    "# freq-dist 알아보기 \n",
    "\n",
    "modals = ['can', 'could', 'may', 'might', 'will', 'would']\n",
    "\n",
    "fdist_brown = nltk.FreqDist([w.lower() for w in humor]) # lower() 중요!\n",
    "\n",
    "for verb in modals:\n",
    "    print(verb, fdist_brown[verb])"
   ]
  },
  {
   "cell_type": "markdown",
   "id": "edf8b6c0",
   "metadata": {},
   "source": [
    "#### conditional frequency distribution(CFD)\n",
    "- '조건이 붙은' fdist"
   ]
  },
  {
   "cell_type": "code",
   "execution_count": 59,
   "id": "47afb5fa",
   "metadata": {},
   "outputs": [],
   "source": [
    "cfd = nltk.ConditionalFreqDist(\n",
    "    # genre에 따른 fdist\n",
    "    (genre, word.lower()) # genre, word에 대해 각각 정의\n",
    "    for genre in brown_corpus.categories() \n",
    "    for word in brown_corpus.words(categories = genre)\n",
    "                                  )                  "
   ]
  },
  {
   "cell_type": "code",
   "execution_count": 61,
   "id": "e57841a0",
   "metadata": {},
   "outputs": [
    {
     "data": {
      "text/plain": [
       "FreqDist({'.': 4057, 'the': 3780, ',': 3488, 'and': 1706, 'a': 1432, 'of': 1327, 'to': 1322, 'he': 1283, '``': 998, \"''\": 995, ...})"
      ]
     },
     "execution_count": 61,
     "metadata": {},
     "output_type": "execute_result"
    }
   ],
   "source": [
    "cfd['adventure']"
   ]
  },
  {
   "cell_type": "code",
   "execution_count": 60,
   "id": "e836befa",
   "metadata": {},
   "outputs": [
    {
     "data": {
      "text/plain": [
       "[('.', 4057),\n",
       " ('the', 3780),\n",
       " (',', 3488),\n",
       " ('and', 1706),\n",
       " ('a', 1432),\n",
       " ('of', 1327),\n",
       " ('to', 1322),\n",
       " ('he', 1283),\n",
       " ('``', 998),\n",
       " (\"''\", 995)]"
      ]
     },
     "execution_count": 60,
     "metadata": {},
     "output_type": "execute_result"
    }
   ],
   "source": [
    "cfd['adventure'].most_common(10)"
   ]
  },
  {
   "cell_type": "code",
   "execution_count": 66,
   "id": "2b27ad46",
   "metadata": {},
   "outputs": [
    {
     "name": "stdout",
     "output_type": "stream",
     "text": [
      "                 can could   may might  will would \n",
      "     adventure    48   154     7    59    51   194 \n",
      "belles_lettres   249   216   221   113   246   397 \n",
      "     editorial   124    57    79    39   235   185 \n"
     ]
    }
   ],
   "source": [
    "# tabulate(): fdist를 표로 보여주는 함수\n",
    "\n",
    "cfd.tabulate(conditions = brown_corpus.categories()[:3], samples = modals)"
   ]
  }
 ],
 "metadata": {
  "kernelspec": {
   "display_name": "Python 3 (ipykernel)",
   "language": "python",
   "name": "python3"
  },
  "language_info": {
   "codemirror_mode": {
    "name": "ipython",
    "version": 3
   },
   "file_extension": ".py",
   "mimetype": "text/x-python",
   "name": "python",
   "nbconvert_exporter": "python",
   "pygments_lexer": "ipython3",
   "version": "3.9.7"
  }
 },
 "nbformat": 4,
 "nbformat_minor": 5
}
