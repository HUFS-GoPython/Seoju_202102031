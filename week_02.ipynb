{
 "cells": [
  {
   "cell_type": "markdown",
   "id": "493f02a2",
   "metadata": {},
   "source": [
    "# Ch2. Variables"
   ]
  },
  {
   "cell_type": "markdown",
   "id": "c6746afd",
   "metadata": {},
   "source": [
    "### 자료형 변환하기\n",
    "- int, str, float, bool\n",
    "- type()으로 감싸면 됨 (type에 변환하고 싶은 자료형 이름 넣기)"
   ]
  },
  {
   "cell_type": "code",
   "execution_count": 2,
   "id": "26f5ca44",
   "metadata": {},
   "outputs": [
    {
     "data": {
      "text/plain": [
       "int"
      ]
     },
     "execution_count": 2,
     "metadata": {},
     "output_type": "execute_result"
    }
   ],
   "source": [
    "a = 10\n",
    "type(a)"
   ]
  },
  {
   "cell_type": "code",
   "execution_count": 3,
   "id": "4168a00c",
   "metadata": {},
   "outputs": [
    {
     "data": {
      "text/plain": [
       "10.0"
      ]
     },
     "execution_count": 3,
     "metadata": {},
     "output_type": "execute_result"
    }
   ],
   "source": [
    "# int -> float 정수를 소수로\n",
    "float(a)"
   ]
  },
  {
   "cell_type": "code",
   "execution_count": 4,
   "id": "cabf9ac3",
   "metadata": {},
   "outputs": [
    {
     "data": {
      "text/plain": [
       "'10'"
      ]
     },
     "execution_count": 4,
     "metadata": {},
     "output_type": "execute_result"
    }
   ],
   "source": [
    "# int -> str 정수를 문자로(''로 감싸짐)\n",
    "str(a)"
   ]
  },
  {
   "cell_type": "code",
   "execution_count": 5,
   "id": "b1fb8952",
   "metadata": {},
   "outputs": [
    {
     "data": {
      "text/plain": [
       "True"
      ]
     },
     "execution_count": 5,
     "metadata": {},
     "output_type": "execute_result"
    }
   ],
   "source": [
    "# int -> bool\n",
    "bool(10)"
   ]
  },
  {
   "cell_type": "code",
   "execution_count": 39,
   "id": "6a05365f",
   "metadata": {},
   "outputs": [
    {
     "data": {
      "text/plain": [
       "10"
      ]
     },
     "execution_count": 39,
     "metadata": {},
     "output_type": "execute_result"
    }
   ],
   "source": [
    "# float -> int: 정수형으로 변환 시 소수점 이하 값은 버림 (ex.10.6 => 10)\n",
    "int(10.6)"
   ]
  },
  {
   "cell_type": "code",
   "execution_count": 7,
   "id": "d686700a",
   "metadata": {},
   "outputs": [
    {
     "name": "stdout",
     "output_type": "stream",
     "text": [
      "12\n",
      "11\n"
     ]
    }
   ],
   "source": [
    "x = 4.6\n",
    "y = 7.9\n",
    "\n",
    "print(int(x + y)) # 4.6에 7.9를 더한 후 소수점을 버리므로 12.5 -> 12\n",
    "print(int(x) + int(y)) # 각각 소수점을 버리고 더하므로 4 + 7 = 11"
   ]
  },
  {
   "cell_type": "code",
   "execution_count": 40,
   "id": "dd67b235",
   "metadata": {},
   "outputs": [
    {
     "ename": "ValueError",
     "evalue": "invalid literal for int() with base 10: '88.3'",
     "output_type": "error",
     "traceback": [
      "\u001b[1;31m---------------------------------------------------------------------------\u001b[0m",
      "\u001b[1;31mValueError\u001b[0m                                Traceback (most recent call last)",
      "\u001b[1;32m~\\AppData\\Local\\Temp/ipykernel_7816/545562718.py\u001b[0m in \u001b[0;36m<module>\u001b[1;34m\u001b[0m\n\u001b[0;32m      1\u001b[0m \u001b[1;31m# str -> int\u001b[0m\u001b[1;33m\u001b[0m\u001b[1;33m\u001b[0m\u001b[0m\n\u001b[0;32m      2\u001b[0m \u001b[0mp\u001b[0m \u001b[1;33m=\u001b[0m \u001b[1;34m'88.3'\u001b[0m\u001b[1;33m\u001b[0m\u001b[1;33m\u001b[0m\u001b[0m\n\u001b[1;32m----> 3\u001b[1;33m \u001b[0mint\u001b[0m\u001b[1;33m(\u001b[0m\u001b[0mp\u001b[0m\u001b[1;33m)\u001b[0m\u001b[1;33m\u001b[0m\u001b[1;33m\u001b[0m\u001b[0m\n\u001b[0m",
      "\u001b[1;31mValueError\u001b[0m: invalid literal for int() with base 10: '88.3'"
     ]
    }
   ],
   "source": [
    "# str -> int\n",
    "p = '88.3'\n",
    "int(p)\n",
    "# 오류 발생: '88.3'을 숫자로 변환하려면 float으로 변환해야 함"
   ]
  },
  {
   "cell_type": "code",
   "execution_count": 9,
   "id": "e9961268",
   "metadata": {},
   "outputs": [
    {
     "data": {
      "text/plain": [
       "88.3"
      ]
     },
     "execution_count": 9,
     "metadata": {},
     "output_type": "execute_result"
    }
   ],
   "source": [
    "float(p)"
   ]
  },
  {
   "cell_type": "markdown",
   "id": "3075a41c",
   "metadata": {},
   "source": [
    "## tip\n",
    "- print()\n",
    "- 출력 시 줄바꿈, 연결, 마무리"
   ]
  },
  {
   "cell_type": "code",
   "execution_count": 10,
   "id": "f9ac801f",
   "metadata": {},
   "outputs": [
    {
     "name": "stdout",
     "output_type": "stream",
     "text": [
      "orange apple tomato\n",
      "the next line\n"
     ]
    }
   ],
   "source": [
    "print('orange', 'apple', 'tomato') # default: 띄어쓰기, 줄바꾸기\n",
    "print(\"the next line\")"
   ]
  },
  {
   "cell_type": "code",
   "execution_count": 42,
   "id": "b71ea956",
   "metadata": {},
   "outputs": [
    {
     "name": "stdout",
     "output_type": "stream",
     "text": [
      "orangeappletomato\n",
      "orange apple tomato\n",
      "orange_apple_tomato\n",
      "\n",
      "E0L\n"
     ]
    }
   ],
   "source": [
    "orange = 'orange'\n",
    "apple = 'apple'\n",
    "tomato = 'tomato'\n",
    "\n",
    "#1.\n",
    "print(orange + apple + tomato) #'+'로 연결 가능하지만 띄어쓰기 x\n",
    "# sep= (띄어쓰기를 어떻게: 연결자 설정) , end= (끝을 어떻게: 마무리 설정)\n",
    "print(orange, apple, tomato, sep=' ', end='\\n') # default\n",
    "print(orange, apple, tomato, sep='_', end='\\n\\n') # 스페이스(공백) 부분을 _로, 줄바꿈(엔터) 두 번\n",
    "print('E0L')"
   ]
  },
  {
   "cell_type": "code",
   "execution_count": 2,
   "id": "a216bb49",
   "metadata": {},
   "outputs": [],
   "source": [
    "# 라인이 짧을 때 => ';' 사용하여 연결 가능 (많이 쓰이는 방법은 아님)\n",
    "orange = 'orange'; apple = 'apple'; tomato = 'tomato'"
   ]
  },
  {
   "cell_type": "code",
   "execution_count": 45,
   "id": "7209c96d",
   "metadata": {},
   "outputs": [
    {
     "name": "stdout",
     "output_type": "stream",
     "text": [
      "5\n"
     ]
    }
   ],
   "source": [
    "num = 5; print(num)"
   ]
  },
  {
   "cell_type": "markdown",
   "id": "2a636850",
   "metadata": {},
   "source": [
    "## input()\n",
    "- console에서 사용자에게 값을 입력받는 함수\n",
    "- 입출력 관련\n",
    "- 입력받는 값의 타입은 문자열(str)\n",
    "- 입력받은 값을 변수에 담아서 사용 ex. 변수 = input()"
   ]
  },
  {
   "cell_type": "code",
   "execution_count": 1,
   "id": "682e7d81",
   "metadata": {
    "scrolled": false
   },
   "outputs": [
    {
     "name": "stdout",
     "output_type": "stream",
     "text": [
      "What's your name?yang\n"
     ]
    },
    {
     "data": {
      "text/plain": [
       "'yang'"
      ]
     },
     "execution_count": 1,
     "metadata": {},
     "output_type": "execute_result"
    }
   ],
   "source": [
    "input(\"What's your name?\")"
   ]
  },
  {
   "cell_type": "code",
   "execution_count": 46,
   "id": "0ea3ff16",
   "metadata": {
    "scrolled": false
   },
   "outputs": [
    {
     "name": "stdout",
     "output_type": "stream",
     "text": [
      "What's your name?Yang\n"
     ]
    }
   ],
   "source": [
    "#1.\n",
    "name = input(\"What's your name?\")"
   ]
  },
  {
   "cell_type": "code",
   "execution_count": 4,
   "id": "bcec6a4c",
   "metadata": {
    "scrolled": true
   },
   "outputs": [
    {
     "data": {
      "text/plain": [
       "' Yang'"
      ]
     },
     "execution_count": 4,
     "metadata": {},
     "output_type": "execute_result"
    }
   ],
   "source": [
    "name"
   ]
  },
  {
   "cell_type": "code",
   "execution_count": 5,
   "id": "d791cb9d",
   "metadata": {},
   "outputs": [
    {
     "name": "stdout",
     "output_type": "stream",
     "text": [
      "What's your name?\n",
      " Yang\n"
     ]
    }
   ],
   "source": [
    "#2.\n",
    "print(\"What's your name?\")\n",
    "name = input()"
   ]
  },
  {
   "cell_type": "code",
   "execution_count": 6,
   "id": "17d5eaf0",
   "metadata": {},
   "outputs": [
    {
     "name": "stdout",
     "output_type": "stream",
     "text": [
      " Yang\n"
     ]
    }
   ],
   "source": [
    "print(name)"
   ]
  },
  {
   "cell_type": "markdown",
   "id": "8273ceb2",
   "metadata": {},
   "source": [
    "input을 str이 아닌 다른 타입으로 사용하고 싶을 때는 형변환을 미리 해준다.\n",
    "- ex. int(input()): 정수형으로 사용"
   ]
  },
  {
   "cell_type": "code",
   "execution_count": 7,
   "id": "a3f773de",
   "metadata": {},
   "outputs": [
    {
     "name": "stdout",
     "output_type": "stream",
     "text": [
      "How old are you?22\n"
     ]
    }
   ],
   "source": [
    "age = input(\"How old are you?\")"
   ]
  },
  {
   "cell_type": "code",
   "execution_count": 8,
   "id": "8beed0b9",
   "metadata": {},
   "outputs": [
    {
     "data": {
      "text/plain": [
       "str"
      ]
     },
     "execution_count": 8,
     "metadata": {},
     "output_type": "execute_result"
    }
   ],
   "source": [
    "type(age)"
   ]
  },
  {
   "cell_type": "code",
   "execution_count": 6,
   "id": "172a8f7f",
   "metadata": {},
   "outputs": [
    {
     "name": "stdout",
     "output_type": "stream",
     "text": [
      "How old are you?22\n"
     ]
    }
   ],
   "source": [
    "age = int(input(\"How old are you?\"))"
   ]
  },
  {
   "cell_type": "code",
   "execution_count": 12,
   "id": "310d4a89",
   "metadata": {},
   "outputs": [
    {
     "name": "stdout",
     "output_type": "stream",
     "text": [
      "당신이 태어난 해는 2001 입니다.\n"
     ]
    }
   ],
   "source": [
    "print('당신이 태어난 해는', 2022 - age + 1, '입니다.') # 입력값 22가 int형이 되어 연산 가능해짐"
   ]
  },
  {
   "cell_type": "markdown",
   "id": "ecdbf533",
   "metadata": {},
   "source": [
    "## printing"
   ]
  },
  {
   "cell_type": "code",
   "execution_count": 7,
   "id": "f8a7d6a6",
   "metadata": {
    "scrolled": true
   },
   "outputs": [
    {
     "name": "stdout",
     "output_type": "stream",
     "text": [
      "당신이 태어난 해는 2001년입니다!\n"
     ]
    }
   ],
   "source": [
    "print(f'당신이 태어난 해는 {2022- age + 1}년입니다!') # f-string: f'{변수}'"
   ]
  },
  {
   "cell_type": "markdown",
   "id": "80ab4f33",
   "metadata": {},
   "source": [
    "# Ch03. Numbers"
   ]
  },
  {
   "cell_type": "markdown",
   "id": "82aa3c45",
   "metadata": {},
   "source": [
    "### boolean\n",
    "- True/False\n",
    "- False인 값\n",
    "- if문(조건식)에서 사용: \"만약 어떤 값이 True이면, ...\""
   ]
  },
  {
   "cell_type": "code",
   "execution_count": 1,
   "id": "06b88c77",
   "metadata": {},
   "outputs": [
    {
     "data": {
      "text/plain": [
       "False"
      ]
     },
     "execution_count": 1,
     "metadata": {},
     "output_type": "execute_result"
    }
   ],
   "source": [
    "bool(0) # 항상 1은 True, 0은 False"
   ]
  },
  {
   "cell_type": "code",
   "execution_count": 47,
   "id": "6fce67aa",
   "metadata": {},
   "outputs": [
    {
     "data": {
      "text/plain": [
       "False"
      ]
     },
     "execution_count": 47,
     "metadata": {},
     "output_type": "execute_result"
    }
   ],
   "source": [
    "bool('') # 빈 값 '', None은 False"
   ]
  },
  {
   "cell_type": "markdown",
   "id": "9f8d4bb1",
   "metadata": {},
   "source": [
    "### Integer\n",
    "- 분수나 소수가 아닌 정수\n",
    "- 음수는 '-' 기호를 붙인다: ex. -50\n",
    "- default = 양수\n",
    "- 숫자 앞에는 0을 쓰지 못한다. ex. 09\n",
    "    - 0bxx (10진수가 아닌 2진수의 경우에 쓰지만 여기선 거의 쓸일 x)\n",
    "- 숫자 사이에 쉼표를 쓰면 오류: 100,000 (x) -> 100_000 (o)\n",
    "    => 숫자 사이의 언더바는 인식하지 않는다는 의미\n",
    "    "
   ]
  },
  {
   "cell_type": "code",
   "execution_count": 3,
   "id": "4ca028e4",
   "metadata": {},
   "outputs": [
    {
     "ename": "SyntaxError",
     "evalue": "leading zeros in decimal integer literals are not permitted; use an 0o prefix for octal integers (Temp/ipykernel_4160/2890110653.py, line 1)",
     "output_type": "error",
     "traceback": [
      "\u001b[1;36m  File \u001b[1;32m\"C:\\Users\\user\\AppData\\Local\\Temp/ipykernel_4160/2890110653.py\"\u001b[1;36m, line \u001b[1;32m1\u001b[0m\n\u001b[1;33m    a = 09\u001b[0m\n\u001b[1;37m         ^\u001b[0m\n\u001b[1;31mSyntaxError\u001b[0m\u001b[1;31m:\u001b[0m leading zeros in decimal integer literals are not permitted; use an 0o prefix for octal integers\n"
     ]
    }
   ],
   "source": [
    "a = 09 # 숫자 앞 0 (x)"
   ]
  },
  {
   "cell_type": "code",
   "execution_count": 4,
   "id": "d7d73f25",
   "metadata": {},
   "outputs": [
    {
     "data": {
      "text/plain": [
       "-1"
      ]
     },
     "execution_count": 4,
     "metadata": {},
     "output_type": "execute_result"
    }
   ],
   "source": [
    "a = -50\n",
    "b = 49\n",
    "a + b"
   ]
  },
  {
   "cell_type": "markdown",
   "id": "b254751f",
   "metadata": {},
   "source": [
    "### 연산자 | operator\n",
    "- +, -, *, /\n",
    "- 피연산자 | operand: 1, 2, ..\n",
    "- 수식 | experssion"
   ]
  },
  {
   "cell_type": "code",
   "execution_count": 48,
   "id": "cc1b08a8",
   "metadata": {},
   "outputs": [
    {
     "data": {
      "text/plain": [
       "6561"
      ]
     },
     "execution_count": 48,
     "metadata": {},
     "output_type": "execute_result"
    }
   ],
   "source": [
    "x = 9\n",
    "y = 4\n",
    "\n",
    "# 연산\n",
    "x + y\n",
    "x - y\n",
    "x * y\n",
    "x / y\n",
    "x ** y # 거듭제곱|exponential \n",
    "# 마지막 줄 연산 결과만 출력됨"
   ]
  },
  {
   "cell_type": "markdown",
   "id": "a4c54270",
   "metadata": {},
   "source": [
    "나눗셈 = 몫, 나머지"
   ]
  },
  {
   "cell_type": "code",
   "execution_count": 7,
   "id": "95c188e6",
   "metadata": {},
   "outputs": [
    {
     "data": {
      "text/plain": [
       "2.25"
      ]
     },
     "execution_count": 7,
     "metadata": {},
     "output_type": "execute_result"
    }
   ],
   "source": [
    "x / y # 그냥 나누기"
   ]
  },
  {
   "cell_type": "code",
   "execution_count": 11,
   "id": "c80722a1",
   "metadata": {},
   "outputs": [
    {
     "data": {
      "text/plain": [
       "2"
      ]
     },
     "execution_count": 11,
     "metadata": {},
     "output_type": "execute_result"
    }
   ],
   "source": [
    "x // y # 몫"
   ]
  },
  {
   "cell_type": "code",
   "execution_count": 12,
   "id": "9fb1e577",
   "metadata": {},
   "outputs": [
    {
     "data": {
      "text/plain": [
       "1"
      ]
     },
     "execution_count": 12,
     "metadata": {},
     "output_type": "execute_result"
    }
   ],
   "source": [
    "x % y # 나머지"
   ]
  },
  {
   "cell_type": "code",
   "execution_count": 10,
   "id": "5cdd3a18",
   "metadata": {},
   "outputs": [
    {
     "data": {
      "text/plain": [
       "(2, 1)"
      ]
     },
     "execution_count": 10,
     "metadata": {},
     "output_type": "execute_result"
    }
   ],
   "source": [
    "divmod(x, y) # (몫, 나머지) 반환시키는 함수"
   ]
  },
  {
   "cell_type": "code",
   "execution_count": 11,
   "id": "3f116de0",
   "metadata": {},
   "outputs": [],
   "source": [
    "# division by zero (0으로 나누기 => 오류!), 항시 유의"
   ]
  },
  {
   "cell_type": "code",
   "execution_count": 12,
   "id": "1f728237",
   "metadata": {},
   "outputs": [
    {
     "data": {
      "text/plain": [
       "20"
      ]
     },
     "execution_count": 12,
     "metadata": {},
     "output_type": "execute_result"
    }
   ],
   "source": [
    "1 + 9                   + 10 # 공백 있어도 연산은 가능, but 보통 붙여서 씀"
   ]
  },
  {
   "cell_type": "markdown",
   "id": "48ab5bda",
   "metadata": {},
   "source": [
    "### 복합대입연산자 | compound assignment operator\n",
    "- 계산한 값을 다시 자기 자신에게 업데이트시키는 역할"
   ]
  },
  {
   "cell_type": "code",
   "execution_count": 14,
   "id": "97123d53",
   "metadata": {},
   "outputs": [
    {
     "name": "stdout",
     "output_type": "stream",
     "text": [
      "5\n"
     ]
    }
   ],
   "source": [
    "x = 5\n",
    "x - 3 # x - 3 (뺀 값)을 x에 다시 대입해 주지 않았기 때문에 x의 값은 변하지 않음\n",
    "print(x) "
   ]
  },
  {
   "cell_type": "code",
   "execution_count": 15,
   "id": "02ccd2b1",
   "metadata": {},
   "outputs": [
    {
     "name": "stdout",
     "output_type": "stream",
     "text": [
      "2\n"
     ]
    }
   ],
   "source": [
    "x = x - 3\n",
    "print(x) \n",
    "\n",
    "#1. x - 3 계산\n",
    "#2. temp = x - 3 (임시변수에 담는다)\n",
    "#3. x = temp"
   ]
  },
  {
   "cell_type": "code",
   "execution_count": null,
   "id": "80f8b2ff",
   "metadata": {},
   "outputs": [],
   "source": [
    "x += 3\n",
    "x -= 3\n",
    "x *= 3\n",
    "x /= 3\n",
    "\n",
    "# 사칙연산 모두 가능"
   ]
  },
  {
   "cell_type": "markdown",
   "id": "6b0eb885",
   "metadata": {},
   "source": [
    "### 지수 표현\n",
    "- 예: '1.0e-4'\n",
    "- e의 앞부분은 소수, 정수 둘 다 됨\n",
    "- 뒷부분이 음수면 소수점 자릿수 의미\n",
    "- e, E 둘다 가능"
   ]
  },
  {
   "cell_type": "code",
   "execution_count": 16,
   "id": "79c642a4",
   "metadata": {},
   "outputs": [
    {
     "data": {
      "text/plain": [
       "0.0001"
      ]
     },
     "execution_count": 16,
     "metadata": {},
     "output_type": "execute_result"
    }
   ],
   "source": [
    "1.0e-4"
   ]
  },
  {
   "cell_type": "code",
   "execution_count": 17,
   "id": "d401a1b6",
   "metadata": {},
   "outputs": [
    {
     "data": {
      "text/plain": [
       "0.0004005"
      ]
     },
     "execution_count": 17,
     "metadata": {},
     "output_type": "execute_result"
    }
   ],
   "source": [
    "# 0.0004005 지수 표현하기\n",
    "4005.0e-7\n",
    "4.005e-4"
   ]
  },
  {
   "cell_type": "markdown",
   "id": "ee116897",
   "metadata": {},
   "source": [
    "#### 코드 짜는 팁\n",
    "- 주석 달기\n",
    "    - '#' hash, sharp, ..\n",
    "    - '#' 시작 지점부터 라인 끝까지가 주석 처리됨. 라인이 바뀌면 코드로 인식\n",
    "    - \"\"\" \"\"\" : 긴 주석\n",
    "    - 문자열 안에 있는 sharp는 부호로 인식\n",
    "    - 코드에 대한 설명은 최대한 하지 않는 것이 좋음. 코드만 보고 내용을 파악할 수 있도록 하는 것이 실력. \n",
    "        - 주석은 코드 설명 이외의 전달 사항이 있을 때 사용. \n",
    "        - 의도를 나타내기 위해, 오류가 있다거나, ...\n",
    "    \n",
    "- 라인 유지하기\n",
    "    - 들여쓰기 (default space 4개, tab 이용)\n",
    "    - 논리 구조를 나타내기 때문에 굉장히 중요!\n",
    "    - 한 라인에 80자 정도(암묵적 합의), 넘어갈 시 백슬래시로 라인 끊어주기('\\')"
   ]
  },
  {
   "cell_type": "code",
   "execution_count": 18,
   "id": "cda2d990",
   "metadata": {},
   "outputs": [
    {
     "name": "stdout",
     "output_type": "stream",
     "text": [
      "3\n"
     ]
    }
   ],
   "source": [
    "a = 3 # 주석입니다\n",
    "\"\"\"\n",
    "주석1\n",
    "주석2\n",
    "주석3\n",
    "\"\"\"\n",
    "print(a)"
   ]
  },
  {
   "cell_type": "code",
   "execution_count": 19,
   "id": "2504de69",
   "metadata": {},
   "outputs": [
    {
     "name": "stdout",
     "output_type": "stream",
     "text": [
      "hey, there #\n"
     ]
    }
   ],
   "source": [
    "print('hey, there #')"
   ]
  },
  {
   "cell_type": "markdown",
   "id": "b67b7510",
   "metadata": {},
   "source": [
    "# Ch04. if 조건문"
   ]
  },
  {
   "cell_type": "code",
   "execution_count": null,
   "id": "4ee0fd26",
   "metadata": {},
   "outputs": [],
   "source": [
    "\"\"\"\n",
    "# if <조건식>:\n",
    "     <실행할 코드>\n",
    "\"\"\""
   ]
  },
  {
   "cell_type": "code",
   "execution_count": 22,
   "id": "b2df9589",
   "metadata": {},
   "outputs": [
    {
     "name": "stdout",
     "output_type": "stream",
     "text": [
      "두 수는 같지 않다\n"
     ]
    }
   ],
   "source": [
    "if 3 != 1:\n",
    "    print('두 수는 같지 않다')"
   ]
  },
  {
   "cell_type": "code",
   "execution_count": null,
   "id": "aa0353e4",
   "metadata": {},
   "outputs": [],
   "source": [
    "\"\"\"\n",
    "# if-else\n",
    "if <조건식>:\n",
    "    <실행할 코드1>\n",
    "else: \n",
    "    <실행할 코드2>\n",
    "\"\"\""
   ]
  },
  {
   "cell_type": "code",
   "execution_count": 25,
   "id": "7787feb4",
   "metadata": {},
   "outputs": [
    {
     "name": "stdout",
     "output_type": "stream",
     "text": [
      "두 수는 같지 않다\n"
     ]
    }
   ],
   "source": [
    "if 3 != 1:\n",
    "    print(\"두 수는 같지 않다\")\n",
    "else:\n",
    "    print('두 수가 같다')"
   ]
  },
  {
   "cell_type": "code",
   "execution_count": null,
   "id": "00fb3332",
   "metadata": {},
   "outputs": [],
   "source": [
    "\"\"\"\n",
    "# if-elif-else\n",
    "if  <조건식1>:\n",
    "    <실행할 코드1>\n",
    "elif <조건식2>:\n",
    "    <실행할 코드2> ...\n",
    "else: \n",
    "    <실행할 코드3>\n",
    "\"\"\""
   ]
  },
  {
   "cell_type": "code",
   "execution_count": 26,
   "id": "257eb9bc",
   "metadata": {},
   "outputs": [
    {
     "name": "stdout",
     "output_type": "stream",
     "text": [
      "3보다 크다\n"
     ]
    }
   ],
   "source": [
    "a = 4\n",
    "if a < 3:\n",
    "    print(\"3보다 작다\")\n",
    "elif a == 3:\n",
    "    print(\"3이다\")\n",
    "else:\n",
    "    print(\"3보다 크다\")"
   ]
  },
  {
   "cell_type": "code",
   "execution_count": 27,
   "id": "fce4ecb5",
   "metadata": {},
   "outputs": [],
   "source": [
    "if a < 3:\n",
    "    print(\"3보다 작다\")\n",
    "    \n",
    "if a == 3:\n",
    "    print(\"3이다\")\n",
    "    \n",
    "if a > 4:\n",
    "    print(\"3보다 크다\")\n",
    "    \n",
    "    # 위 셀과의 차이점: 별개의 작동"
   ]
  },
  {
   "cell_type": "markdown",
   "id": "60646628",
   "metadata": {},
   "source": [
    "### 비교연산자\n",
    "- x < y\n",
    "- x > y\n",
    "- x >= y\n",
    "- z <= y\n",
    "- x == y\n",
    "- x != y\n",
    "- x is y (값, 메모리주소)\n",
    "- x is not y"
   ]
  },
  {
   "cell_type": "markdown",
   "id": "164a6537",
   "metadata": {},
   "source": [
    "## [ week02 퀴즈 풀이 ]"
   ]
  },
  {
   "cell_type": "markdown",
   "id": "7341936e",
   "metadata": {},
   "source": [
    "### Quiz 1\n",
    "- 택배 정보를 입력받고 무게에 따른 값 산정하기\n",
    "    - 수취인 성명:\n",
    "    - 수취인 주소:\n",
    "    - 배송비: 3000원\n",
    "    - 물건 비용: <계산된 값>원\n",
    "    - 총 합계: <계산된 값>원\n",
    "- 물건 비용은 무게(g) * 5\n",
    "- 입력 값 = 이름, 주소, 무게"
   ]
  },
  {
   "cell_type": "code",
   "execution_count": 31,
   "id": "a954af33",
   "metadata": {},
   "outputs": [
    {
     "name": "stdout",
     "output_type": "stream",
     "text": [
      "수취인 성명:양서주\n",
      "수취인 주소:서울시\n",
      "무게(g):500\n"
     ]
    }
   ],
   "source": [
    "name = input(\"수취인 성명:\")\n",
    "address = input(\"수취인 주소:\")\n",
    "weight = int(input(\"무게(g):\"))"
   ]
  },
  {
   "cell_type": "code",
   "execution_count": 32,
   "id": "165a8258",
   "metadata": {},
   "outputs": [
    {
     "name": "stdout",
     "output_type": "stream",
     "text": [
      "물건 비용: 2500, 총 합계: 5500\n"
     ]
    }
   ],
   "source": [
    "price = weight * 5\n",
    "total = price + 3000 # 배송비도 변수로 받는 것이 좋음(자주 바뀔 수 있으므로): ex. shipping = 3000\n",
    "print(f'물건 비용: {price}, 총 합계: {total}')"
   ]
  },
  {
   "cell_type": "markdown",
   "id": "79e572d3",
   "metadata": {},
   "source": [
    "### Quiz 2\n",
    "- 반지름을 입력받아 원의 면적 구하기\n",
    "- 면적 = pi * r제곱"
   ]
  },
  {
   "cell_type": "code",
   "execution_count": 34,
   "id": "702e5465",
   "metadata": {},
   "outputs": [
    {
     "name": "stdout",
     "output_type": "stream",
     "text": [
      "반지름: 5\n",
      "원의 면적: 78.5\n"
     ]
    }
   ],
   "source": [
    "radius = float(input('반지름: '))\n",
    "area = 3.14 * (radius ** 2) # 변수로 받는 것이 좋음: pi = 3.14\n",
    "print(f'원의 면적: {area}')"
   ]
  },
  {
   "cell_type": "markdown",
   "id": "fe9c5a8a",
   "metadata": {},
   "source": [
    "### Quiz 3\n",
    "- 숫자를 입력받고 3의 배수인지 확인하기\n",
    "- 숫자를 입력받고 홀수인지 확인하기"
   ]
  },
  {
   "cell_type": "code",
   "execution_count": 35,
   "id": "7ada77db",
   "metadata": {},
   "outputs": [
    {
     "name": "stdout",
     "output_type": "stream",
     "text": [
      "숫자를 입력하세요: 6\n",
      "3의 배수입니다.\n"
     ]
    }
   ],
   "source": [
    "num = int(input('숫자를 입력하세요: '))\n",
    "if num % 3 == 0:\n",
    "    print('3의 배수입니다.')\n",
    "else:\n",
    "    print('3의 배수가 아닙니다.')"
   ]
  },
  {
   "cell_type": "code",
   "execution_count": 36,
   "id": "6efda892",
   "metadata": {},
   "outputs": [
    {
     "name": "stdout",
     "output_type": "stream",
     "text": [
      "숫자를 입력하세요: 4\n",
      "홀수가 아닙니다. 짝수입니다.\n"
     ]
    }
   ],
   "source": [
    "num = int(input('숫자를 입력하세요: '))\n",
    "if num % 2 != 0:\n",
    "    print('홀수입니다.')\n",
    "else:\n",
    "    print('홀수가 아닙니다. 짝수입니다.')"
   ]
  },
  {
   "cell_type": "markdown",
   "id": "6f1c27cf",
   "metadata": {},
   "source": [
    "### Quiz 4\n",
    "- 1. 시험 점수를 입력받고, 80점 이상이면 True, 아니면 False 반환하기\n",
    "- 2. 시험 점수를 입력받고, 95이상 A+, 85이상 B+, 나머지 F로 출력하기"
   ]
  },
  {
   "cell_type": "code",
   "execution_count": 37,
   "id": "b23e41dd",
   "metadata": {},
   "outputs": [
    {
     "name": "stdout",
     "output_type": "stream",
     "text": [
      "시험 점수: 80\n",
      "True\n"
     ]
    }
   ],
   "source": [
    "score = int(input('시험 점수: '))\n",
    "if score >= 80:\n",
    "    print('True')\n",
    "else:\n",
    "    print('False')"
   ]
  },
  {
   "cell_type": "code",
   "execution_count": 38,
   "id": "bde553d4",
   "metadata": {},
   "outputs": [
    {
     "name": "stdout",
     "output_type": "stream",
     "text": [
      "시험 점수: 95\n",
      "A+\n"
     ]
    }
   ],
   "source": [
    "score = int(input('시험 점수: '))\n",
    "if score >= 95:\n",
    "    print('A+')\n",
    "elif score >= 90 and score < 95:\n",
    "    print('A')\n",
    "elif score >= 85 and score < 90:\n",
    "    print('B+')\n",
    "else:\n",
    "    print('F')"
   ]
  }
 ],
 "metadata": {
  "kernelspec": {
   "display_name": "Python 3 (ipykernel)",
   "language": "python",
   "name": "python3"
  },
  "language_info": {
   "codemirror_mode": {
    "name": "ipython",
    "version": 3
   },
   "file_extension": ".py",
   "mimetype": "text/x-python",
   "name": "python",
   "nbconvert_exporter": "python",
   "pygments_lexer": "ipython3",
   "version": "3.9.7"
  }
 },
 "nbformat": 4,
 "nbformat_minor": 5
}
