{
 "cells": [
  {
   "cell_type": "markdown",
   "id": "a767d5f0",
   "metadata": {},
   "source": [
    "### 상속 | inheritance\n",
    "- 이전 클래스의 내용을 추가, 변경해야 할 경우\n",
    "- 코드 재사용에 유용\n",
    "- 기준이 되는 클래스(부모클래스): vehicle, parent, super, base\n",
    "- 상속을 받는 클래스(자식클래스): child, sub, derived\n",
    "\n",
    "- Vehicle <- Car\n",
    "    - 부모클래스를 자식클래스가 구체화시킴\n",
    "    - is-a: Car is-a-Vehicle\n",
    "    - has-a: Notebook has-a-note"
   ]
  },
  {
   "cell_type": "code",
   "execution_count": 1,
   "id": "daf0e037",
   "metadata": {},
   "outputs": [],
   "source": [
    "class Vehicle:\n",
    "    def __init__(self, speed):\n",
    "        self.speed = speed\n",
    "        \n",
    "    def go(self):\n",
    "        print(f'{self.speed}의 속력으로 달린다.')\n",
    "        \n",
    "# 자식클래스\n",
    "class Car(Vehicle):\n",
    "    pass"
   ]
  },
  {
   "cell_type": "code",
   "execution_count": 3,
   "id": "35d4eb50",
   "metadata": {},
   "outputs": [],
   "source": [
    "car = Car('15km/h')"
   ]
  },
  {
   "cell_type": "code",
   "execution_count": 5,
   "id": "ca62c0cd",
   "metadata": {},
   "outputs": [
    {
     "name": "stdout",
     "output_type": "stream",
     "text": [
      "15km/h의 속력으로 달린다.\n"
     ]
    }
   ],
   "source": [
    "car.go()"
   ]
  },
  {
   "cell_type": "markdown",
   "id": "55659250",
   "metadata": {},
   "source": [
    "### 추가, 변경\n",
    "- 속성(변수)"
   ]
  },
  {
   "cell_type": "code",
   "execution_count": 6,
   "id": "f2de04c6",
   "metadata": {},
   "outputs": [
    {
     "data": {
      "text/plain": [
       "'15km/h'"
      ]
     },
     "execution_count": 6,
     "metadata": {},
     "output_type": "execute_result"
    }
   ],
   "source": [
    "car.speed"
   ]
  },
  {
   "cell_type": "code",
   "execution_count": 8,
   "id": "e9648f64",
   "metadata": {},
   "outputs": [],
   "source": [
    "class Car(Vehicle): # 부모 설정\n",
    "    def __init__ (self, speed, brand):\n",
    "        # self.speed = speed\n",
    "        super().__init__(speed) # 선택적 인수 설정하기 # 부모에게서 받아올 인수 설정\n",
    "        # self.speed가 아님!\n",
    "        self.brand = brand # 추가한 변수\n",
    "        # self == 나 자신, super() == 부모"
   ]
  },
  {
   "cell_type": "code",
   "execution_count": 9,
   "id": "52767cdc",
   "metadata": {},
   "outputs": [],
   "source": [
    "car2 = Car('14km/h', 'kia')"
   ]
  },
  {
   "cell_type": "code",
   "execution_count": 21,
   "id": "1641615b",
   "metadata": {},
   "outputs": [
    {
     "data": {
      "text/plain": [
       "'14km/h'"
      ]
     },
     "execution_count": 21,
     "metadata": {},
     "output_type": "execute_result"
    }
   ],
   "source": [
    "car2.speed"
   ]
  },
  {
   "cell_type": "code",
   "execution_count": 22,
   "id": "d0a7e0cc",
   "metadata": {},
   "outputs": [
    {
     "name": "stdout",
     "output_type": "stream",
     "text": [
      "14km/h의 속력으로 달린다.\n"
     ]
    }
   ],
   "source": [
    "car2.go()"
   ]
  },
  {
   "cell_type": "code",
   "execution_count": 23,
   "id": "4f33a5ed",
   "metadata": {},
   "outputs": [
    {
     "ename": "AttributeError",
     "evalue": "'Vehicle' object has no attribute 'brand'",
     "output_type": "error",
     "traceback": [
      "\u001b[1;31m---------------------------------------------------------------------------\u001b[0m",
      "\u001b[1;31mAttributeError\u001b[0m                            Traceback (most recent call last)",
      "\u001b[1;32m~\\AppData\\Local\\Temp/ipykernel_6520/2664074387.py\u001b[0m in \u001b[0;36m<module>\u001b[1;34m\u001b[0m\n\u001b[0;32m      1\u001b[0m \u001b[0mv\u001b[0m \u001b[1;33m=\u001b[0m \u001b[0mVehicle\u001b[0m\u001b[1;33m(\u001b[0m\u001b[1;34m'15km/h'\u001b[0m\u001b[1;33m)\u001b[0m\u001b[1;33m\u001b[0m\u001b[1;33m\u001b[0m\u001b[0m\n\u001b[1;32m----> 2\u001b[1;33m \u001b[0mv\u001b[0m\u001b[1;33m.\u001b[0m\u001b[0mbrand\u001b[0m\u001b[1;33m\u001b[0m\u001b[1;33m\u001b[0m\u001b[0m\n\u001b[0m",
      "\u001b[1;31mAttributeError\u001b[0m: 'Vehicle' object has no attribute 'brand'"
     ]
    }
   ],
   "source": [
    "v = Vehicle('15km/h')\n",
    "v.brand # 오류\n",
    "\n",
    "# 부모 클래스는 자식클래스 사용할 수 없음"
   ]
  },
  {
   "cell_type": "markdown",
   "id": "660c4d0b",
   "metadata": {},
   "source": [
    "- 메소드 변경 => 오버라이드 (override); 재정의"
   ]
  },
  {
   "cell_type": "code",
   "execution_count": 11,
   "id": "c244fed6",
   "metadata": {},
   "outputs": [],
   "source": [
    "class Car(Vehicle):\n",
    "    def __init__ (self, speed, brand):\n",
    "        super().__init__(speed)\n",
    "        self.brand = brand\n",
    "        \n",
    "    def go(self): # override\n",
    "        print(f'차종은 {self.brand}')"
   ]
  },
  {
   "cell_type": "code",
   "execution_count": 12,
   "id": "35d281f3",
   "metadata": {},
   "outputs": [
    {
     "name": "stdout",
     "output_type": "stream",
     "text": [
      "차종은 nissan\n"
     ]
    }
   ],
   "source": [
    "car3 = Car('15km/h', 'nissan')\n",
    "car3.go()\n",
    "\n",
    "# 자식클래스의 메소드를 타게 됨"
   ]
  },
  {
   "cell_type": "markdown",
   "id": "9781d490",
   "metadata": {},
   "source": [
    "#### Q. 부모 메소드, 자식 메소드 모두 타고 싶다면? (go)"
   ]
  },
  {
   "cell_type": "code",
   "execution_count": 26,
   "id": "011ee8c7",
   "metadata": {},
   "outputs": [],
   "source": [
    "class Car(Vehicle): # 부모클래스와 차별성을 가지게 되는 부분에 주목!\n",
    "    def __init__ (self, speed, brand):\n",
    "        super().__init__(speed)\n",
    "        self.brand = brand\n",
    "        \n",
    "    def go(self):\n",
    "        super().go()\n",
    "        print(f'차종은 {self.brand}')\n",
    "        \n",
    "    def stop(self): # 부모클래스에 없는 메소드\n",
    "        print('차가 멈춘다.')"
   ]
  },
  {
   "cell_type": "code",
   "execution_count": 27,
   "id": "f4e3e57f",
   "metadata": {},
   "outputs": [
    {
     "name": "stdout",
     "output_type": "stream",
     "text": [
      "15km/h의 속력으로 달린다.\n",
      "차종은 nissan\n",
      "차가 멈춘다.\n"
     ]
    }
   ],
   "source": [
    "car3 = Car('15km/h', 'nissan')\n",
    "car3.go()\n",
    "car3.stop()"
   ]
  },
  {
   "cell_type": "markdown",
   "id": "ea00e698",
   "metadata": {},
   "source": [
    "### 실습\n",
    "\n",
    "- Person <- Doctor (상속)\n",
    "-        <- Female\n",
    "-        <- Male\n"
   ]
  },
  {
   "cell_type": "code",
   "execution_count": 1,
   "id": "76effdcb",
   "metadata": {},
   "outputs": [
    {
     "data": {
      "text/plain": [
       "'Dr.Eichi'"
      ]
     },
     "execution_count": 1,
     "metadata": {},
     "output_type": "execute_result"
    }
   ],
   "source": [
    "class Person:\n",
    "    def __init__(self, name):\n",
    "        self.name = name\n",
    "        \n",
    "class Doctor(Person):\n",
    "    def __init__(self, name):\n",
    "        super().__init__('Dr.' + name)\n",
    "        \n",
    "class Male(Person):\n",
    "    def __init__(self, name):\n",
    "        super().__init__(f'Mr. {name}')\n",
    "\n",
    "class Female(Person):\n",
    "    def __init__(self, name):\n",
    "        super().__init__(f'Mrs. {name}')\n",
    "    \n",
    "Doctor('Eichi').name"
   ]
  },
  {
   "cell_type": "code",
   "execution_count": 22,
   "id": "75c3aff7",
   "metadata": {},
   "outputs": [
    {
     "data": {
      "text/plain": [
       "'Mr. Kaoru'"
      ]
     },
     "execution_count": 22,
     "metadata": {},
     "output_type": "execute_result"
    }
   ],
   "source": [
    "Male('Kaoru').name"
   ]
  },
  {
   "cell_type": "code",
   "execution_count": 24,
   "id": "8d415128",
   "metadata": {},
   "outputs": [
    {
     "data": {
      "text/plain": [
       "'Mrs. Anz'"
      ]
     },
     "execution_count": 24,
     "metadata": {},
     "output_type": "execute_result"
    }
   ],
   "source": [
    "Female('Anz').name"
   ]
  },
  {
   "cell_type": "markdown",
   "id": "2a81f33d",
   "metadata": {},
   "source": [
    "### 다중 상속\n",
    "- method resoution order (MRO)\n",
    "- Animal <- Horse\n",
    "        <- Donkey\n",
    "                <- Mule (donkey > horse)\n",
    "                <- Hinny (horse > donkey)\n",
    "- 모두 상속 but 순서 존재"
   ]
  },
  {
   "cell_type": "code",
   "execution_count": 40,
   "id": "47c9e9bc",
   "metadata": {},
   "outputs": [],
   "source": [
    "class Animal:\n",
    "    def says(self):\n",
    "        return '동물이 운다'\n",
    "    \n",
    "#------------ child\n",
    "    \n",
    "class Horse(Animal):\n",
    "    def says(self):\n",
    "        return '히히힝'\n",
    "    \n",
    "class Donkey(Animal):\n",
    "    def says(self):\n",
    "        return '히이호'\n",
    "    \n",
    "#------------ grandchild \n",
    "\n",
    "class Mule(Donkey, Horse): # 먼저 쓰인 부모가 더 가깝다\n",
    "    pass\n",
    "\n",
    "class Hinny(Horse, Donkey):\n",
    "    pass"
   ]
  },
  {
   "cell_type": "code",
   "execution_count": 41,
   "id": "b0ca16c1",
   "metadata": {},
   "outputs": [
    {
     "data": {
      "text/plain": [
       "'히이호'"
      ]
     },
     "execution_count": 41,
     "metadata": {},
     "output_type": "execute_result"
    }
   ],
   "source": [
    "Mule().says()"
   ]
  },
  {
   "cell_type": "code",
   "execution_count": 42,
   "id": "c623e95a",
   "metadata": {},
   "outputs": [
    {
     "data": {
      "text/plain": [
       "'히히힝'"
      ]
     },
     "execution_count": 42,
     "metadata": {},
     "output_type": "execute_result"
    }
   ],
   "source": [
    "Hinny().says()"
   ]
  },
  {
   "cell_type": "code",
   "execution_count": 43,
   "id": "a3645462",
   "metadata": {},
   "outputs": [
    {
     "data": {
      "text/plain": [
       "[__main__.Mule, __main__.Donkey, __main__.Horse, __main__.Animal, object]"
      ]
     },
     "execution_count": 43,
     "metadata": {},
     "output_type": "execute_result"
    }
   ],
   "source": [
    "Mule.mro() # 가까운 순서대로 보여줌"
   ]
  },
  {
   "cell_type": "markdown",
   "id": "dfeb5b18",
   "metadata": {},
   "source": [
    "### 다형성, duck typing"
   ]
  },
  {
   "cell_type": "code",
   "execution_count": 44,
   "id": "c6d2016f",
   "metadata": {},
   "outputs": [
    {
     "name": "stdout",
     "output_type": "stream",
     "text": [
      "동물이 운다\n",
      "히히힝\n",
      "히이호\n"
     ]
    }
   ],
   "source": [
    "for animal in [Animal(), Horse(), Mule()]:\n",
    "    print(animal.says())"
   ]
  },
  {
   "cell_type": "markdown",
   "id": "90286ff1",
   "metadata": {},
   "source": [
    "### 메서드\n",
    "- 인스턴스 메서드\n",
    "    - 첫 번째 인수가 self인 메서드\n",
    "- 클래스 메서드\n",
    "    - 객체마다 달라지지 않음\n",
    "    - 모든 객체가 공유하는 (클래스) 변수, 메소드\n",
    "    - cls\n",
    "    - 데코레이터 @classmethod 사용\n",
    "    - 객체 생성하지 않고 메서드에 접근 가능\n",
    "- 정적 메서드 # 클래스와 관련 x\n",
    "    - 1번째 인수가 self가 아님\n",
    "    - 클래스나 인스턴스에 접근하지 않음\n",
    "    - 비슷한 유틸리티라서 클래스 내에 묶어둘 때 사용\n",
    "    - 객체 생성하지 않고 메서드 접근 가능\n",
    "- 추상 메서드\n",
    "    - abstract\n",
    "    - @abstractmethod"
   ]
  },
  {
   "cell_type": "markdown",
   "id": "c0649ae2",
   "metadata": {},
   "source": [
    "인스턴스 메서드"
   ]
  },
  {
   "cell_type": "code",
   "execution_count": 45,
   "id": "b8a067b8",
   "metadata": {},
   "outputs": [
    {
     "data": {
      "text/plain": [
       "'히히힝'"
      ]
     },
     "execution_count": 45,
     "metadata": {},
     "output_type": "execute_result"
    }
   ],
   "source": [
    "h = Hinny()\n",
    "h.says()"
   ]
  },
  {
   "cell_type": "markdown",
   "id": "c5c36edf",
   "metadata": {},
   "source": [
    "클래스 메서드"
   ]
  },
  {
   "cell_type": "code",
   "execution_count": 50,
   "id": "efe4a9fa",
   "metadata": {},
   "outputs": [],
   "source": [
    "class A:\n",
    "    cnt = 0\n",
    "    \n",
    "    @classmethod\n",
    "    def move(cls): # self, super(), cls\n",
    "        print(cls.cnt)"
   ]
  },
  {
   "cell_type": "code",
   "execution_count": 51,
   "id": "c4f8e806",
   "metadata": {},
   "outputs": [
    {
     "name": "stdout",
     "output_type": "stream",
     "text": [
      "0\n"
     ]
    }
   ],
   "source": [
    "A().move()"
   ]
  },
  {
   "cell_type": "markdown",
   "id": "ad21ceb9",
   "metadata": {},
   "source": [
    "#### Q. 객체 생성 때마다 횟수 증가시켜서 출력"
   ]
  },
  {
   "cell_type": "code",
   "execution_count": null,
   "id": "d03cc10c",
   "metadata": {},
   "outputs": [],
   "source": [
    "class B:\n",
    "    cnt = 0\n",
    "    \n",
    "    # class_method\n",
    "    def count():"
   ]
  },
  {
   "cell_type": "code",
   "execution_count": 3,
   "id": "adc7a0cf",
   "metadata": {},
   "outputs": [],
   "source": [
    "class B:\n",
    "    cnt = 0\n",
    "    \n",
    "    def __init__(self):\n",
    "        B.cnt += 1\n",
    "        \n",
    "    @classmethod\n",
    "    def count(cls):\n",
    "        print(cls.cnt)"
   ]
  },
  {
   "cell_type": "code",
   "execution_count": 4,
   "id": "a4fe8431",
   "metadata": {},
   "outputs": [
    {
     "name": "stdout",
     "output_type": "stream",
     "text": [
      "4\n"
     ]
    }
   ],
   "source": [
    "B()\n",
    "B()\n",
    "B()\n",
    "B().count()"
   ]
  },
  {
   "cell_type": "code",
   "execution_count": 60,
   "id": "42941512",
   "metadata": {},
   "outputs": [],
   "source": [
    "class Person:\n",
    "    def __init__(self, name, page):\n",
    "        self.name = name\n",
    "        self.age = age\n",
    "        \n",
    "    @classmethod\n",
    "    def tuple_object(cls, args):\n",
    "        # 튜플로 인자를 받아서 객체 생성하는 메서드 만들기\n",
    "        return cls(args[0], args[1]) #Person\n",
    "\n",
    "name = 'yang'\n",
    "age = 22\n",
    "\n",
    "p = Person(name, age)\n",
    "\n",
    "info = name, age\n",
    "p = Person.tuple_object(info) # 객체 생성하지 않고 메서드에 접근"
   ]
  },
  {
   "cell_type": "code",
   "execution_count": 61,
   "id": "927c79b5",
   "metadata": {},
   "outputs": [
    {
     "data": {
      "text/plain": [
       "'yang'"
      ]
     },
     "execution_count": 61,
     "metadata": {},
     "output_type": "execute_result"
    }
   ],
   "source": [
    "p.name"
   ]
  },
  {
   "cell_type": "code",
   "execution_count": 62,
   "id": "edb3642c",
   "metadata": {},
   "outputs": [
    {
     "data": {
      "text/plain": [
       "22"
      ]
     },
     "execution_count": 62,
     "metadata": {},
     "output_type": "execute_result"
    }
   ],
   "source": [
    "p.age"
   ]
  },
  {
   "cell_type": "markdown",
   "id": "d154f073",
   "metadata": {},
   "source": [
    "정적 메서드"
   ]
  },
  {
   "cell_type": "code",
   "execution_count": 66,
   "id": "6ad54315",
   "metadata": {},
   "outputs": [
    {
     "data": {
      "text/plain": [
       "'hi'"
      ]
     },
     "execution_count": 66,
     "metadata": {},
     "output_type": "execute_result"
    }
   ],
   "source": [
    "class Coyote:\n",
    "    \n",
    "    @staticmethod\n",
    "    def says(): # self를 쓰지 않음\n",
    "        return 'hi'\n",
    "    \n",
    "Coyote.says()"
   ]
  },
  {
   "cell_type": "code",
   "execution_count": null,
   "id": "54603323",
   "metadata": {},
   "outputs": [],
   "source": [
    "# {coyote: says()}"
   ]
  },
  {
   "cell_type": "markdown",
   "id": "9affb5f6",
   "metadata": {},
   "source": [
    "추상 메서드"
   ]
  },
  {
   "cell_type": "code",
   "execution_count": 73,
   "id": "6b8bf7a7",
   "metadata": {},
   "outputs": [],
   "source": [
    "from abc import *\n",
    "\n",
    "class Vehicle(metaclass = ABCMeta):\n",
    "    # 변수에 무엇을 넣을지 정의\n",
    "    speed = '속도'\n",
    "    \n",
    "    # 자식 클래스가 오버라이드해야 하는 메서드 정의\n",
    "    # but 구체화하지는 않음\n",
    "    @abstractmethod\n",
    "    def drive(self):\n",
    "        print('교통수단에 관하여')\n",
    "        \n",
    "    def stop(self):\n",
    "        pass\n",
    "    \n",
    "    def park(self):\n",
    "        pass\n",
    "    \n",
    "# ------\n",
    "        \n",
    "class Car(Vehicle):\n",
    "    def drive(self):\n",
    "        return super().speed"
   ]
  },
  {
   "cell_type": "code",
   "execution_count": 74,
   "id": "db73d456",
   "metadata": {},
   "outputs": [
    {
     "ename": "TypeError",
     "evalue": "'Car' object is not callable",
     "output_type": "error",
     "traceback": [
      "\u001b[1;31m---------------------------------------------------------------------------\u001b[0m",
      "\u001b[1;31mTypeError\u001b[0m                                 Traceback (most recent call last)",
      "\u001b[1;32m~\\AppData\\Local\\Temp/ipykernel_6520/2966443323.py\u001b[0m in \u001b[0;36m<module>\u001b[1;34m\u001b[0m\n\u001b[1;32m----> 1\u001b[1;33m \u001b[0mcar\u001b[0m\u001b[1;33m(\u001b[0m\u001b[1;33m)\u001b[0m\u001b[1;33m\u001b[0m\u001b[1;33m\u001b[0m\u001b[0m\n\u001b[0m",
      "\u001b[1;31mTypeError\u001b[0m: 'Car' object is not callable"
     ]
    }
   ],
   "source": [
    "car()"
   ]
  },
  {
   "cell_type": "markdown",
   "id": "f43c3222",
   "metadata": {},
   "source": [
    "### 매직메소드"
   ]
  },
  {
   "cell_type": "code",
   "execution_count": null,
   "id": "c0f11e1c",
   "metadata": {},
   "outputs": [],
   "source": [
    "- __init__ : special method\n",
    "# object 클래스 메서드 재정의\n",
    "- __str__\n",
    "- __repr__"
   ]
  },
  {
   "cell_type": "code",
   "execution_count": 82,
   "id": "f02e0fe7",
   "metadata": {},
   "outputs": [],
   "source": [
    "class Person:\n",
    "    def __init__ (self, name):\n",
    "        self.name = name\n",
    "        \n",
    "    def __str__(self):\n",
    "        # 인스턴스를 스트링으로 출력: 이름, 메모리주소\n",
    "        # print(인스턴스) 했을 때 출력되는 값\n",
    "        return self.name\n",
    "    \n",
    "    def __repr__(self):\n",
    "        # 사용자가 이해할 수 있게 객체를 출력하고 싶을 때 사용\n",
    "        return f'Person({self.name})'"
   ]
  },
  {
   "cell_type": "code",
   "execution_count": 84,
   "id": "83035169",
   "metadata": {},
   "outputs": [],
   "source": [
    "p = Person('lee')"
   ]
  },
  {
   "cell_type": "code",
   "execution_count": 77,
   "id": "aa59e86e",
   "metadata": {},
   "outputs": [
    {
     "data": {
      "text/plain": [
       "<__main__.Person at 0x2296b5a3b50>"
      ]
     },
     "execution_count": 77,
     "metadata": {},
     "output_type": "execute_result"
    }
   ],
   "source": [
    "p"
   ]
  },
  {
   "cell_type": "code",
   "execution_count": 78,
   "id": "e39c7b61",
   "metadata": {},
   "outputs": [
    {
     "name": "stdout",
     "output_type": "stream",
     "text": [
      "<__main__.Person object at 0x000002296B5A3B50>\n"
     ]
    }
   ],
   "source": [
    "print(p)"
   ]
  },
  {
   "cell_type": "code",
   "execution_count": 85,
   "id": "553e6160",
   "metadata": {},
   "outputs": [
    {
     "data": {
      "text/plain": [
       "Person(lee)"
      ]
     },
     "execution_count": 85,
     "metadata": {},
     "output_type": "execute_result"
    }
   ],
   "source": [
    "p"
   ]
  },
  {
   "cell_type": "code",
   "execution_count": 86,
   "id": "d0a74482",
   "metadata": {},
   "outputs": [
    {
     "data": {
      "text/plain": [
       "'lee'"
      ]
     },
     "execution_count": 86,
     "metadata": {},
     "output_type": "execute_result"
    }
   ],
   "source": [
    "str(p)"
   ]
  },
  {
   "cell_type": "code",
   "execution_count": 87,
   "id": "5d9c5c3a",
   "metadata": {},
   "outputs": [
    {
     "data": {
      "text/plain": [
       "'Person(lee)'"
      ]
     },
     "execution_count": 87,
     "metadata": {},
     "output_type": "execute_result"
    }
   ],
   "source": [
    "repr(p)"
   ]
  },
  {
   "cell_type": "markdown",
   "id": "c795d608",
   "metadata": {},
   "source": [
    "### namedtuple, dataclass\n",
    "- 변수만 있는 클래스 설정할 때 더 효율적으로 사용하는 수단\n",
    "- 딕셔너리 키와 같은 기능"
   ]
  },
  {
   "cell_type": "code",
   "execution_count": 88,
   "id": "12df30c3",
   "metadata": {},
   "outputs": [],
   "source": [
    "from collections import namedtuple"
   ]
  },
  {
   "cell_type": "code",
   "execution_count": 89,
   "id": "c24028aa",
   "metadata": {},
   "outputs": [],
   "source": [
    "Person = namedtuple('Person', 'name age')\n",
    "a = Person('kim', 33)"
   ]
  },
  {
   "cell_type": "code",
   "execution_count": 90,
   "id": "efae14e5",
   "metadata": {},
   "outputs": [
    {
     "data": {
      "text/plain": [
       "'kim'"
      ]
     },
     "execution_count": 90,
     "metadata": {},
     "output_type": "execute_result"
    }
   ],
   "source": [
    "a.name"
   ]
  },
  {
   "cell_type": "code",
   "execution_count": 91,
   "id": "3a273a82",
   "metadata": {},
   "outputs": [
    {
     "data": {
      "text/plain": [
       "33"
      ]
     },
     "execution_count": 91,
     "metadata": {},
     "output_type": "execute_result"
    }
   ],
   "source": [
    "a.age"
   ]
  },
  {
   "cell_type": "code",
   "execution_count": 93,
   "id": "2ba136c0",
   "metadata": {},
   "outputs": [
    {
     "data": {
      "text/plain": [
       "Person(name='lee', age=33)"
      ]
     },
     "execution_count": 93,
     "metadata": {},
     "output_type": "execute_result"
    }
   ],
   "source": [
    "a._replace(name = 'lee')"
   ]
  },
  {
   "cell_type": "code",
   "execution_count": 94,
   "id": "4207b10f",
   "metadata": {},
   "outputs": [],
   "source": [
    "from dataclasses import dataclass"
   ]
  },
  {
   "cell_type": "code",
   "execution_count": 95,
   "id": "482376c4",
   "metadata": {},
   "outputs": [],
   "source": [
    "@dataclass\n",
    "class Person:\n",
    "    name: str\n",
    "    age: int"
   ]
  },
  {
   "cell_type": "code",
   "execution_count": 96,
   "id": "31d209dc",
   "metadata": {},
   "outputs": [],
   "source": [
    "a = Person('kim', 33)"
   ]
  },
  {
   "cell_type": "code",
   "execution_count": 97,
   "id": "1e7c5e10",
   "metadata": {},
   "outputs": [
    {
     "data": {
      "text/plain": [
       "33"
      ]
     },
     "execution_count": 97,
     "metadata": {},
     "output_type": "execute_result"
    }
   ],
   "source": [
    "a.age"
   ]
  }
 ],
 "metadata": {
  "kernelspec": {
   "display_name": "Python 3 (ipykernel)",
   "language": "python",
   "name": "python3"
  },
  "language_info": {
   "codemirror_mode": {
    "name": "ipython",
    "version": 3
   },
   "file_extension": ".py",
   "mimetype": "text/x-python",
   "name": "python",
   "nbconvert_exporter": "python",
   "pygments_lexer": "ipython3",
   "version": "3.9.7"
  }
 },
 "nbformat": 4,
 "nbformat_minor": 5
}
