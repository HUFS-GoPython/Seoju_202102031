{
 "cells": [
  {
   "cell_type": "markdown",
   "id": "b072fd41",
   "metadata": {},
   "source": [
    "### Dictionary\n",
    "- '영어 사전' 이라고 생각하면 됨\n",
    "- 형태 - 단어:뜻\n",
    "- 키: 값\n",
    "    - 키 값은 고유해야 함 (키 값이 중복이 되면 안 됨)\n",
    "- 순서가 없음 => 오프셋 없음\n",
    "    - 인덱스 (ex. a[0]) 존재하지 않음\n",
    "- 가변 객체 (수정, 추가, 삭제 기능)\n",
    "- 타입: dict, dict()\n",
    "- 생성: {k1: v1, k2: v2, ...} 중괄호 사용\n",
    "- value에는 리스트, 튜플, 딕셔너리 모두 들어갈 수 있음"
   ]
  },
  {
   "cell_type": "code",
   "execution_count": 6,
   "id": "cccd8171",
   "metadata": {},
   "outputs": [
    {
     "data": {
      "text/plain": [
       "{1, 2, 3}"
      ]
     },
     "execution_count": 6,
     "metadata": {},
     "output_type": "execute_result"
    }
   ],
   "source": [
    "# set: 집합 (똑같이 {}를 사용하지만 딕셔너리 아님)\n",
    "\n",
    "a = [1, 2, 3]\n",
    "set(a)"
   ]
  },
  {
   "cell_type": "code",
   "execution_count": 5,
   "id": "7cc79fc4",
   "metadata": {},
   "outputs": [
    {
     "data": {
      "text/plain": [
       "{}"
      ]
     },
     "execution_count": 5,
     "metadata": {},
     "output_type": "execute_result"
    }
   ],
   "source": [
    "# dictionary\n",
    "\n",
    "a = {}\n",
    "a"
   ]
  },
  {
   "cell_type": "code",
   "execution_count": 3,
   "id": "31e57e7f",
   "metadata": {},
   "outputs": [
    {
     "data": {
      "text/plain": [
       "set()"
      ]
     },
     "execution_count": 3,
     "metadata": {},
     "output_type": "execute_result"
    }
   ],
   "source": [
    "# set\n",
    "\n",
    "a = set()\n",
    "a"
   ]
  },
  {
   "cell_type": "code",
   "execution_count": 2,
   "id": "8c02893c",
   "metadata": {},
   "outputs": [
    {
     "data": {
      "text/plain": [
       "{}"
      ]
     },
     "execution_count": 2,
     "metadata": {},
     "output_type": "execute_result"
    }
   ],
   "source": [
    "# 빈 딕셔너리 생성\n",
    "\n",
    "empty = dict()\n",
    "empty = {}\n",
    "empty"
   ]
  },
  {
   "cell_type": "code",
   "execution_count": 6,
   "id": "c6627c34",
   "metadata": {},
   "outputs": [
    {
     "data": {
      "text/plain": [
       "{'first': 'wile', 'middle': 'E', 'last': 'coyote'}"
      ]
     },
     "execution_count": 6,
     "metadata": {},
     "output_type": "execute_result"
    }
   ],
   "source": [
    "# 01.\n",
    "customer = {'first' : 'wile', 'middle': 'E', 'last': 'coyote'}\n",
    "customer"
   ]
  },
  {
   "cell_type": "code",
   "execution_count": 8,
   "id": "1c75581e",
   "metadata": {},
   "outputs": [
    {
     "data": {
      "text/plain": [
       "{'first': 'wile', 'middler': 'F', 'last': 'coyote'}"
      ]
     },
     "execution_count": 8,
     "metadata": {},
     "output_type": "execute_result"
    }
   ],
   "source": [
    "# 02. \n",
    "customer = dict(first = 'wile', middler = 'F', last = 'coyote')\n",
    "customer"
   ]
  },
  {
   "cell_type": "markdown",
   "id": "25faf156",
   "metadata": {},
   "source": [
    "#### mini quiz. 출석부 딕셔너리 만들기\n",
    "- 이름, 학번, 학과\n",
    " - 제임스 202201 경영학과\n",
    " - 줄리엣 202202 아랍어과\n",
    " - 로버트 202203 ELLT과\n",
    "- student_dic = {}"
   ]
  },
  {
   "cell_type": "code",
   "execution_count": 130,
   "id": "c7c0b6a2",
   "metadata": {},
   "outputs": [],
   "source": [
    "# 키 값은 고유해야 하므로 중복 없는 요소를 키 값으로 설정"
   ]
  },
  {
   "cell_type": "code",
   "execution_count": 132,
   "id": "557ddbb7",
   "metadata": {},
   "outputs": [
    {
     "data": {
      "text/plain": [
       "{'202201': ['제임스', '경영학과'],\n",
       " '202202': ['줄리엣', '아랍어과'],\n",
       " '202203': ['로버트', 'ELLT과']}"
      ]
     },
     "execution_count": 132,
     "metadata": {},
     "output_type": "execute_result"
    }
   ],
   "source": [
    "student_dic = {'202201':['제임스', '경영학과'], \n",
    "               '202202':['줄리엣', '아랍어과'],\n",
    "               '202203':['로버트', 'ELLT과']}\n",
    "student_dic"
   ]
  },
  {
   "cell_type": "code",
   "execution_count": 133,
   "id": "c9b7cb27",
   "metadata": {},
   "outputs": [
    {
     "data": {
      "text/plain": [
       "['제임스', '경영학과']"
      ]
     },
     "execution_count": 133,
     "metadata": {},
     "output_type": "execute_result"
    }
   ],
   "source": [
    "student_dic['202201']"
   ]
  },
  {
   "cell_type": "markdown",
   "id": "7944652c",
   "metadata": {},
   "source": [
    "### 형변환\n",
    "- dict()"
   ]
  },
  {
   "cell_type": "code",
   "execution_count": 15,
   "id": "28ebebdc",
   "metadata": {},
   "outputs": [
    {
     "data": {
      "text/plain": [
       "{1: 2, 3: 4, 5: 6}"
      ]
     },
     "execution_count": 15,
     "metadata": {},
     "output_type": "execute_result"
    }
   ],
   "source": [
    "# 01. 짝이 있는 이중 리스트\n",
    "\n",
    "ex1 = [[1, 2], [3, 4], [5, 6]]\n",
    "dict(ex1)"
   ]
  },
  {
   "cell_type": "code",
   "execution_count": 16,
   "id": "804aaada",
   "metadata": {},
   "outputs": [
    {
     "data": {
      "text/plain": [
       "{1: 2, 3: 4, 5: 6}"
      ]
     },
     "execution_count": 16,
     "metadata": {},
     "output_type": "execute_result"
    }
   ],
   "source": [
    "# 02. 짝이 있는 튜플\n",
    "\n",
    "ex2 = [(1, 2), (3, 4), (5, 6)]\n",
    "dict(ex2)"
   ]
  },
  {
   "cell_type": "code",
   "execution_count": 7,
   "id": "a9d33bb1",
   "metadata": {},
   "outputs": [
    {
     "data": {
      "text/plain": [
       "{'a': 'b', 'b': 'c', 'c': 'd'}"
      ]
     },
     "execution_count": 7,
     "metadata": {},
     "output_type": "execute_result"
    }
   ],
   "source": [
    "# 03. 길이가 2자인 문자열\n",
    "\n",
    "ex3 = ['ab', 'bc', 'cd'] # 주의: 길이가 2자 이상이면 오류 뜸\n",
    "dict(ex3)"
   ]
  },
  {
   "cell_type": "markdown",
   "id": "b1968e93",
   "metadata": {},
   "source": [
    "#### 항목 조회 & 변경\n",
    "- key로 항목을 찾아 값을 할당\n",
    "- 이미 존재하는 key일 경우 값을 변경\n",
    "- key가 없으면 새로 생성"
   ]
  },
  {
   "cell_type": "code",
   "execution_count": 46,
   "id": "598dc9c1",
   "metadata": {},
   "outputs": [],
   "source": [
    "pythons = {'Chapman': 'Graham',\n",
    "           'Cleese': 'John',\n",
    "           'Idle' : 'Jones',\n",
    "           'Jones': 'Terry', \n",
    "           'Palin': 'Michael'\n",
    "}"
   ]
  },
  {
   "cell_type": "code",
   "execution_count": 47,
   "id": "26c71d77",
   "metadata": {},
   "outputs": [
    {
     "data": {
      "text/plain": [
       "'Jones'"
      ]
     },
     "execution_count": 47,
     "metadata": {},
     "output_type": "execute_result"
    }
   ],
   "source": [
    "# key로 value 찾기\n",
    "\n",
    "pythons['Idle']"
   ]
  },
  {
   "cell_type": "code",
   "execution_count": 48,
   "id": "101c6808",
   "metadata": {},
   "outputs": [
    {
     "ename": "KeyError",
     "evalue": "0",
     "output_type": "error",
     "traceback": [
      "\u001b[1;31m---------------------------------------------------------------------------\u001b[0m",
      "\u001b[1;31mKeyError\u001b[0m                                  Traceback (most recent call last)",
      "\u001b[1;32m~\\AppData\\Local\\Temp/ipykernel_8784/86736375.py\u001b[0m in \u001b[0;36m<module>\u001b[1;34m\u001b[0m\n\u001b[0;32m      1\u001b[0m \u001b[1;31m# index 사용 안됨\u001b[0m\u001b[1;33m\u001b[0m\u001b[1;33m\u001b[0m\u001b[0m\n\u001b[1;32m----> 2\u001b[1;33m \u001b[0mpythons\u001b[0m\u001b[1;33m[\u001b[0m\u001b[1;36m0\u001b[0m\u001b[1;33m]\u001b[0m\u001b[1;33m\u001b[0m\u001b[1;33m\u001b[0m\u001b[0m\n\u001b[0m",
      "\u001b[1;31mKeyError\u001b[0m: 0"
     ]
    }
   ],
   "source": [
    "# index 사용 안됨\n",
    "\n",
    "pythons[0]"
   ]
  },
  {
   "cell_type": "code",
   "execution_count": 49,
   "id": "dac0f489",
   "metadata": {},
   "outputs": [
    {
     "data": {
      "text/plain": [
       "{'Chapman': 'Graham',\n",
       " 'Cleese': 'John',\n",
       " 'Idle': 'Erica',\n",
       " 'Jones': 'Terry',\n",
       " 'Palin': 'Josh'}"
      ]
     },
     "execution_count": 49,
     "metadata": {},
     "output_type": "execute_result"
    }
   ],
   "source": [
    "# value 값 변경\n",
    "\n",
    "pythons['Idle'] = 'Erica'\n",
    "pythons['Palin'] = 'Josh'\n",
    "pythons"
   ]
  },
  {
   "cell_type": "code",
   "execution_count": 50,
   "id": "88d51bcf",
   "metadata": {},
   "outputs": [
    {
     "data": {
      "text/plain": [
       "{'Chapman': 'Graham',\n",
       " 'Cleese': 'John',\n",
       " 'Idle': 'Erica',\n",
       " 'Jones': 'Terry',\n",
       " 'Palin': 'Josh',\n",
       " 'Kim': 'Laura'}"
      ]
     },
     "execution_count": 50,
     "metadata": {},
     "output_type": "execute_result"
    }
   ],
   "source": [
    "# 새로운 key 추가\n",
    "\n",
    "pythons['Kim'] = 'Laura'\n",
    "pythons"
   ]
  },
  {
   "cell_type": "code",
   "execution_count": 15,
   "id": "9529cce1",
   "metadata": {},
   "outputs": [
    {
     "ename": "KeyError",
     "evalue": "'Lee'",
     "output_type": "error",
     "traceback": [
      "\u001b[1;31m---------------------------------------------------------------------------\u001b[0m",
      "\u001b[1;31mKeyError\u001b[0m                                  Traceback (most recent call last)",
      "\u001b[1;32m~\\AppData\\Local\\Temp/ipykernel_8784/970887122.py\u001b[0m in \u001b[0;36m<module>\u001b[1;34m\u001b[0m\n\u001b[0;32m      1\u001b[0m \u001b[1;31m# 없는 value를 찾으면 에러 발생\u001b[0m\u001b[1;33m\u001b[0m\u001b[1;33m\u001b[0m\u001b[0m\n\u001b[1;32m----> 2\u001b[1;33m \u001b[0mpythons\u001b[0m\u001b[1;33m[\u001b[0m\u001b[1;34m'Lee'\u001b[0m\u001b[1;33m]\u001b[0m\u001b[1;33m\u001b[0m\u001b[1;33m\u001b[0m\u001b[0m\n\u001b[0m",
      "\u001b[1;31mKeyError\u001b[0m: 'Lee'"
     ]
    }
   ],
   "source": [
    "# 없는 key를 찾으면 에러 발생\n",
    "\n",
    "pythons['Lee']"
   ]
  },
  {
   "cell_type": "code",
   "execution_count": 27,
   "id": "9fb65d9d",
   "metadata": {},
   "outputs": [
    {
     "data": {
      "text/plain": [
       "False"
      ]
     },
     "execution_count": 27,
     "metadata": {},
     "output_type": "execute_result"
    }
   ],
   "source": [
    "# 따라서 존재하는지 체크 먼저\n",
    "\n",
    "'Lee' in pythons"
   ]
  },
  {
   "cell_type": "code",
   "execution_count": 29,
   "id": "f91c79c6",
   "metadata": {},
   "outputs": [],
   "source": [
    "# get(): 없는 key를 찾으면 아무것도 반환하지 않음, 에러 X\n",
    "\n",
    "pythons.get('Lee')"
   ]
  },
  {
   "cell_type": "code",
   "execution_count": 51,
   "id": "c36227b5",
   "metadata": {},
   "outputs": [
    {
     "data": {
      "text/plain": [
       "'Laura'"
      ]
     },
     "execution_count": 51,
     "metadata": {},
     "output_type": "execute_result"
    }
   ],
   "source": [
    "pythons.get('Kim')"
   ]
  },
  {
   "cell_type": "code",
   "execution_count": 52,
   "id": "70df5b26",
   "metadata": {},
   "outputs": [
    {
     "data": {
      "text/plain": [
       "'존재하지 않는 key입니다.'"
      ]
     },
     "execution_count": 52,
     "metadata": {},
     "output_type": "execute_result"
    }
   ],
   "source": [
    "# 찾는 값이 없을 시에 반환할 값 지정 가능\n",
    "\n",
    "pythons.get('Choi', '존재하지 않는 key입니다.')"
   ]
  },
  {
   "cell_type": "markdown",
   "id": "3a3be97e",
   "metadata": {},
   "source": [
    "#### keys(), values(). items()\n",
    "- keys: key 값 리턴\n",
    "- values: value 값 리턴\n",
    "- items: key, value 값 리턴\n",
    "    - 딕셔너리 순회 시 사용"
   ]
  },
  {
   "cell_type": "code",
   "execution_count": 53,
   "id": "d41cc8fe",
   "metadata": {},
   "outputs": [
    {
     "data": {
      "text/plain": [
       "dict_keys(['Chapman', 'Cleese', 'Idle', 'Jones', 'Palin', 'Kim'])"
      ]
     },
     "execution_count": 53,
     "metadata": {},
     "output_type": "execute_result"
    }
   ],
   "source": [
    "pythons.keys()"
   ]
  },
  {
   "cell_type": "code",
   "execution_count": 54,
   "id": "3c24a8e8",
   "metadata": {},
   "outputs": [
    {
     "data": {
      "text/plain": [
       "dict_values(['Graham', 'John', 'Erica', 'Terry', 'Josh', 'Laura'])"
      ]
     },
     "execution_count": 54,
     "metadata": {},
     "output_type": "execute_result"
    }
   ],
   "source": [
    "pythons.values()"
   ]
  },
  {
   "cell_type": "code",
   "execution_count": 55,
   "id": "c978b2e0",
   "metadata": {},
   "outputs": [
    {
     "data": {
      "text/plain": [
       "dict_items([('Chapman', 'Graham'), ('Cleese', 'John'), ('Idle', 'Erica'), ('Jones', 'Terry'), ('Palin', 'Josh'), ('Kim', 'Laura')])"
      ]
     },
     "execution_count": 55,
     "metadata": {},
     "output_type": "execute_result"
    }
   ],
   "source": [
    "# items(): 리스트 안에 튜플 형식으로 들어간 형태로 반환됨\n",
    "\n",
    "pythons.items()"
   ]
  },
  {
   "cell_type": "code",
   "execution_count": 56,
   "id": "32d28c5f",
   "metadata": {},
   "outputs": [
    {
     "data": {
      "text/plain": [
       "['Chapman', 'Cleese', 'Idle', 'Jones', 'Palin', 'Kim']"
      ]
     },
     "execution_count": 56,
     "metadata": {},
     "output_type": "execute_result"
    }
   ],
   "source": [
    "# 리스트로 형변환도 가능\n",
    "\n",
    "list(pythons.keys())"
   ]
  },
  {
   "cell_type": "code",
   "execution_count": 57,
   "id": "915e19f7",
   "metadata": {},
   "outputs": [
    {
     "data": {
      "text/plain": [
       "['Chapman', 'Cleese', 'Idle', 'Jones', 'Palin', 'Kim']"
      ]
     },
     "execution_count": 57,
     "metadata": {},
     "output_type": "execute_result"
    }
   ],
   "source": [
    "# items()에는 순서가 있으므로 인덱싱 가능\n",
    "\n",
    "[x[0] for x in pythons.items()] # key 값 반환"
   ]
  },
  {
   "cell_type": "code",
   "execution_count": 58,
   "id": "431801d4",
   "metadata": {},
   "outputs": [
    {
     "data": {
      "text/plain": [
       "['Graham', 'John', 'Erica', 'Terry', 'Josh', 'Laura']"
      ]
     },
     "execution_count": 58,
     "metadata": {},
     "output_type": "execute_result"
    }
   ],
   "source": [
    "[x[1] for x in pythons.items()] # value 값 반환"
   ]
  },
  {
   "cell_type": "markdown",
   "id": "88b62188",
   "metadata": {},
   "source": [
    "#### quiz 1. for loop 이용하여 animal : legs로 이루어진 딕셔너리 만들기"
   ]
  },
  {
   "cell_type": "code",
   "execution_count": 56,
   "id": "b7295bd9",
   "metadata": {},
   "outputs": [],
   "source": [
    "animal = 'cat snake monkey ant spider'.split()\n",
    "legs = 4, 0, 2, 4, 8"
   ]
  },
  {
   "cell_type": "code",
   "execution_count": 60,
   "id": "892ddbf0",
   "metadata": {},
   "outputs": [
    {
     "data": {
      "text/plain": [
       "{'cat': 4, 'snake': 0, 'monkey': 2, 'ant': 4, 'spider': 8}"
      ]
     },
     "execution_count": 60,
     "metadata": {},
     "output_type": "execute_result"
    }
   ],
   "source": [
    "# 정답\n",
    "\n",
    "animal_dic = {}\n",
    "for key, value in zip(animal, legs):\n",
    "    animal_dic[key] = value\n",
    "animal_dic"
   ]
  },
  {
   "cell_type": "markdown",
   "id": "7e7f23a5",
   "metadata": {},
   "source": [
    "#### quiz 2. pythons에서 성:이름 => 리스트컴프리핸션 이용해서 [(성 앞글자, 이름 글자 수)] 출력"
   ]
  },
  {
   "cell_type": "code",
   "execution_count": 59,
   "id": "c16da177",
   "metadata": {},
   "outputs": [
    {
     "data": {
      "text/plain": [
       "[('C', 6), ('C', 4), ('I', 5), ('J', 5), ('P', 4), ('K', 5)]"
      ]
     },
     "execution_count": 59,
     "metadata": {},
     "output_type": "execute_result"
    }
   ],
   "source": [
    "[(name[0][0], len(name[1])) for name in pythons.items()]"
   ]
  },
  {
   "cell_type": "code",
   "execution_count": 60,
   "id": "17e1c815",
   "metadata": {},
   "outputs": [
    {
     "data": {
      "text/plain": [
       "[('C', 6), ('C', 4), ('I', 5), ('J', 5), ('P', 4), ('K', 5)]"
      ]
     },
     "execution_count": 60,
     "metadata": {},
     "output_type": "execute_result"
    }
   ],
   "source": [
    "[(k[0][0], len(v)) for k,v in pythons.items()]"
   ]
  },
  {
   "cell_type": "markdown",
   "id": "b73c1f0c",
   "metadata": {},
   "source": [
    "#### 값 수정, 삭제, 복제"
   ]
  },
  {
   "cell_type": "code",
   "execution_count": 61,
   "id": "ecb2cc0b",
   "metadata": {},
   "outputs": [
    {
     "data": {
      "text/plain": [
       "{'Chapman': 'Graham',\n",
       " 'Cleese': 'John',\n",
       " 'Idle': 'Erica',\n",
       " 'Jones': 'Terry',\n",
       " 'Palin': 'Josh',\n",
       " 'Kim': 'Laura'}"
      ]
     },
     "execution_count": 61,
     "metadata": {},
     "output_type": "execute_result"
    }
   ],
   "source": [
    "pythons"
   ]
  },
  {
   "cell_type": "code",
   "execution_count": 62,
   "id": "66a4c8c1",
   "metadata": {},
   "outputs": [],
   "source": [
    "others = {\n",
    "    'Marx' : 'Groucho',\n",
    "    'Howard' : 'Moe'\n",
    "}"
   ]
  },
  {
   "cell_type": "code",
   "execution_count": 63,
   "id": "7ae6e159",
   "metadata": {},
   "outputs": [
    {
     "data": {
      "text/plain": [
       "{'Chapman': 'Graham',\n",
       " 'Cleese': 'John',\n",
       " 'Idle': 'Erica',\n",
       " 'Jones': 'Terry',\n",
       " 'Palin': 'Josh',\n",
       " 'Kim': 'Laura',\n",
       " 'Marx': 'Groucho',\n",
       " 'Howard': 'Moe'}"
      ]
     },
     "execution_count": 63,
     "metadata": {},
     "output_type": "execute_result"
    }
   ],
   "source": [
    "# update(): 추가\n",
    "\n",
    "pythons.update(others)\n",
    "pythons"
   ]
  },
  {
   "cell_type": "code",
   "execution_count": 64,
   "id": "a113231a",
   "metadata": {},
   "outputs": [
    {
     "data": {
      "text/plain": [
       "{'Chapman': 'Graham',\n",
       " 'Cleese': 'John',\n",
       " 'Idle': 'Erica',\n",
       " 'Jones': 'Terry',\n",
       " 'Palin': 'Josh',\n",
       " 'Marx': 'Groucho',\n",
       " 'Howard': 'Moe'}"
      ]
     },
     "execution_count": 64,
     "metadata": {},
     "output_type": "execute_result"
    }
   ],
   "source": [
    "# 삭제\n",
    "\n",
    "# 01. del\n",
    "del pythons['Kim']\n",
    "pythons"
   ]
  },
  {
   "cell_type": "code",
   "execution_count": 65,
   "id": "84ae9576",
   "metadata": {},
   "outputs": [
    {
     "data": {
      "text/plain": [
       "'Groucho'"
      ]
     },
     "execution_count": 65,
     "metadata": {},
     "output_type": "execute_result"
    }
   ],
   "source": [
    "# 02. pop(): value 값 반환 후 삭제\n",
    "\n",
    "pythons.pop('Marx')"
   ]
  },
  {
   "cell_type": "code",
   "execution_count": 66,
   "id": "fda84837",
   "metadata": {},
   "outputs": [
    {
     "data": {
      "text/plain": [
       "'존재하지 않는 key입니다.'"
      ]
     },
     "execution_count": 66,
     "metadata": {},
     "output_type": "execute_result"
    }
   ],
   "source": [
    "# get과 비슷한 성질 - 없는 값 삭제 시 오류 발생하지 않도록 반환값 설정 가능\n",
    "\n",
    "pythons.pop('Marx', '존재하지 않는 key입니다.') "
   ]
  },
  {
   "cell_type": "code",
   "execution_count": 68,
   "id": "5c2939c5",
   "metadata": {},
   "outputs": [],
   "source": [
    "# 모두 삭제\n",
    "# 01. clear()\n",
    "\n",
    "pythons.clear()"
   ]
  },
  {
   "cell_type": "code",
   "execution_count": 98,
   "id": "6f1ab162",
   "metadata": {},
   "outputs": [],
   "source": [
    "# 02. empty 딕셔너리 선언\n",
    "\n",
    "pythons = {}"
   ]
  },
  {
   "cell_type": "code",
   "execution_count": 69,
   "id": "c8cd0843",
   "metadata": {},
   "outputs": [
    {
     "data": {
      "text/plain": [
       "{}"
      ]
     },
     "execution_count": 69,
     "metadata": {},
     "output_type": "execute_result"
    }
   ],
   "source": [
    "pythons"
   ]
  },
  {
   "cell_type": "markdown",
   "id": "488370c6",
   "metadata": {},
   "source": [
    "#### copy\n",
    "- 1. 할당\n",
    "- 2. 얕은 복사\n",
    "- 3. 깊은 복사"
   ]
  },
  {
   "cell_type": "code",
   "execution_count": 101,
   "id": "bafe58bf",
   "metadata": {},
   "outputs": [
    {
     "data": {
      "text/plain": [
       "({1: 10, 2: 3, 3: 4}, {1: 10, 2: 3, 3: 4})"
      ]
     },
     "execution_count": 101,
     "metadata": {},
     "output_type": "execute_result"
    }
   ],
   "source": [
    "# 할당\n",
    "\n",
    "a = {1:2, 2:3, 3:4}\n",
    "b = a\n",
    "a[1] = 10\n",
    "a, b"
   ]
  },
  {
   "cell_type": "code",
   "execution_count": 102,
   "id": "016cbdb1",
   "metadata": {},
   "outputs": [
    {
     "data": {
      "text/plain": [
       "({1: 100, 2: 3, 3: 4}, {1: 10, 2: 3, 3: 4})"
      ]
     },
     "execution_count": 102,
     "metadata": {},
     "output_type": "execute_result"
    }
   ],
   "source": [
    "# 얕은 복사\n",
    "\n",
    "b = a.copy()\n",
    "a[1] = 100\n",
    "a, b"
   ]
  },
  {
   "cell_type": "code",
   "execution_count": 71,
   "id": "178c1cb3",
   "metadata": {},
   "outputs": [
    {
     "data": {
      "text/plain": [
       "({1: [100, 2, 2], 2: [1, 1, 1]}, {1: [100, 2, 2], 2: [1, 1, 1]})"
      ]
     },
     "execution_count": 71,
     "metadata": {},
     "output_type": "execute_result"
    }
   ],
   "source": [
    "a = {1: [2, 2, 2], 2: [1, 1, 1]}\n",
    "b = a.copy()\n",
    "a[1][0] = 100\n",
    "a, b"
   ]
  },
  {
   "cell_type": "code",
   "execution_count": 72,
   "id": "f3f97b64",
   "metadata": {},
   "outputs": [
    {
     "data": {
      "text/plain": [
       "({1: [9, 2, 2], 2: [1, 1, 1]}, {1: [100, 2, 2], 2: [1, 1, 1]})"
      ]
     },
     "execution_count": 72,
     "metadata": {},
     "output_type": "execute_result"
    }
   ],
   "source": [
    "# copy 라이브러리\n",
    "\n",
    "import copy \n",
    "b = copy.deepcopy(a)\n",
    "a[1][0] = 9\n",
    "a, b"
   ]
  },
  {
   "cell_type": "markdown",
   "id": "9aef4aa1",
   "metadata": {},
   "source": [
    "#### 값 비교\n",
    "- 대소비교 불가, 같은지 다른지만 가능"
   ]
  },
  {
   "cell_type": "code",
   "execution_count": 74,
   "id": "ff0905e6",
   "metadata": {},
   "outputs": [
    {
     "data": {
      "text/plain": [
       "False"
      ]
     },
     "execution_count": 74,
     "metadata": {},
     "output_type": "execute_result"
    }
   ],
   "source": [
    "a == b"
   ]
  },
  {
   "cell_type": "code",
   "execution_count": 73,
   "id": "7c127adc",
   "metadata": {},
   "outputs": [
    {
     "data": {
      "text/plain": [
       "True"
      ]
     },
     "execution_count": 73,
     "metadata": {},
     "output_type": "execute_result"
    }
   ],
   "source": [
    "a != b"
   ]
  },
  {
   "cell_type": "markdown",
   "id": "4857cb9a",
   "metadata": {},
   "source": [
    "#### exercise 1\n",
    "- 두 개 리스트\n",
    "- 명왕성: pluto 추가하기\n",
    "- '성'으로 끝나지 않는 단어 삭제하기\n",
    "    - del dict['태양'] => 이런 하드코딩 안됨\n",
    "- sorted \n",
    "1) kor 기준 2) eng 기준"
   ]
  },
  {
   "cell_type": "code",
   "execution_count": 76,
   "id": "ea53d29a",
   "metadata": {},
   "outputs": [],
   "source": [
    "solar_kor = '태양 수성 금성 지구 화성 목성 토성 천왕성 해왕성'.split()\n",
    "solar_eng = 'sun mercury venus earth mars jupiter saturn uranus neptune'.split()"
   ]
  },
  {
   "cell_type": "code",
   "execution_count": 83,
   "id": "890506a0",
   "metadata": {},
   "outputs": [
    {
     "data": {
      "text/plain": [
       "{'수성': 'mercury',\n",
       " '금성': 'venus',\n",
       " '화성': 'mars',\n",
       " '목성': 'jupiter',\n",
       " '토성': 'saturn',\n",
       " '천왕성': 'uranus',\n",
       " '해왕성': 'neptune',\n",
       " '명왕성': 'pluto'}"
      ]
     },
     "execution_count": 83,
     "metadata": {},
     "output_type": "execute_result"
    }
   ],
   "source": [
    "# 정답\n",
    "\n",
    "solar_system = {}\n",
    "for ko, en in zip(solar_kor, solar_eng):\n",
    "    solar_system[ko] = en\n",
    "solar_system\n",
    "\n",
    "# 2\n",
    "solar_system['명왕성'] = 'pluto'\n",
    "solar_system\n",
    "\n",
    "# 3\n",
    "{k: solar_system[k] for k in solar_system if k.endswith('성')}\n",
    "# or\n",
    "# {k:v for k, v in solar_system.items() if~}"
   ]
  },
  {
   "cell_type": "code",
   "execution_count": 85,
   "id": "d0dd88f0",
   "metadata": {},
   "outputs": [
    {
     "name": "stdout",
     "output_type": "stream",
     "text": [
      "[('금성', 'venus'), ('명왕성', 'pluto'), ('목성', 'jupiter'), ('수성', 'mercury'), ('지구', 'earth'), ('천왕성', 'uranus'), ('태양', 'sun'), ('토성', 'saturn'), ('해왕성', 'neptune'), ('화성', 'mars')]\n"
     ]
    }
   ],
   "source": [
    "# 4: kor 기준 정렬\n",
    "\n",
    "sorted_by_key = sorted(solar_system.items())\n",
    "print(sorted_by_key)"
   ]
  },
  {
   "cell_type": "code",
   "execution_count": 86,
   "id": "817c3708",
   "metadata": {},
   "outputs": [
    {
     "data": {
      "text/plain": [
       "[('지구', 'earth'),\n",
       " ('목성', 'jupiter'),\n",
       " ('화성', 'mars'),\n",
       " ('수성', 'mercury'),\n",
       " ('해왕성', 'neptune'),\n",
       " ('명왕성', 'pluto'),\n",
       " ('토성', 'saturn'),\n",
       " ('태양', 'sun'),\n",
       " ('천왕성', 'uranus'),\n",
       " ('금성', 'venus')]"
      ]
     },
     "execution_count": 86,
     "metadata": {},
     "output_type": "execute_result"
    }
   ],
   "source": [
    "# 5: eng 기준 정렬\n",
    "\n",
    "# 01\n",
    "def function(s):\n",
    "    return s[1]\n",
    "sorted(solar_system.items(), key=function)"
   ]
  },
  {
   "cell_type": "code",
   "execution_count": 87,
   "id": "b81e3cad",
   "metadata": {},
   "outputs": [
    {
     "data": {
      "text/plain": [
       "[('지구', 'earth'),\n",
       " ('목성', 'jupiter'),\n",
       " ('화성', 'mars'),\n",
       " ('수성', 'mercury'),\n",
       " ('해왕성', 'neptune'),\n",
       " ('명왕성', 'pluto'),\n",
       " ('토성', 'saturn'),\n",
       " ('태양', 'sun'),\n",
       " ('천왕성', 'uranus'),\n",
       " ('금성', 'venus')]"
      ]
     },
     "execution_count": 87,
     "metadata": {},
     "output_type": "execute_result"
    }
   ],
   "source": [
    "# 02\n",
    "sorted(solar_system.items(), key=lambda x: x[1]) # 익명 함수"
   ]
  },
  {
   "cell_type": "markdown",
   "id": "8d68398a",
   "metadata": {},
   "source": [
    "#### 예제: 01"
   ]
  },
  {
   "cell_type": "code",
   "execution_count": 158,
   "id": "699dd111",
   "metadata": {},
   "outputs": [],
   "source": [
    "accusation = {'room':'ballroom', 'weapon':'lead pipe', 'person':'Col.Mustard'}"
   ]
  },
  {
   "cell_type": "code",
   "execution_count": 160,
   "id": "919f1681",
   "metadata": {},
   "outputs": [
    {
     "name": "stdout",
     "output_type": "stream",
     "text": [
      "room has the contents ballroom\n",
      "weapon has the contents lead pipe\n",
      "person has the contents Col.Mustard\n"
     ]
    }
   ],
   "source": [
    "for k, v in accusation.items():\n",
    "    print(f'{k} has the contents {v}')"
   ]
  },
  {
   "cell_type": "markdown",
   "id": "09632f5f",
   "metadata": {},
   "source": [
    "#### 02. 글자 수 세기"
   ]
  },
  {
   "cell_type": "code",
   "execution_count": 94,
   "id": "42be73da",
   "metadata": {
    "scrolled": true
   },
   "outputs": [
    {
     "data": {
      "text/plain": [
       "{'p': 2, 'e': 1, 'a': 1, 'l': 1}"
      ]
     },
     "execution_count": 94,
     "metadata": {},
     "output_type": "execute_result"
    }
   ],
   "source": [
    "letter = 'apple'\n",
    "# {a:1, p:2, ...}\n",
    "{ch: letter.count(ch) for ch in letter}\n",
    "\n",
    "# p가 2번 돌아가므로, set 사용하면 더 효율적\n",
    "{ch: letter.count(ch) for ch in set(letter)}"
   ]
  },
  {
   "cell_type": "markdown",
   "id": "95a63c94",
   "metadata": {},
   "source": [
    "#### 03. 주어진 단어의 모음 세기\n",
    "- a:1, e:3, ..."
   ]
  },
  {
   "cell_type": "code",
   "execution_count": 96,
   "id": "612aae3d",
   "metadata": {},
   "outputs": [],
   "source": [
    "vowels = 'aeiou'\n",
    "word = 'onomatopoeia'"
   ]
  },
  {
   "cell_type": "code",
   "execution_count": 107,
   "id": "1e7da77a",
   "metadata": {},
   "outputs": [
    {
     "data": {
      "text/plain": [
       "({'a': 2, 'e': 1, 'i': 1, 'o': 4, 'u': 0}, {'o': 4, 'a': 2, 'i': 1, 'e': 1})"
      ]
     },
     "execution_count": 107,
     "metadata": {},
     "output_type": "execute_result"
    }
   ],
   "source": [
    "# 1. vowels 순회\n",
    "op1 = {v: word.count(v) for v in vowels}\n",
    "\n",
    "# 2. word 순회 \n",
    "op2 = {ch: word.count(ch) for ch in set(word) if ch in vowels}\n",
    "\n",
    "op1, op2"
   ]
  },
  {
   "cell_type": "markdown",
   "id": "733d88a7",
   "metadata": {},
   "source": [
    "## Set\n",
    "- 딕셔너리의 키만 모아놓음 => 중복 없음!\n",
    "- 수학의 집합 개념; 교집합, 합집합, 차집합, ...\n",
    "- 데이터 자루\n",
    "- 순서, 인덱싱 x"
   ]
  },
  {
   "cell_type": "code",
   "execution_count": 174,
   "id": "20f04c5f",
   "metadata": {},
   "outputs": [
    {
     "data": {
      "text/plain": [
       "(set(), {})"
      ]
     },
     "execution_count": 174,
     "metadata": {},
     "output_type": "execute_result"
    }
   ],
   "source": [
    "empty = set()\n",
    "empty1 = {} # dict\n",
    "empty, empty1"
   ]
  },
  {
   "cell_type": "code",
   "execution_count": 175,
   "id": "fd7b188f",
   "metadata": {},
   "outputs": [
    {
     "data": {
      "text/plain": [
       "set"
      ]
     },
     "execution_count": 175,
     "metadata": {},
     "output_type": "execute_result"
    }
   ],
   "source": [
    "a = {1, 2, 3}\n",
    "type(a)"
   ]
  },
  {
   "cell_type": "code",
   "execution_count": 177,
   "id": "835f62df",
   "metadata": {},
   "outputs": [
    {
     "ename": "TypeError",
     "evalue": "set expected at most 1 argument, got 3",
     "output_type": "error",
     "traceback": [
      "\u001b[1;31m---------------------------------------------------------------------------\u001b[0m",
      "\u001b[1;31mTypeError\u001b[0m                                 Traceback (most recent call last)",
      "\u001b[1;32m~\\AppData\\Local\\Temp/ipykernel_7224/3800378259.py\u001b[0m in \u001b[0;36m<module>\u001b[1;34m\u001b[0m\n\u001b[1;32m----> 1\u001b[1;33m \u001b[0mb\u001b[0m \u001b[1;33m=\u001b[0m \u001b[0mset\u001b[0m\u001b[1;33m(\u001b[0m\u001b[1;36m1\u001b[0m\u001b[1;33m,\u001b[0m \u001b[1;36m2\u001b[0m\u001b[1;33m,\u001b[0m \u001b[1;36m3\u001b[0m\u001b[1;33m)\u001b[0m \u001b[1;31m# 오류\u001b[0m\u001b[1;33m\u001b[0m\u001b[1;33m\u001b[0m\u001b[0m\n\u001b[0m",
      "\u001b[1;31mTypeError\u001b[0m: set expected at most 1 argument, got 3"
     ]
    }
   ],
   "source": [
    "b = set(1, 2, 3) # 오류"
   ]
  },
  {
   "cell_type": "code",
   "execution_count": 178,
   "id": "087a4f97",
   "metadata": {},
   "outputs": [],
   "source": [
    "b = set([1, 2, 3])"
   ]
  },
  {
   "cell_type": "code",
   "execution_count": 179,
   "id": "034b52f6",
   "metadata": {},
   "outputs": [],
   "source": [
    "b = set([1, 2, 3, 3, 3, 3])"
   ]
  },
  {
   "cell_type": "code",
   "execution_count": 180,
   "id": "63b5f1b7",
   "metadata": {},
   "outputs": [
    {
     "data": {
      "text/plain": [
       "{1, 2, 3}"
      ]
     },
     "execution_count": 180,
     "metadata": {},
     "output_type": "execute_result"
    }
   ],
   "source": [
    "b"
   ]
  },
  {
   "cell_type": "code",
   "execution_count": 181,
   "id": "98f34061",
   "metadata": {},
   "outputs": [
    {
     "data": {
      "text/plain": [
       "{1, 2, 3, 4}"
      ]
     },
     "execution_count": 181,
     "metadata": {},
     "output_type": "execute_result"
    }
   ],
   "source": [
    "# 추가\n",
    "a.add(4)\n",
    "a"
   ]
  },
  {
   "cell_type": "code",
   "execution_count": 182,
   "id": "b0447c43",
   "metadata": {},
   "outputs": [
    {
     "data": {
      "text/plain": [
       "{1, 2, 3}"
      ]
     },
     "execution_count": 182,
     "metadata": {},
     "output_type": "execute_result"
    }
   ],
   "source": [
    "# 삭제\n",
    "a.remove(4)\n",
    "a"
   ]
  },
  {
   "cell_type": "code",
   "execution_count": 183,
   "id": "ddc637e3",
   "metadata": {},
   "outputs": [
    {
     "data": {
      "text/plain": [
       "{1, 2}"
      ]
     },
     "execution_count": 183,
     "metadata": {},
     "output_type": "execute_result"
    }
   ],
   "source": [
    "a.discard(3)\n",
    "a"
   ]
  },
  {
   "cell_type": "markdown",
   "id": "2480ce37",
   "metadata": {},
   "source": [
    "#### 04\n",
    "- 1. vodka가 있는 키 골라내기\n",
    "- 2. 보드카는 있는데 크림이나 버무스가 있으면 프린트하지 않기"
   ]
  },
  {
   "cell_type": "code",
   "execution_count": 115,
   "id": "9cd4f1c5",
   "metadata": {},
   "outputs": [],
   "source": [
    "drinks = {\n",
    "    'martini' :{'vodka', 'vermouth'},\n",
    "    'black russian':{'vodka', 'Kahlua'},\n",
    "    'white russian':{'cream', 'Kahlua', 'vodka'},\n",
    "    'mahattan':{'rye', 'vermouth', 'bitters'},\n",
    "    'screwdriver':{'orange juice', 'vodka'}\n",
    "}"
   ]
  },
  {
   "cell_type": "code",
   "execution_count": 116,
   "id": "dc04654e",
   "metadata": {},
   "outputs": [
    {
     "name": "stdout",
     "output_type": "stream",
     "text": [
      "martini\n",
      "black russian\n",
      "white russian\n",
      "screwdriver\n"
     ]
    }
   ],
   "source": [
    "for (k,v) in drinks.items():\n",
    "    if 'vodka' in v:\n",
    "        print(k)"
   ]
  },
  {
   "cell_type": "code",
   "execution_count": 123,
   "id": "361c077f",
   "metadata": {},
   "outputs": [
    {
     "name": "stdout",
     "output_type": "stream",
     "text": [
      "black russian\n",
      "screwdriver\n"
     ]
    }
   ],
   "source": [
    "for k,v in drinks.items():\n",
    "    if 'vodka' in v and not ('cream' in v or 'vermouth' in v):\n",
    "        print(k)"
   ]
  },
  {
   "cell_type": "code",
   "execution_count": 122,
   "id": "eaa46142",
   "metadata": {},
   "outputs": [
    {
     "name": "stdout",
     "output_type": "stream",
     "text": [
      "black russian\n",
      "screwdriver\n"
     ]
    }
   ],
   "source": [
    "for k,v in drinks.items():\n",
    "    # 각각의 집합 v & {'cream', 'vermouth'} 없으면\n",
    "    if 'vodka' in v and not v & {'cream', 'vermouth'}:\n",
    "        print(k)"
   ]
  },
  {
   "cell_type": "code",
   "execution_count": 126,
   "id": "71794e14",
   "metadata": {},
   "outputs": [
    {
     "data": {
      "text/plain": [
       "{4}"
      ]
     },
     "execution_count": 126,
     "metadata": {},
     "output_type": "execute_result"
    }
   ],
   "source": [
    "a = {1, 2, 3}\n",
    "b = {2, 3, 4}\n",
    "\n",
    "# 교집합: intersection\n",
    "a.intersection(b) # a & b\n",
    "# 합집합: union\n",
    "a.union(b) # a | b\n",
    "# 차집합: difference\n",
    "a.difference(b) # a - b\n",
    "\n",
    "b-a"
   ]
  },
  {
   "cell_type": "markdown",
   "id": "67a7aefe",
   "metadata": {},
   "source": [
    "#### comprehension"
   ]
  },
  {
   "cell_type": "code",
   "execution_count": 127,
   "id": "2afbb7a4",
   "metadata": {},
   "outputs": [
    {
     "data": {
      "text/plain": [
       "{1, 2, 3}"
      ]
     },
     "execution_count": 127,
     "metadata": {},
     "output_type": "execute_result"
    }
   ],
   "source": [
    "{s for s in a}"
   ]
  },
  {
   "cell_type": "code",
   "execution_count": 124,
   "id": "5c1b01e5",
   "metadata": {},
   "outputs": [
    {
     "data": {
      "text/plain": [
       "frozenset({1, 2, 3})"
      ]
     },
     "execution_count": 124,
     "metadata": {},
     "output_type": "execute_result"
    }
   ],
   "source": [
    "# frozenset: 가변 객체를 불변 객체로 만듦\n",
    "# 참고만\n",
    "fs = frozenset([1, 2, 3])\n",
    "fs"
   ]
  }
 ],
 "metadata": {
  "kernelspec": {
   "display_name": "Python 3 (ipykernel)",
   "language": "python",
   "name": "python3"
  },
  "language_info": {
   "codemirror_mode": {
    "name": "ipython",
    "version": 3
   },
   "file_extension": ".py",
   "mimetype": "text/x-python",
   "name": "python",
   "nbconvert_exporter": "python",
   "pygments_lexer": "ipython3",
   "version": "3.9.7"
  }
 },
 "nbformat": 4,
 "nbformat_minor": 5
}
