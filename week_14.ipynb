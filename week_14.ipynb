{
 "cells": [
  {
   "cell_type": "markdown",
   "id": "31adf9cc",
   "metadata": {},
   "source": [
    "### 파일과 디렉터리\n",
    "- 디렉터리: 우리가 아는 '폴더'의 개념. 파일이 논리적으로 묶인 단위\n",
    "- 파일: 컴퓨터를 실행하는 기본 단위\n",
    "    - 파일명 + 확장자\n",
    "    - 확장자: 파일의 쓰임을 구분하는\n",
    "        - .pdf, .xlsx, .txt, .docx, ...\n",
    "    - 종류: 바이너리 파일, 텍스트 파일\n",
    "        - 바이너리: 이진 정보로 저장됨\n",
    "            - 내용을 확인할 수 없음\n",
    "            - 해당 확장자를 열 수 있는 프로그램이 필요\n",
    "        - 텍스트: 사람이 이해할 수 있는 문자열로 저장됨\n",
    "            - 메모장, html, py\n",
    "            - 변경 기준: 아스키코드, 유니코드\n",
    "            - 인코딩(encoding)\n",
    "            - utf-8 : 가장 흔하게 사용\n",
    "            - cp494"
   ]
  },
  {
   "cell_type": "markdown",
   "id": "d96b3bcf",
   "metadata": {},
   "source": [
    "#### 파일 열기\n",
    "- open(파일명, 모드)\n",
    "- 모드\n",
    "    - r: read (default)\n",
    "    - w: write - 파일이 있으면 덮어쓰고, 없으면 생성\n",
    "    - x: 파일이 없을 때만 생성\n",
    "    - a: 파일이 있을 때 마지막 라인에 추가\n",
    "    \n",
    "    - 추가 모드\n",
    "        - b: binary\n",
    "        - t: text (default)\n",
    "    \n",
    "    - 'rb', 'rt'"
   ]
  },
  {
   "cell_type": "code",
   "execution_count": 22,
   "id": "478940d3",
   "metadata": {},
   "outputs": [],
   "source": [
    "# 파일 열기\n",
    "\n",
    "file = 'hello.txt'\n",
    "f = open(file, 'r')"
   ]
  },
  {
   "cell_type": "code",
   "execution_count": 9,
   "id": "c93f3f55",
   "metadata": {},
   "outputs": [
    {
     "data": {
      "text/plain": [
       "<_io.TextIOWrapper name='hello.txt' mode='r' encoding='cp949'>"
      ]
     },
     "execution_count": 9,
     "metadata": {},
     "output_type": "execute_result"
    }
   ],
   "source": [
    "f"
   ]
  },
  {
   "cell_type": "markdown",
   "id": "6788e7b2",
   "metadata": {},
   "source": [
    "#### 파일 읽기\n",
    "- read(n): 전체를 하나의 str로 불러오기(n번째까지 불러오기)\n",
    "    - 포인터\n",
    "    - 다시 read()하면 읽은 데 다음부터 읽어짐\n",
    "- readline(): 한 줄만 str로\n",
    "- readlines(): 전체를 list로, 각 줄이 한 str로 리스트의 원소"
   ]
  },
  {
   "cell_type": "code",
   "execution_count": 14,
   "id": "354c9e71",
   "metadata": {},
   "outputs": [
    {
     "data": {
      "text/plain": [
       "'Hello world\\nWelcome to python.'"
      ]
     },
     "execution_count": 14,
     "metadata": {},
     "output_type": "execute_result"
    }
   ],
   "source": [
    "# 파일 읽기\n",
    "\n",
    "f.read()"
   ]
  },
  {
   "cell_type": "code",
   "execution_count": 15,
   "id": "8ae56cc2",
   "metadata": {},
   "outputs": [
    {
     "data": {
      "text/plain": [
       "''"
      ]
     },
     "execution_count": 15,
     "metadata": {},
     "output_type": "execute_result"
    }
   ],
   "source": [
    "f.read()\n",
    "# 포인터가 파일 끝에 있는 상태이므로 읽을 파일 없음"
   ]
  },
  {
   "cell_type": "code",
   "execution_count": 18,
   "id": "dea98e70",
   "metadata": {},
   "outputs": [
    {
     "data": {
      "text/plain": [
       "'Hello'"
      ]
     },
     "execution_count": 18,
     "metadata": {},
     "output_type": "execute_result"
    }
   ],
   "source": [
    "# 파일 열고\n",
    "f.read(5)"
   ]
  },
  {
   "cell_type": "code",
   "execution_count": 21,
   "id": "a2652fdf",
   "metadata": {},
   "outputs": [
    {
     "data": {
      "text/plain": [
       "'Hello world\\n'"
      ]
     },
     "execution_count": 21,
     "metadata": {},
     "output_type": "execute_result"
    }
   ],
   "source": [
    "# 파일 열고\n",
    "f.readline()"
   ]
  },
  {
   "cell_type": "code",
   "execution_count": 23,
   "id": "f8c54074",
   "metadata": {},
   "outputs": [
    {
     "data": {
      "text/plain": [
       "['Hello world\\n', 'Welcome to python.']"
      ]
     },
     "execution_count": 23,
     "metadata": {},
     "output_type": "execute_result"
    }
   ],
   "source": [
    "# 파일 열고\n",
    "f.readlines()"
   ]
  },
  {
   "cell_type": "code",
   "execution_count": null,
   "id": "6080ceed",
   "metadata": {},
   "outputs": [],
   "source": [
    "# 파일 닫기\n",
    "\n",
    "f.close()"
   ]
  },
  {
   "cell_type": "code",
   "execution_count": 24,
   "id": "c0b6e87d",
   "metadata": {},
   "outputs": [
    {
     "data": {
      "text/plain": [
       "['Hello world', 'Welcome to python.']"
      ]
     },
     "execution_count": 24,
     "metadata": {},
     "output_type": "execute_result"
    }
   ],
   "source": [
    "f = open(file, 'r')\n",
    "sents = f.readlines()\n",
    "sents = [s.strip() for s in sents] # 텍스트 정제\n",
    "f.close()\n",
    "\n",
    "sents"
   ]
  },
  {
   "cell_type": "markdown",
   "id": "6d78e603",
   "metadata": {},
   "source": [
    "#### 파일 닫기\n",
    "- 파일 여는 즉시 닫기\n",
    "     - 변수에 담아두면 파일 닫아도 내용 사용 가능\n",
    "- '자원 해제'"
   ]
  },
  {
   "cell_type": "code",
   "execution_count": 25,
   "id": "7f6a0e8f",
   "metadata": {},
   "outputs": [],
   "source": [
    "with open(file, 'r') as f: # file\n",
    "    # open() 적용되는 블럭\n",
    "    content = f.read()\n",
    "    \n",
    "# 파일 자동으로 닫힘"
   ]
  },
  {
   "cell_type": "code",
   "execution_count": 26,
   "id": "071fa4e5",
   "metadata": {},
   "outputs": [
    {
     "data": {
      "text/plain": [
       "'Hello world\\nWelcome to python.'"
      ]
     },
     "execution_count": 26,
     "metadata": {},
     "output_type": "execute_result"
    }
   ],
   "source": [
    "content"
   ]
  },
  {
   "cell_type": "markdown",
   "id": "4df3ca55",
   "metadata": {},
   "source": [
    "- Q1. readline으로 파일 읽는데, \n",
    "while 사용해서 한줄씩 읽고 strip() 한 후\n",
    "리스트에 반환하는 함수 만들기"
   ]
  },
  {
   "cell_type": "code",
   "execution_count": 28,
   "id": "70723557",
   "metadata": {},
   "outputs": [
    {
     "data": {
      "text/plain": [
       "['Hello world', 'Welcome to python.']"
      ]
     },
     "execution_count": 28,
     "metadata": {},
     "output_type": "execute_result"
    }
   ],
   "source": [
    "sents = []\n",
    "\n",
    "with open('hello.txt', 'r') as f:\n",
    "    while True:\n",
    "        line = f.readline() # ''\n",
    "        if not line: # 빈 줄('')의 길이는 1, 없을 때는 0\n",
    "            break\n",
    "        sent = line.strip()\n",
    "        sents.append(sent)\n",
    "sents"
   ]
  },
  {
   "cell_type": "markdown",
   "id": "273926a6",
   "metadata": {},
   "source": [
    "#### 경로가 달라질 때\n",
    "- . : 현재 경로\n",
    "- .. : 상위 경로"
   ]
  },
  {
   "cell_type": "code",
   "execution_count": 31,
   "id": "2d76b280",
   "metadata": {},
   "outputs": [
    {
     "name": "stdout",
     "output_type": "stream",
     "text": [
      "Hello world\n",
      "Welcome to python.\n"
     ]
    }
   ],
   "source": [
    "file = './hello.txt'\n",
    "\n",
    "with open(file) as f:\n",
    "    print(f.read())"
   ]
  },
  {
   "cell_type": "code",
   "execution_count": 32,
   "id": "2d238315",
   "metadata": {},
   "outputs": [
    {
     "name": "stdout",
     "output_type": "stream",
     "text": [
      "Hello world\n",
      "Welcome to python.\n"
     ]
    }
   ],
   "source": [
    "file = '../hyperpython/hello.txt'\n",
    "\n",
    "with open(file) as f:\n",
    "    print(f.read())"
   ]
  },
  {
   "cell_type": "markdown",
   "id": "2f519abd",
   "metadata": {},
   "source": [
    "#### 쓰기\n",
    "- 인코딩 유의"
   ]
  },
  {
   "cell_type": "code",
   "execution_count": 34,
   "id": "133e0884",
   "metadata": {},
   "outputs": [],
   "source": [
    "with open('test.txt', 'w', encoding = 'utf-8') as f:\n",
    "    for i in range(10):\n",
    "        data = f'{i}번째 줄입니다.\\n'\n",
    "        f.write(data)"
   ]
  },
  {
   "cell_type": "code",
   "execution_count": 35,
   "id": "f8c50a2f",
   "metadata": {},
   "outputs": [],
   "source": [
    "# print() 로 추가하는 방법\n",
    "\n",
    "file_out = open('test.txt', 'a', encoding = 'utf-8')\n",
    "print('한 줄 추가했습니다.', file = file_out)\n",
    "file_out.close()"
   ]
  },
  {
   "cell_type": "markdown",
   "id": "dd8cd13a",
   "metadata": {},
   "source": [
    "folder 만들어서 추가하는 방법\n",
    "- 폴더 만들어야 함\n",
    "- 접근\n"
   ]
  },
  {
   "cell_type": "code",
   "execution_count": 36,
   "id": "c6b196fa",
   "metadata": {},
   "outputs": [],
   "source": [
    "import os\n",
    "os.mkdir('new_folder') # mkdir = make directory"
   ]
  },
  {
   "cell_type": "code",
   "execution_count": 37,
   "id": "37b9426c",
   "metadata": {},
   "outputs": [],
   "source": [
    "with open('./new_folder/test.txt', 'w', encoding = 'utf-8') as f:\n",
    "    for i in range(10):\n",
    "        data = f'{i}번째 줄입니다.\\n'\n",
    "        f.write(data)"
   ]
  },
  {
   "cell_type": "code",
   "execution_count": 38,
   "id": "abd9222b",
   "metadata": {},
   "outputs": [],
   "source": [
    "path = 'new_folder'\n",
    "\n",
    "# 폴더가 존재하는지 확인하고, 없으면 생성\n",
    "if not os.path.isdir('new_folder'):\n",
    "    os.mkdir('new_folder')\n",
    "    \n",
    "# dir_name = './new_folder/test.txt'\n",
    "dir_name = os.path.join(path, 'test.txt')\n",
    "\n",
    "# 재확인: 'if 파일이 없으면' 쓸 것\n",
    "if not os.path.exists(dir_name):\n",
    "    with open(dir_name, 'w') as f: # 파일 덮어쓸 가능성 배제\n",
    "        for i in range(10):\n",
    "            data = f'{i}번째 줄입니다.\\n'\n",
    "            f.write(data)"
   ]
  },
  {
   "cell_type": "code",
   "execution_count": 41,
   "id": "4bb76d0f",
   "metadata": {},
   "outputs": [
    {
     "ename": "OSError",
     "evalue": "[WinError 145] 디렉터리가 비어 있지 않습니다: 'new_folder'",
     "output_type": "error",
     "traceback": [
      "\u001b[1;31m---------------------------------------------------------------------------\u001b[0m",
      "\u001b[1;31mOSError\u001b[0m                                   Traceback (most recent call last)",
      "\u001b[1;32m~\\AppData\\Local\\Temp/ipykernel_7272/2220671747.py\u001b[0m in \u001b[0;36m<module>\u001b[1;34m\u001b[0m\n\u001b[0;32m      3\u001b[0m \u001b[1;33m\u001b[0m\u001b[0m\n\u001b[0;32m      4\u001b[0m \u001b[1;31m# 폴더 삭제\u001b[0m\u001b[1;33m\u001b[0m\u001b[1;33m\u001b[0m\u001b[0m\n\u001b[1;32m----> 5\u001b[1;33m \u001b[0mos\u001b[0m\u001b[1;33m.\u001b[0m\u001b[0mrmdir\u001b[0m\u001b[1;33m(\u001b[0m\u001b[1;34m'new_folder'\u001b[0m\u001b[1;33m)\u001b[0m \u001b[1;31m# 폴더 안에 파일 있으면 삭제 못함\u001b[0m\u001b[1;33m\u001b[0m\u001b[1;33m\u001b[0m\u001b[0m\n\u001b[0m",
      "\u001b[1;31mOSError\u001b[0m: [WinError 145] 디렉터리가 비어 있지 않습니다: 'new_folder'"
     ]
    }
   ],
   "source": [
    "# 파일 삭제\n",
    "os.remove('test.txt')\n",
    "\n",
    "# 폴더 삭제\n",
    "os.rmdir('new_folder') # 폴더 안에 파일 있으면 삭제 못함"
   ]
  },
  {
   "cell_type": "code",
   "execution_count": 42,
   "id": "b409e2cd",
   "metadata": {},
   "outputs": [],
   "source": [
    "import shutil\n",
    "# rmtree = remove tree\n",
    "# 폴더 안에 파일이 있어도 강제로 전부 삭제함\n",
    "shutil.rmtree('new_folder')"
   ]
  },
  {
   "cell_type": "markdown",
   "id": "3a671755",
   "metadata": {},
   "source": [
    "Q2. folder 새로 만들어서, 파일에 내용 쓰기, 파일 열기"
   ]
  },
  {
   "cell_type": "code",
   "execution_count": 50,
   "id": "a8dc85d3",
   "metadata": {},
   "outputs": [],
   "source": [
    "import os\n",
    "os.mkdir('my_diary')\n",
    "\n",
    "with open('./my_diary/220615.txt', 'w', encoding = 'utf-8') as f:\n",
    "    content = f'날씨가 흐리다.\\n공부해야 하는데 잠이 쏟아진다.\\n그래도 딱 일주일만 버티면 종강이니까 힘내자.'\n",
    "    f.write(content)"
   ]
  },
  {
   "cell_type": "code",
   "execution_count": 61,
   "id": "64d6e85b",
   "metadata": {},
   "outputs": [
    {
     "data": {
      "text/plain": [
       "['날씨가 흐리다.', '공부해야 하는데 잠이 쏟아진다.', '그래도 딱 일주일만 버티면 종강이니까 힘내자.']"
      ]
     },
     "execution_count": 61,
     "metadata": {},
     "output_type": "execute_result"
    }
   ],
   "source": [
    "with open('./my_diary/220615.txt', 'r', encoding = 'utf-8') as f:\n",
    "    sents = f.readlines()\n",
    "    sents = [sent.strip() for sent in sents]\n",
    "    \n",
    "sents"
   ]
  },
  {
   "cell_type": "code",
   "execution_count": 62,
   "id": "6c895b6e",
   "metadata": {},
   "outputs": [
    {
     "data": {
      "text/plain": [
       "'C:\\\\Users\\\\user\\\\hyperpython'"
      ]
     },
     "execution_count": 62,
     "metadata": {},
     "output_type": "execute_result"
    }
   ],
   "source": [
    "# 현재 디렉터리 위치 반환\n",
    "# getcwd = get current working directory\n",
    "\n",
    "os.getcwd()"
   ]
  },
  {
   "cell_type": "code",
   "execution_count": 63,
   "id": "5fbd35c7",
   "metadata": {},
   "outputs": [],
   "source": [
    "# 디렉터리 위치 변경\n",
    "# change directory\n",
    "\n",
    "os.chdir('..')"
   ]
  },
  {
   "cell_type": "markdown",
   "id": "2ba83d18",
   "metadata": {},
   "source": [
    "#### pickle\n",
    "- 객체를 파일로 저장하는 기능 제공\n"
   ]
  },
  {
   "cell_type": "code",
   "execution_count": 65,
   "id": "ab8537ae",
   "metadata": {},
   "outputs": [],
   "source": [
    "import pickle\n",
    "\n",
    "nums = list(range(10))\n",
    "\n",
    "# wb = write binary\n",
    "with open('test.pickle', 'wb') as f:\n",
    "    pickle.dump(nums, f)"
   ]
  },
  {
   "cell_type": "code",
   "execution_count": 66,
   "id": "8139b381",
   "metadata": {},
   "outputs": [
    {
     "data": {
      "text/plain": [
       "[0, 1, 2, 3, 4, 5, 6, 7, 8, 9]"
      ]
     },
     "execution_count": 66,
     "metadata": {},
     "output_type": "execute_result"
    }
   ],
   "source": [
    "# rb = read binary\n",
    "with open('test.pickle', 'rb') as f:\n",
    "    number = pickle.load(f)\n",
    "    \n",
    "number"
   ]
  }
 ],
 "metadata": {
  "kernelspec": {
   "display_name": "Python 3 (ipykernel)",
   "language": "python",
   "name": "python3"
  },
  "language_info": {
   "codemirror_mode": {
    "name": "ipython",
    "version": 3
   },
   "file_extension": ".py",
   "mimetype": "text/x-python",
   "name": "python",
   "nbconvert_exporter": "python",
   "pygments_lexer": "ipython3",
   "version": "3.9.7"
  }
 },
 "nbformat": 4,
 "nbformat_minor": 5
}
