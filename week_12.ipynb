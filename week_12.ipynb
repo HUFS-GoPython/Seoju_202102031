{
 "cells": [
  {
   "cell_type": "markdown",
   "id": "91538850",
   "metadata": {},
   "source": [
    "### 함수 2"
   ]
  },
  {
   "cell_type": "markdown",
   "id": "67db38b9",
   "metadata": {},
   "source": [
    "#### asterisk (stars) *"
   ]
  },
  {
   "cell_type": "code",
   "execution_count": 4,
   "id": "c5c063be",
   "metadata": {},
   "outputs": [
    {
     "name": "stdout",
     "output_type": "stream",
     "text": [
      "hey hello hi\n"
     ]
    }
   ],
   "source": [
    "def print_arg(*args):\n",
    "    # 인자를 튜플로 묶어서 활용하는 역할 -> 인자 여러 개 사용 가능\n",
    "    print(*args)\n",
    "    # unpacking (튜플 -> 각각의 인자로 괄호 풀어 프린트)\n",
    "    \n",
    "print_arg('hey', 'hello', 'hi')"
   ]
  },
  {
   "cell_type": "code",
   "execution_count": 42,
   "id": "94331d3d",
   "metadata": {},
   "outputs": [
    {
     "name": "stdout",
     "output_type": "stream",
     "text": [
      "obligatory book\n",
      "1 2 3 4\n",
      "obligatory book\n",
      "(1, 2, 3, 4)\n",
      "obligatory book\n",
      "1 2 3 4\n"
     ]
    }
   ],
   "source": [
    "def print_arg2(name, *args):\n",
    "    print('obligatory', name)\n",
    "    print(*args)\n",
    "    \n",
    "print_arg2('book', 1, 2, 3, 4)\n",
    "\n",
    "nums = (1, 2, 3, 4)\n",
    "x = print_arg2('book', nums)\n",
    "y = print_arg2('book', *nums)"
   ]
  },
  {
   "cell_type": "markdown",
   "id": "5801c030",
   "metadata": {},
   "source": [
    "#### 외부에서 활용하기\n",
    "- 컬렉션 자료형 언패킹 출력 시\n",
    "- zip()\n",
    "- 키워드 전용 인수 선언\n",
    "    - 별 뒤에 오는 매개변수들은 반드시 키워드 인수로 들어오도록 설정하는 역할\n",
    "    - kargs(키워드 args)와 혼선을 빚지 않기 위해"
   ]
  },
  {
   "cell_type": "code",
   "execution_count": 9,
   "id": "b9de0f39",
   "metadata": {},
   "outputs": [
    {
     "name": "stdout",
     "output_type": "stream",
     "text": [
      "0 1 2 3 4\n"
     ]
    }
   ],
   "source": [
    "nums = list(range(5))\n",
    "print(*nums)"
   ]
  },
  {
   "cell_type": "code",
   "execution_count": 14,
   "id": "7344d51a",
   "metadata": {},
   "outputs": [
    {
     "ename": "SyntaxError",
     "evalue": "can't use starred expression here (Temp/ipykernel_19424/67597219.py, line 11)",
     "output_type": "error",
     "traceback": [
      "\u001b[1;36m  File \u001b[1;32m\"C:\\Users\\user\\AppData\\Local\\Temp/ipykernel_19424/67597219.py\"\u001b[1;36m, line \u001b[1;32m11\u001b[0m\n\u001b[1;33m    for row in *a:\u001b[0m\n\u001b[1;37m               ^\u001b[0m\n\u001b[1;31mSyntaxError\u001b[0m\u001b[1;31m:\u001b[0m can't use starred expression here\n"
     ]
    }
   ],
   "source": [
    "a = [\n",
    "    [1, 2],\n",
    "    [3, 4],\n",
    "    [5, 6],\n",
    "]\n",
    "\n",
    "# 1, 3, 5 / 2, 4, 6 출력\n",
    "# 열을 순회\n",
    "\n",
    "# 오류\n",
    "for row in *a:\n",
    "    print(row)"
   ]
  },
  {
   "cell_type": "code",
   "execution_count": 15,
   "id": "e78c1cb0",
   "metadata": {},
   "outputs": [
    {
     "name": "stdout",
     "output_type": "stream",
     "text": [
      "(1, 3, 5)\n",
      "(2, 4, 6)\n"
     ]
    }
   ],
   "source": [
    "# 정답\n",
    "for row in zip(*a):\n",
    "    print(row)"
   ]
  },
  {
   "cell_type": "code",
   "execution_count": 19,
   "id": "30d13d81",
   "metadata": {},
   "outputs": [
    {
     "name": "stdout",
     "output_type": "stream",
     "text": [
      "1\n",
      "2\n"
     ]
    }
   ],
   "source": [
    "def print_data(data, *, start, end): #start, end -> start = 0\n",
    "    for value in data[start:end]:\n",
    "        print(value)\n",
    "        \n",
    "print_data(nums, start = 1, end = 3)\n",
    "# 키워드 전용 인수"
   ]
  },
  {
   "cell_type": "markdown",
   "id": "31342d1c",
   "metadata": {},
   "source": [
    "#### **"
   ]
  },
  {
   "cell_type": "code",
   "execution_count": 1,
   "id": "547a4df4",
   "metadata": {},
   "outputs": [
    {
     "name": "stdout",
     "output_type": "stream",
     "text": [
      "{'wine': 'merlot', 'dessert': 'cake'}\n"
     ]
    }
   ],
   "source": [
    "def print_kargs(**kargs): # 딕셔너리로 묶는 기능\n",
    "    print(kargs) # ** 못 씀, 언패킹 기능 x\n",
    "    # print(kargs['wine'], 'is semi-sweet') # get(key, default) 사용하면 에러 안남\n",
    "    \n",
    "print_kargs(wine = 'merlot', dessert = 'cake')"
   ]
  },
  {
   "cell_type": "code",
   "execution_count": 24,
   "id": "77a413bb",
   "metadata": {},
   "outputs": [
    {
     "name": "stdout",
     "output_type": "stream",
     "text": [
      "{'wine': 'merlot', 'dessert': 'scone'}\n",
      "{'wine': 'cabernet', 'dessert': 'scone'}\n",
      "{'wine': 'crianza', 'dessert': 'scone'}\n"
     ]
    }
   ],
   "source": [
    "wine_list = 'merlot cabernet crianza'.split()\n",
    "for wine in wine_list:\n",
    "    print_kargs(wine = wine, dessert = 'scone')"
   ]
  },
  {
   "cell_type": "code",
   "execution_count": 26,
   "id": "d737a493",
   "metadata": {},
   "outputs": [
    {
     "name": "stdout",
     "output_type": "stream",
     "text": [
      "15\n",
      "{'first': 1, 'second': 2}\n"
     ]
    }
   ],
   "source": [
    "def print_both(one, two, *args, **kargs):\n",
    "    print(one + two + sum(args))\n",
    "    print(kargs)\n",
    "    \n",
    "print_both(1, 2, 3, 4, 5, first = 1, second = 2)"
   ]
  },
  {
   "cell_type": "markdown",
   "id": "7e31f357",
   "metadata": {},
   "source": [
    "#### 딕셔너리 결합 시 사용 가능 (파이썬 버전 3.5 이상)"
   ]
  },
  {
   "cell_type": "code",
   "execution_count": 29,
   "id": "887ceee7",
   "metadata": {},
   "outputs": [
    {
     "data": {
      "text/plain": [
       "{1: 'a', 2: 'c', 3: 'd'}"
      ]
     },
     "execution_count": 29,
     "metadata": {},
     "output_type": "execute_result"
    }
   ],
   "source": [
    "x = {1 : 'a', 2: 'b'}\n",
    "y = {2: 'c', 3: 'd'}\n",
    "{**x, **y}"
   ]
  },
  {
   "cell_type": "markdown",
   "id": "c0247617",
   "metadata": {},
   "source": [
    "### 일급 객체\n",
    "- first class object / first class citizen\n",
    "- 함수도 객체다\n",
    "- 함수의 인자로 전달 가능\n",
    "- 반환값이 될 수 있다\n",
    "- 수정, 할당할 수 있다"
   ]
  },
  {
   "cell_type": "code",
   "execution_count": 33,
   "id": "c540ce7c",
   "metadata": {},
   "outputs": [
    {
     "name": "stdout",
     "output_type": "stream",
     "text": [
      "43\n",
      "43\n"
     ]
    }
   ],
   "source": [
    "def answer():\n",
    "    \n",
    "    print(43)\n",
    "    \n",
    "def run_something(func): ## 파이썬에서만, 함수가 객체이므로\n",
    "    func()\n",
    "    \n",
    "run_something(answer)\n",
    "\n",
    "def run_anything(func):\n",
    "    return func\n",
    "\n",
    "run_anything(answer) # <function __main__.answer()> 출력\n",
    "run_anything(answer)() # 괄호를 붙이면 함수 실행됨"
   ]
  },
  {
   "cell_type": "code",
   "execution_count": 11,
   "id": "96307d0e",
   "metadata": {},
   "outputs": [
    {
     "data": {
      "text/plain": [
       "13"
      ]
     },
     "execution_count": 11,
     "metadata": {},
     "output_type": "execute_result"
    }
   ],
   "source": [
    "def sum_args(*args):\n",
    "    return sum(args)\n",
    "\n",
    "def run_with_positional_args(func, *args):\n",
    "    return func(*args)\n",
    "\n",
    "run_with_positional_args(sum_args, 1, 3, 4, 5)"
   ]
  },
  {
   "cell_type": "markdown",
   "id": "b681e385",
   "metadata": {},
   "source": [
    "#### 가변 인자일 때 => 초기화하지 않으면 변수 내용이 변할 수 있음"
   ]
  },
  {
   "cell_type": "code",
   "execution_count": 24,
   "id": "23fce46c",
   "metadata": {},
   "outputs": [],
   "source": [
    "def func(num_list):\n",
    "    # 변할 수 있음을 문서화할 것, 혹은 다른 방법으로\n",
    "    sum_num = sum(num_list)\n",
    "    num_list.append(sum_num)\n",
    "    \n",
    "a = [1, 3, 5]\n",
    "func(a)"
   ]
  },
  {
   "cell_type": "code",
   "execution_count": 25,
   "id": "712299c7",
   "metadata": {},
   "outputs": [
    {
     "data": {
      "text/plain": [
       "[1, 3, 5, 9]"
      ]
     },
     "execution_count": 25,
     "metadata": {},
     "output_type": "execute_result"
    }
   ],
   "source": [
    "a"
   ]
  },
  {
   "cell_type": "code",
   "execution_count": 26,
   "id": "0ed81a1e",
   "metadata": {},
   "outputs": [
    {
     "data": {
      "text/plain": [
       "[1, 3, 5, 9, 18]"
      ]
     },
     "execution_count": 26,
     "metadata": {},
     "output_type": "execute_result"
    }
   ],
   "source": [
    "func(a)\n",
    "a\n",
    "\n",
    "# 계속 값이 변함"
   ]
  },
  {
   "cell_type": "markdown",
   "id": "b116a5c7",
   "metadata": {},
   "source": [
    "### 익명함수(람다)\n",
    "- lambda\n",
    "- 이름이 없는 함수 (def, return... 예약어 x)\n",
    "- 사용하는 이유: 단순한 함수를 사용할 때\n",
    "- 단, 잦은 사용은 권장 x => 직관적이지 않고 재활용 불가능\n",
    "- 형태\n",
    "    - lambda x: <x를 요청할 코드>\n",
    "    - ex. lambda x: x.lower()"
   ]
  },
  {
   "cell_type": "code",
   "execution_count": 29,
   "id": "883ba1c9",
   "metadata": {},
   "outputs": [
    {
     "data": {
      "text/plain": [
       "'ok'"
      ]
     },
     "execution_count": 29,
     "metadata": {},
     "output_type": "execute_result"
    }
   ],
   "source": [
    "def f(x):\n",
    "    return x.lower()\n",
    "\n",
    "f2 = lambda x: x.lower()\n",
    "f2('OK')"
   ]
  },
  {
   "cell_type": "code",
   "execution_count": 30,
   "id": "484f00a8",
   "metadata": {},
   "outputs": [
    {
     "data": {
      "text/plain": [
       "'ok'"
      ]
     },
     "execution_count": 30,
     "metadata": {},
     "output_type": "execute_result"
    }
   ],
   "source": [
    "(lambda x: x.lower())('OK')"
   ]
  },
  {
   "cell_type": "code",
   "execution_count": 31,
   "id": "f2611724",
   "metadata": {},
   "outputs": [
    {
     "data": {
      "text/plain": [
       "10"
      ]
     },
     "execution_count": 31,
     "metadata": {},
     "output_type": "execute_result"
    }
   ],
   "source": [
    "f3 = lambda x, y: x + y\n",
    "f3(5, 5)"
   ]
  },
  {
   "cell_type": "markdown",
   "id": "d9a33f1b",
   "metadata": {},
   "source": [
    "abc가 입력되면 -> Abc! 출력하는 람다 함수"
   ]
  },
  {
   "cell_type": "code",
   "execution_count": 37,
   "id": "2ee73863",
   "metadata": {},
   "outputs": [
    {
     "data": {
      "text/plain": [
       "'Abc!'"
      ]
     },
     "execution_count": 37,
     "metadata": {},
     "output_type": "execute_result"
    }
   ],
   "source": [
    "f = lambda x:x.capitalize() + '!'\n",
    "f('abc')"
   ]
  }
 ],
 "metadata": {
  "kernelspec": {
   "display_name": "Python 3 (ipykernel)",
   "language": "python",
   "name": "python3"
  },
  "language_info": {
   "codemirror_mode": {
    "name": "ipython",
    "version": 3
   },
   "file_extension": ".py",
   "mimetype": "text/x-python",
   "name": "python",
   "nbconvert_exporter": "python",
   "pygments_lexer": "ipython3",
   "version": "3.9.7"
  }
 },
 "nbformat": 4,
 "nbformat_minor": 5
}
