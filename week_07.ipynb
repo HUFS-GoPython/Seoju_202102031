{
 "cells": [
  {
   "cell_type": "markdown",
   "id": "50c4ed79",
   "metadata": {},
   "source": [
    "### 함수"
   ]
  },
  {
   "cell_type": "markdown",
   "id": "68ef4b87",
   "metadata": {},
   "source": [
    "#### 정의하기\n",
    "    - 코드의 덩어리, 묶음\n",
    "    - 코드의 (편리한) 재사용이 주된 목적.\n",
    "    - 정의하기(define) -> 호출하기(call)\n",
    "    - 구조"
   ]
  },
  {
   "cell_type": "markdown",
   "id": "44bbaa8c",
   "metadata": {},
   "source": [
    "       def 함수이름(매개변수 1, 2, 3, ...):\n",
    "            수행문1\n",
    "            수행문2\n",
    "            ...\n",
    "            return 출력값"
   ]
  },
  {
   "cell_type": "markdown",
   "id": "6547ba3e",
   "metadata": {},
   "source": [
    "#### 호출하기\n",
    "함수이름(인수1, 2, 3, ...)\n",
    "- '인터페이스' 잘 설정하면 내부를 몰라도 함수를 쉽게 쓸 수 있다."
   ]
  },
  {
   "cell_type": "markdown",
   "id": "50ccbffe",
   "metadata": {},
   "source": [
    "#### 2. 이름 짓기\n",
    "- 소문자 사용\n",
    "- 카멜표기법 가능 < 언더바\n",
    "- 동사 + 명사: print_output, save_model, split_text\n",
    "- 줄임말 쓰지 않기 ex. pr_output (x) 명료하게, 뜻 전달되도록"
   ]
  },
  {
   "cell_type": "code",
   "execution_count": null,
   "id": "401a61f2",
   "metadata": {},
   "outputs": [],
   "source": [
    "y = x + 1 # x = 매개변수, y = 출력값"
   ]
  },
  {
   "cell_type": "code",
   "execution_count": null,
   "id": "b4baf56e",
   "metadata": {},
   "outputs": [],
   "source": [
    "split(), join()\n",
    "\n",
    "def split():\n",
    "    @#$%^\n",
    "    return"
   ]
  },
  {
   "cell_type": "code",
   "execution_count": 4,
   "id": "4118857f",
   "metadata": {},
   "outputs": [
    {
     "name": "stdout",
     "output_type": "stream",
     "text": [
      "quack\n"
     ]
    }
   ],
   "source": [
    "def make_a_sound():\n",
    "    # 1. 입력 X, 반환 X\n",
    "    print('quack')\n",
    "    # return None\n",
    "    \n",
    "make_a_sound()"
   ]
  },
  {
   "cell_type": "code",
   "execution_count": 6,
   "id": "e2dcf46d",
   "metadata": {},
   "outputs": [
    {
     "data": {
      "text/plain": [
       "True"
      ]
     },
     "execution_count": 6,
     "metadata": {},
     "output_type": "execute_result"
    }
   ],
   "source": [
    "def agree():\n",
    "    # 2. 입력 O, 반환 X\n",
    "    return True\n",
    "\n",
    "agree()"
   ]
  },
  {
   "cell_type": "code",
   "execution_count": 7,
   "id": "d0e90100",
   "metadata": {},
   "outputs": [
    {
     "name": "stdout",
     "output_type": "stream",
     "text": [
      "Splendid\n"
     ]
    }
   ],
   "source": [
    "if agree():\n",
    "    print('Splendid')\n",
    "else:\n",
    "    print('that was unexpected!')"
   ]
  },
  {
   "cell_type": "code",
   "execution_count": 13,
   "id": "412bb4df",
   "metadata": {},
   "outputs": [
    {
     "name": "stdout",
     "output_type": "stream",
     "text": [
      "hello hello\n"
     ]
    }
   ],
   "source": [
    "def echo(anything):\n",
    "    # 3. 입력 O, 반환 X\n",
    "    print('{0} {0}'.format(anything))\n",
    "\n",
    "echo('hello')"
   ]
  },
  {
   "cell_type": "code",
   "execution_count": 12,
   "id": "2ddfaf0c",
   "metadata": {},
   "outputs": [
    {
     "data": {
      "text/plain": [
       "'hello hello'"
      ]
     },
     "execution_count": 12,
     "metadata": {},
     "output_type": "execute_result"
    }
   ],
   "source": [
    "def echo(anything):\n",
    "    # 3. 입력 O, 반환 O\n",
    "    return '{0} {0}'.format(anything)\n",
    "\n",
    "echo = echo('hello')\n",
    "echo\n",
    "\n",
    "# 3과의 차이: 변수에 담아 쓸 수 있음"
   ]
  },
  {
   "cell_type": "markdown",
   "id": "6d64fd8b",
   "metadata": {},
   "source": [
    "#### 3. 인수와 매개변수\n",
    "- 매개변수: 정의할 때 쓰임. '인터페이스 내'에서만 유효\n",
    "- 인수: 호출할 때 쓰임.\n",
    "- 함수 호출 시 인수에 할당된 값이 매개변수에 복제됨\n",
    "    - line = 'hello'\n",
    "    - anything = line ##### copy\n",
    "    - anything 사라짐\n",
    "    \n",
    "- 위치 인수:\n",
    "    - positional argument\n",
    "    - 값을 순서대로 상응하는 매개변수에 복사하는 것\n",
    "- 키워드 인수\n",
    "    - keyword argument\n",
    "    - 매개변수에 상응하는 이름을 인수에 저장\n",
    "    - 위치가 달라도 됨\n",
    "- 디폴트 인수\n",
    "    - default argument\n",
    "    - 정의할 때 매개변수의 기본값 설정\n",
    "    - 호출 시 인수가 없으면 기본값으로 적용됨"
   ]
  },
  {
   "cell_type": "code",
   "execution_count": 19,
   "id": "8a6d5094",
   "metadata": {},
   "outputs": [
    {
     "name": "stdout",
     "output_type": "stream",
     "text": [
      "black\n"
     ]
    }
   ],
   "source": [
    "def commentary(color1):\n",
    "    # pass # 나중에 설정하고 싶을 때\n",
    "    # print(color, '1')\n",
    "    if color == 'g':\n",
    "        return print('green')\n",
    "    else:\n",
    "        return print('black')\n",
    "    \n",
    "color = 'white'\n",
    "commentary(color)"
   ]
  },
  {
   "cell_type": "code",
   "execution_count": 20,
   "id": "9d886f5f",
   "metadata": {},
   "outputs": [
    {
     "name": "stdout",
     "output_type": "stream",
     "text": [
      "green\n",
      "None\n",
      "black\n",
      "None\n",
      "black\n",
      "None\n"
     ]
    }
   ],
   "source": [
    "colors = ['g', 'r', 'b']\n",
    "for c in colors:\n",
    "    print(commentary(c))"
   ]
  },
  {
   "cell_type": "code",
   "execution_count": 23,
   "id": "0818770a",
   "metadata": {},
   "outputs": [
    {
     "data": {
      "text/plain": [
       "{'wine': 'rioja', 'entree': 'cake', 'dessert': 'egg'}"
      ]
     },
     "execution_count": 23,
     "metadata": {},
     "output_type": "execute_result"
    }
   ],
   "source": [
    "def menu(wine, entree, dessert):\n",
    "    return{'wine':wine, 'entree':entree, 'dessert': dessert}\n",
    "\n",
    "menu('rioja', 'cake', 'egg')"
   ]
  },
  {
   "cell_type": "code",
   "execution_count": 24,
   "id": "d8e49e49",
   "metadata": {},
   "outputs": [
    {
     "data": {
      "text/plain": [
       "{'wine': 'rioja', 'entree': 'egg', 'dessert': 'pancake'}"
      ]
     },
     "execution_count": 24,
     "metadata": {},
     "output_type": "execute_result"
    }
   ],
   "source": [
    "menu(entree = 'egg', wine = 'rioja', dessert = 'pancake') # 키워드 인수"
   ]
  },
  {
   "cell_type": "code",
   "execution_count": 32,
   "id": "6b23f3ec",
   "metadata": {},
   "outputs": [
    {
     "data": {
      "text/plain": [
       "{'wine': 'egg', 'entree': 'rioja', 'dessert': 'pancake'}"
      ]
     },
     "execution_count": 32,
     "metadata": {},
     "output_type": "execute_result"
    }
   ],
   "source": [
    "# menu(entree = 'egg', 'rioja', 'pancake') # 오류\n",
    "# menu('egg', 'rioja', entree = 'pancake')\n",
    "\n",
    "menu('egg', 'rioja', dessert = 'pancake') # 정상 작동\n",
    "\n",
    "# 위치인수, 키워드인수 혼용 시 주의, 위치 고려해야 함"
   ]
  },
  {
   "cell_type": "code",
   "execution_count": 25,
   "id": "d027935d",
   "metadata": {},
   "outputs": [
    {
     "ename": "SyntaxError",
     "evalue": "non-default argument follows default argument (Temp/ipykernel_17424/1423483839.py, line 4)",
     "output_type": "error",
     "traceback": [
      "\u001b[1;36m  File \u001b[1;32m\"C:\\Users\\user\\AppData\\Local\\Temp/ipykernel_17424/1423483839.py\"\u001b[1;36m, line \u001b[1;32m4\u001b[0m\n\u001b[1;33m    def menu(wine = 'merlot', entree, dessert):\u001b[0m\n\u001b[1;37m                                      ^\u001b[0m\n\u001b[1;31mSyntaxError\u001b[0m\u001b[1;31m:\u001b[0m non-default argument follows default argument\n"
     ]
    }
   ],
   "source": [
    "# default\n",
    "# 지정 \n",
    "# 오류\n",
    "\n",
    "def menu2(wine = 'merlot', entree, dessert):\n",
    "    return{'wine':wine, 'entree':entree, 'dessert': dessert}\n",
    "\n",
    "menu('rioja', 'cake', 'egg')"
   ]
  },
  {
   "cell_type": "code",
   "execution_count": 27,
   "id": "2fabc6e3",
   "metadata": {},
   "outputs": [
    {
     "data": {
      "text/plain": [
       "{'wine': 'rioja', 'entree': 'cake', 'dessert': 'egg'}"
      ]
     },
     "execution_count": 27,
     "metadata": {},
     "output_type": "execute_result"
    }
   ],
   "source": [
    "# 오류 X\n",
    "\n",
    "def menu2(wine,entree, dessert = 'scone'):\n",
    "    return{'wine':wine, 'entree':entree, 'dessert': dessert}\n",
    "\n",
    "menu('rioja', 'cake', 'egg')"
   ]
  },
  {
   "cell_type": "code",
   "execution_count": 28,
   "id": "35769d2f",
   "metadata": {},
   "outputs": [
    {
     "data": {
      "text/plain": [
       "{'wine': 'merlot', 'entree': 'egg', 'dessert': 'scone'}"
      ]
     },
     "execution_count": 28,
     "metadata": {},
     "output_type": "execute_result"
    }
   ],
   "source": [
    "menu2('merlot', 'egg')"
   ]
  },
  {
   "cell_type": "markdown",
   "id": "c690e061",
   "metadata": {},
   "source": [
    "### Mini Quiz. 나이 -> 연도\n",
    "- def fx():\n",
    "    - 입력값 = 나이\n",
    "    - 반환값 = 출생연도\n",
    "    \n",
    "- input 입력 받아 함수 사용하여 출력하기"
   ]
  },
  {
   "cell_type": "code",
   "execution_count": 37,
   "id": "5703717e",
   "metadata": {},
   "outputs": [
    {
     "name": "stdout",
     "output_type": "stream",
     "text": [
      "나이를 입력해주세요: 22\n"
     ]
    },
    {
     "data": {
      "text/plain": [
       "2001"
      ]
     },
     "execution_count": 37,
     "metadata": {},
     "output_type": "execute_result"
    }
   ],
   "source": [
    "def calc_birthyear(age):\n",
    "    this_year = 2022\n",
    "    return this_year - age + 1\n",
    "    \n",
    "age = int(input('나이를 입력해주세요: '))\n",
    "calc_birthyear(age)"
   ]
  },
  {
   "cell_type": "markdown",
   "id": "45f8fbc4",
   "metadata": {},
   "source": [
    "### Mini Quiz. 사각형 너비 구하기\n",
    "    - 입력: 두 변의 길이\n",
    "    - 출력: string \"n cm\"\n",
    "    \n",
    "def #####:"
   ]
  },
  {
   "cell_type": "code",
   "execution_count": 7,
   "id": "2db782bf",
   "metadata": {},
   "outputs": [
    {
     "name": "stdout",
     "output_type": "stream",
     "text": [
      "가로 길이를 입력해주세요: 3\n",
      "세로 길이를 입력해주세요: 4\n"
     ]
    },
    {
     "data": {
      "text/plain": [
       "'12.0cm'"
      ]
     },
     "execution_count": 7,
     "metadata": {},
     "output_type": "execute_result"
    }
   ],
   "source": [
    "def calc_area(length, width):\n",
    "    area = length * width\n",
    "    return f'{area}cm'\n",
    "            \n",
    "length = float(input('가로 길이를 입력해주세요: '))\n",
    "width = float(input('세로 길이를 입력해주세요: '))\n",
    "calc_area(length, width)"
   ]
  },
  {
   "cell_type": "markdown",
   "id": "3e2fc6aa",
   "metadata": {},
   "source": [
    "### 호출 방식\n",
    "- 정의된 부분이 메모리에 업로드되지만 실행은 안 됨\n",
    "- 실행은 호출 시\n",
    "- 값을 넘기는 방식: 참조에 의한 호출(call by reference) 메모리 주소\n",
    "- 메모리 주소가 복사되기 때문에 가변 객체가 매개변수로 들어갈 때 주의할 것"
   ]
  },
  {
   "cell_type": "code",
   "execution_count": 48,
   "id": "3b63e451",
   "metadata": {},
   "outputs": [
    {
     "name": "stdout",
     "output_type": "stream",
     "text": [
      "2\n",
      "3\n",
      "1\n",
      "4\n"
     ]
    }
   ],
   "source": [
    "def calc_area(length, width): # define\n",
    "    print('1')\n",
    "    return length * width\n",
    "\n",
    "print('2')\n",
    "garo = 2\n",
    "sero = 43\n",
    "print('3')\n",
    "calc_area\n",
    "calc_area(garo, sero) # call\n",
    "print('4')"
   ]
  },
  {
   "cell_type": "code",
   "execution_count": 51,
   "id": "314a5a87",
   "metadata": {},
   "outputs": [
    {
     "name": "stdout",
     "output_type": "stream",
     "text": [
      "['a']\n",
      "['a', 'b']\n"
     ]
    }
   ],
   "source": [
    "def buggy(arg, result = []):\n",
    "    result.append(arg)\n",
    "    print(result)\n",
    "    \n",
    "buggy('a') # [a]\n",
    "buggy('b') # [b] X ['a', 'b'] O"
   ]
  },
  {
   "cell_type": "code",
   "execution_count": 52,
   "id": "051cc743",
   "metadata": {},
   "outputs": [
    {
     "name": "stdout",
     "output_type": "stream",
     "text": [
      "['a']\n",
      "['b']\n"
     ]
    }
   ],
   "source": [
    "def buggy(arg, result = []):\n",
    "    result = [] # 비워야 쌓이지 않음\n",
    "    result.append(arg)\n",
    "    print(result)\n",
    "    \n",
    "buggy('a') # [a]\n",
    "buggy('b') # [b] X ['a', 'b'] O"
   ]
  },
  {
   "cell_type": "code",
   "execution_count": 53,
   "id": "4b227dea",
   "metadata": {},
   "outputs": [
    {
     "name": "stdout",
     "output_type": "stream",
     "text": [
      "[2, 3] eggs\n",
      "[0, 1] ham\n"
     ]
    }
   ],
   "source": [
    "# length = garo # list copy\n",
    "\n",
    "def spam(eggs):\n",
    "    eggs.append(1)\n",
    "    eggs = [2, 3]\n",
    "    print(eggs, 'eggs')\n",
    "    \n",
    "ham = [0]\n",
    "spam(ham)\n",
    "print(ham, 'ham')"
   ]
  },
  {
   "cell_type": "code",
   "execution_count": 54,
   "id": "cd0573e5",
   "metadata": {},
   "outputs": [
    {
     "name": "stdout",
     "output_type": "stream",
     "text": [
      "b\n"
     ]
    }
   ],
   "source": [
    "# None\n",
    "\n",
    "thing = None\n",
    "if thing:\n",
    "    print('a') # True\n",
    "else:\n",
    "    print('b') # False"
   ]
  },
  {
   "cell_type": "code",
   "execution_count": 57,
   "id": "0c827c3c",
   "metadata": {},
   "outputs": [
    {
     "name": "stdout",
     "output_type": "stream",
     "text": [
      "a\n"
     ]
    }
   ],
   "source": [
    "# None <- is None\n",
    "\n",
    "thing = None\n",
    "if thing is None:\n",
    "    print('a') # True\n",
    "elif thing:\n",
    "    print('b') # False\n",
    "else:\n",
    "    print('c')"
   ]
  },
  {
   "cell_type": "markdown",
   "id": "844587cf",
   "metadata": {},
   "source": [
    "#### Mini Quiz\n",
    "- 목표: 리스트 쌓이거나 비우는 옵션 모두 설정하도록 None 사용하여 함수 재정의\n",
    "- def nonbuggy(arg, result)\n",
    "    - result가 None이면 리스트 비우기\n",
    "    - 아니면 코드 그대로"
   ]
  },
  {
   "cell_type": "code",
   "execution_count": 70,
   "id": "1b7c449c",
   "metadata": {},
   "outputs": [
    {
     "name": "stdout",
     "output_type": "stream",
     "text": [
      "['a']\n",
      "['a', 'b']\n"
     ]
    }
   ],
   "source": [
    "def nonbuggy(arg, result = None):\n",
    "    if result is None:\n",
    "        result = []\n",
    "    result.append(arg)\n",
    "    print(result)\n",
    "        \n",
    "list_a = []\n",
    "nonbuggy('a', list_a)\n",
    "nonbuggy('b', list_a)"
   ]
  },
  {
   "cell_type": "markdown",
   "id": "b1ad50b1",
   "metadata": {},
   "source": [
    "#### 전역변수 vs 지역변수\n",
    "- 지역변수: 함수 내에서만 사용 가능\n",
    "- 전역변수: 프로그램 전체에서 사용 가능"
   ]
  },
  {
   "cell_type": "code",
   "execution_count": 77,
   "id": "1182c367",
   "metadata": {},
   "outputs": [
    {
     "ename": "NameError",
     "evalue": "name 'result' is not defined",
     "output_type": "error",
     "traceback": [
      "\u001b[1;31m---------------------------------------------------------------------------\u001b[0m",
      "\u001b[1;31mNameError\u001b[0m                                 Traceback (most recent call last)",
      "\u001b[1;32m~\\AppData\\Local\\Temp/ipykernel_17424/1135180106.py\u001b[0m in \u001b[0;36m<module>\u001b[1;34m\u001b[0m\n\u001b[1;32m----> 1\u001b[1;33m \u001b[0mresult\u001b[0m \u001b[1;31m# 지역변수이므로 에러\u001b[0m\u001b[1;33m\u001b[0m\u001b[1;33m\u001b[0m\u001b[0m\n\u001b[0m",
      "\u001b[1;31mNameError\u001b[0m: name 'result' is not defined"
     ]
    }
   ],
   "source": [
    "result # 지역변수이므로 에러"
   ]
  },
  {
   "cell_type": "code",
   "execution_count": 73,
   "id": "6467c7ce",
   "metadata": {},
   "outputs": [
    {
     "name": "stdout",
     "output_type": "stream",
     "text": [
      "london\n",
      "paris\n"
     ]
    }
   ],
   "source": [
    "def fx():\n",
    "    city = 'london'\n",
    "    print(city)\n",
    "    \n",
    "city = 'paris'\n",
    "fx() # city = london\n",
    "print(city)"
   ]
  },
  {
   "cell_type": "code",
   "execution_count": 76,
   "id": "f4d35370",
   "metadata": {},
   "outputs": [
    {
     "name": "stdout",
     "output_type": "stream",
     "text": [
      "london\n",
      "london\n"
     ]
    }
   ],
   "source": [
    "def fx():\n",
    "    global city # 어디에서나 city = london이 됨\n",
    "    city = 'london'\n",
    "    print(city)\n",
    "    \n",
    "city = 'paris'\n",
    "fx() # city = london\n",
    "print(city)"
   ]
  },
  {
   "cell_type": "code",
   "execution_count": 84,
   "id": "57473e25",
   "metadata": {
    "scrolled": true
   },
   "outputs": [
    {
     "data": {
      "text/plain": [
       "'london'"
      ]
     },
     "execution_count": 84,
     "metadata": {},
     "output_type": "execute_result"
    }
   ],
   "source": [
    "city"
   ]
  },
  {
   "cell_type": "code",
   "execution_count": 86,
   "id": "e86783f3",
   "metadata": {},
   "outputs": [
    {
     "name": "stdout",
     "output_type": "stream",
     "text": [
      "paris\n"
     ]
    }
   ],
   "source": [
    "city = 'paris'\n",
    "print(city)"
   ]
  },
  {
   "cell_type": "code",
   "execution_count": 14,
   "id": "70c35c39",
   "metadata": {},
   "outputs": [
    {
     "name": "stdout",
     "output_type": "stream",
     "text": [
      "london\n",
      "london\n"
     ]
    }
   ],
   "source": [
    "def fx():\n",
    "    \"\"\"\n",
    "    doc string: 함수에 대한 설명\n",
    "    매개변수에 대한 설명, 타입, 함수의 의도\n",
    "    \"\"\"\n",
    "    global city\n",
    "    city = 'london'\n",
    "    print(city)\n",
    "    \n",
    "city = 'paris'\n",
    "fx() # city = london\n",
    "print(city)"
   ]
  },
  {
   "cell_type": "code",
   "execution_count": 15,
   "id": "f0e5d800",
   "metadata": {},
   "outputs": [
    {
     "name": "stdout",
     "output_type": "stream",
     "text": [
      "Help on function fx in module __main__:\n",
      "\n",
      "fx()\n",
      "    doc string: 함수에 대한 설명\n",
      "    매개변수에 대한 설명, 타입, 함수의 의도\n",
      "\n"
     ]
    },
    {
     "data": {
      "text/plain": [
       "'\\n    doc string: 함수에 대한 설명\\n    매개변수에 대한 설명, 타입, 함수의 의도\\n    '"
      ]
     },
     "execution_count": 15,
     "metadata": {},
     "output_type": "execute_result"
    }
   ],
   "source": [
    "# 독스트링 불러오기\n",
    "\n",
    "help(fx) #1\n",
    "fx.__doc__ #2 - str로 반환"
   ]
  },
  {
   "cell_type": "markdown",
   "id": "9cdc571c",
   "metadata": {},
   "source": [
    "#### 과제 풀이: 브라운 코퍼스 정제하기"
   ]
  },
  {
   "cell_type": "code",
   "execution_count": 17,
   "id": "4afe8ea5",
   "metadata": {},
   "outputs": [
    {
     "name": "stderr",
     "output_type": "stream",
     "text": [
      "[nltk_data] Downloading package inaugural to\n",
      "[nltk_data]     C:\\Users\\user\\AppData\\Roaming\\nltk_data...\n",
      "[nltk_data]   Package inaugural is already up-to-date!\n",
      "[nltk_data] Downloading package brown to\n",
      "[nltk_data]     C:\\Users\\user\\AppData\\Roaming\\nltk_data...\n",
      "[nltk_data]   Package brown is already up-to-date!\n"
     ]
    }
   ],
   "source": [
    "import nltk\n",
    "nltk.download(['inaugural', 'brown'])\n",
    "\n",
    "#1. 데이터셋 가져오기\n",
    "\n",
    "brown = nltk.corpus.brown\n",
    "romance = brown.raw(categories = 'romance')[:5000]"
   ]
  },
  {
   "cell_type": "code",
   "execution_count": 18,
   "id": "824cef70",
   "metadata": {},
   "outputs": [
    {
     "data": {
      "text/plain": [
       "[]"
      ]
     },
     "execution_count": 18,
     "metadata": {},
     "output_type": "execute_result"
    }
   ],
   "source": [
    "# \\n\\n\\n\\t 문단\n",
    "# ./. 문장\n",
    "# ?, !로 끝나는 문장은 이 텍스트에 없으므로 고려 x\n",
    "\n",
    "sentence = [sentence.strip() for sentence in romance.split('./.')]\n",
    "[word for word in sentence if '!' in sentence]"
   ]
  },
  {
   "cell_type": "code",
   "execution_count": 19,
   "id": "eb056b52",
   "metadata": {},
   "outputs": [
    {
     "data": {
      "text/plain": [
       "'They/ppss neither/cc liked/vbd nor/cc disliked/vbd the/at Old/jj-tl Man/nn-tl'"
      ]
     },
     "execution_count": 19,
     "metadata": {},
     "output_type": "execute_result"
    }
   ],
   "source": [
    "sentence[0]"
   ]
  },
  {
   "cell_type": "code",
   "execution_count": 20,
   "id": "36bb304e",
   "metadata": {},
   "outputs": [
    {
     "data": {
      "text/plain": [
       "['They', 'neither', 'liked', 'nor', 'disliked', 'the', 'Old', 'Man']"
      ]
     },
     "execution_count": 20,
     "metadata": {},
     "output_type": "execute_result"
    }
   ],
   "source": [
    "# 단어 분절\n",
    "\n",
    "# 01.\n",
    "example = sentence[0]\n",
    "[word.split('/')[0] for word in example.split(' ')]"
   ]
  },
  {
   "cell_type": "code",
   "execution_count": 21,
   "id": "59685fc5",
   "metadata": {},
   "outputs": [
    {
     "data": {
      "text/plain": [
       "['They', 'neither', 'liked', 'nor', 'disliked', 'the', 'Old', 'Man']"
      ]
     },
     "execution_count": 21,
     "metadata": {},
     "output_type": "execute_result"
    }
   ],
   "source": [
    "# 02.\n",
    "# '/'까지 슬라이싱, if~: 예외상황 고려. '/'가 있을 때만 가져간다\n",
    "[word[:word.find('/')] for word in example.split(' ') if word.find('/')]"
   ]
  },
  {
   "cell_type": "code",
   "execution_count": 44,
   "id": "666fbb8e",
   "metadata": {},
   "outputs": [
    {
     "data": {
      "text/plain": [
       "[['They', 'neither', 'liked', 'nor', 'disliked', 'the', 'Old', 'Man'],\n",
       " ['To',\n",
       "  'them',\n",
       "  'he',\n",
       "  'could',\n",
       "  'have',\n",
       "  'been',\n",
       "  'the',\n",
       "  'broken',\n",
       "  'bell',\n",
       "  'in',\n",
       "  'the',\n",
       "  'church',\n",
       "  'tower',\n",
       "  'which',\n",
       "  'rang',\n",
       "  'before',\n",
       "  'and',\n",
       "  'after',\n",
       "  'Mass',\n",
       "  ',',\n",
       "  'and',\n",
       "  'at',\n",
       "  'noon',\n",
       "  ',',\n",
       "  'and',\n",
       "  'at',\n",
       "  'six',\n",
       "  'each',\n",
       "  'evening',\n",
       "  '--',\n",
       "  'its',\n",
       "  'tone',\n",
       "  ',',\n",
       "  'repetitive',\n",
       "  ',',\n",
       "  'monotonous',\n",
       "  ',',\n",
       "  'never',\n",
       "  'breaking',\n",
       "  'the',\n",
       "  'boredom',\n",
       "  'of',\n",
       "  'the',\n",
       "  'streets']]"
      ]
     },
     "execution_count": 44,
     "metadata": {},
     "output_type": "execute_result"
    }
   ],
   "source": [
    "# 전체 문장에 반영\n",
    "\n",
    "sentence_tokens = [[word.split('/')[0] for word in s.split(' ')] for s in sentence]\n",
    "sentence_tokens\n",
    "sentence_tokens[:2]"
   ]
  },
  {
   "cell_type": "code",
   "execution_count": 23,
   "id": "8db6d3ea",
   "metadata": {},
   "outputs": [
    {
     "data": {
      "text/plain": [
       "32"
      ]
     },
     "execution_count": 23,
     "metadata": {},
     "output_type": "execute_result"
    }
   ],
   "source": [
    "import string\n",
    "punctuations = list(string.punctuation)\n",
    "len(punctuations)"
   ]
  },
  {
   "cell_type": "code",
   "execution_count": 45,
   "id": "594b3090",
   "metadata": {},
   "outputs": [
    {
     "data": {
      "text/plain": [
       "[['They', 'neither', 'liked', 'nor', 'disliked', 'the', 'Old', 'Man'],\n",
       " ['To',\n",
       "  'them',\n",
       "  'he',\n",
       "  'could',\n",
       "  'have',\n",
       "  'been',\n",
       "  'the',\n",
       "  'broken',\n",
       "  'bell',\n",
       "  'in',\n",
       "  'the',\n",
       "  'church',\n",
       "  'tower',\n",
       "  'which',\n",
       "  'rang',\n",
       "  'before',\n",
       "  'and',\n",
       "  'after',\n",
       "  'Mass',\n",
       "  'and',\n",
       "  'at',\n",
       "  'noon',\n",
       "  'and',\n",
       "  'at',\n",
       "  'six',\n",
       "  'each',\n",
       "  'evening',\n",
       "  'its',\n",
       "  'tone',\n",
       "  'repetitive',\n",
       "  'monotonous',\n",
       "  'never',\n",
       "  'breaking',\n",
       "  'the',\n",
       "  'boredom',\n",
       "  'of',\n",
       "  'the',\n",
       "  'streets']]"
      ]
     },
     "execution_count": 45,
     "metadata": {},
     "output_type": "execute_result"
    }
   ],
   "source": [
    "# 문장부호 제거 -> 단어 분절 시 동시에 가능함.\n",
    "\n",
    "# word에서 자르면서 동시에 부호 없는 것만 가져오기\n",
    "sentence_tokens = [[word.split('/')[0] for word in s.split(' ') \\\n",
    "                    if word.split('/')[0] not in punctuations] \\\n",
    "                   for s in sentence]\n",
    "sentence_tokens\n",
    "sentence_tokens[:2]"
   ]
  },
  {
   "cell_type": "code",
   "execution_count": 25,
   "id": "ae3bc772",
   "metadata": {},
   "outputs": [
    {
     "data": {
      "text/plain": [
       "True"
      ]
     },
     "execution_count": 25,
     "metadata": {},
     "output_type": "execute_result"
    }
   ],
   "source": [
    "'%' in punctuations"
   ]
  },
  {
   "cell_type": "code",
   "execution_count": 26,
   "id": "4e3ff6e5",
   "metadata": {},
   "outputs": [
    {
     "data": {
      "text/plain": [
       "{\"''\",\n",
       " '--',\n",
       " \"It's\",\n",
       " 'Mauve-colored',\n",
       " '``',\n",
       " \"didn't\",\n",
       " 'fly-dotted',\n",
       " 'fur-piece',\n",
       " \"man's\",\n",
       " 'satin-covered',\n",
       " \"shouldn't\",\n",
       " \"that's\"}"
      ]
     },
     "execution_count": 26,
     "metadata": {},
     "output_type": "execute_result"
    }
   ],
   "source": [
    "# sentence_tokens에서 punctuation 없애기\n",
    "\n",
    "# 1. 전체 텍스트에서 punctuations에 없는 punctuation 찾아서 리스트 추가하는 방법 (better)\n",
    "# 2. 손수 추가: ['--', '``', \"''\"]\n",
    "\n",
    "# 문장부호 먼저 찾고 > punctuations 리스트 업데이트 > 37라인에 적용 user_punc\n",
    "\n",
    "# 뽑아내기 (학생코드)\n",
    "marks = []\n",
    "for sent in sentence_tokens:\n",
    "    for word in sent:\n",
    "        if not word.isdigit() and not word.isalpha():\n",
    "            marks.append(word) \n",
    "set(marks)"
   ]
  },
  {
   "cell_type": "code",
   "execution_count": 48,
   "id": "a1d47347",
   "metadata": {},
   "outputs": [
    {
     "data": {
      "text/plain": [
       "['They',\n",
       " 'neither',\n",
       " 'liked',\n",
       " 'nor',\n",
       " 'disliked',\n",
       " 'the',\n",
       " 'Old',\n",
       " 'Man',\n",
       " 'To',\n",
       " 'them']"
      ]
     },
     "execution_count": 48,
     "metadata": {},
     "output_type": "execute_result"
    }
   ],
   "source": [
    "[word for sent in sentence_tokens for word in sent] # punct 제거한 단어들 한꺼번에 리스트로\n",
    "[word for sent in sentence_tokens for word in sent][:10]"
   ]
  },
  {
   "cell_type": "code",
   "execution_count": 28,
   "id": "598e3b03",
   "metadata": {},
   "outputs": [
    {
     "data": {
      "text/plain": [
       "{\"''\", '--', '``'}"
      ]
     },
     "execution_count": 28,
     "metadata": {},
     "output_type": "execute_result"
    }
   ],
   "source": [
    "# 중복제거\n",
    "set([word for sent in sentence_tokens for word in sent if not word[0].isalnum()])"
   ]
  },
  {
   "cell_type": "code",
   "execution_count": 29,
   "id": "95f0f972",
   "metadata": {},
   "outputs": [],
   "source": [
    "text_punc = set([word for sent in sentence_tokens for word in sent if not word[0].isalnum()])\n",
    "punctuations.extend(list(text_punc)) # 추가"
   ]
  },
  {
   "cell_type": "code",
   "execution_count": 30,
   "id": "c45028f3",
   "metadata": {},
   "outputs": [
    {
     "data": {
      "text/plain": [
       "35"
      ]
     },
     "execution_count": 30,
     "metadata": {},
     "output_type": "execute_result"
    }
   ],
   "source": [
    "len(punctuations)"
   ]
  },
  {
   "cell_type": "code",
   "execution_count": 49,
   "id": "23bfb2f6",
   "metadata": {},
   "outputs": [
    {
     "data": {
      "text/plain": [
       "[['They', 'neither', 'liked', 'nor', 'disliked', 'the', 'Old', 'Man'],\n",
       " ['To',\n",
       "  'them',\n",
       "  'he',\n",
       "  'could',\n",
       "  'have',\n",
       "  'been',\n",
       "  'the',\n",
       "  'broken',\n",
       "  'bell',\n",
       "  'in',\n",
       "  'the',\n",
       "  'church',\n",
       "  'tower',\n",
       "  'which',\n",
       "  'rang',\n",
       "  'before',\n",
       "  'and',\n",
       "  'after',\n",
       "  'Mass',\n",
       "  'and',\n",
       "  'at',\n",
       "  'noon',\n",
       "  'and',\n",
       "  'at',\n",
       "  'six',\n",
       "  'each',\n",
       "  'evening',\n",
       "  'its',\n",
       "  'tone',\n",
       "  'repetitive',\n",
       "  'monotonous',\n",
       "  'never',\n",
       "  'breaking',\n",
       "  'the',\n",
       "  'boredom',\n",
       "  'of',\n",
       "  'the',\n",
       "  'streets']]"
      ]
     },
     "execution_count": 49,
     "metadata": {},
     "output_type": "execute_result"
    }
   ],
   "source": [
    "sentence_tokens = [[word.split('/')[0] for word in s.split(' ') \\\n",
    "                    if word.split('/')[0] not in punctuations] \\\n",
    "                   for s in sentence]\n",
    "sentence_tokens\n",
    "sentence_tokens[:2]\n",
    "# punct 모두 사라짐"
   ]
  },
  {
   "cell_type": "markdown",
   "id": "316d7e33",
   "metadata": {},
   "source": [
    "### 추가설명: extend\n",
    "a = [1, 2]\n",
    "b = [3, 4]\n",
    "\n",
    "a.append(b) => [1, 2, [3, 4]]\n",
    "\n",
    "a.extend(b) => [1, 2, 3, 4]"
   ]
  },
  {
   "cell_type": "code",
   "execution_count": 32,
   "id": "e4e6fddb",
   "metadata": {},
   "outputs": [
    {
     "data": {
      "text/plain": [
       "['fur', 'piece']"
      ]
     },
     "execution_count": 32,
     "metadata": {},
     "output_type": "execute_result"
    }
   ],
   "source": [
    "# hyphen\n",
    "'fur-piece'.split('-') # 리스트 extend"
   ]
  },
  {
   "cell_type": "code",
   "execution_count": 33,
   "id": "b6e38ea3",
   "metadata": {},
   "outputs": [],
   "source": [
    "# apostrophe \n",
    "# she's > she is / she, 's"
   ]
  },
  {
   "cell_type": "code",
   "execution_count": 34,
   "id": "8058efba",
   "metadata": {},
   "outputs": [
    {
     "data": {
      "text/plain": [
       "('she', \"'s\")"
      ]
     },
     "execution_count": 34,
     "metadata": {},
     "output_type": "execute_result"
    }
   ],
   "source": [
    "word = 'she\\'s'\n",
    "index = word.find('\\'')\n",
    "word[:index], word[index:]"
   ]
  },
  {
   "cell_type": "code",
   "execution_count": null,
   "id": "32e74d09",
   "metadata": {},
   "outputs": [],
   "source": [
    "# 좋지 않음: [word for sent in sent_tokens for word in sent]\n",
    "[[word for word in sent] for sent in sent_tokens]"
   ]
  },
  {
   "cell_type": "code",
   "execution_count": null,
   "id": "537ac748",
   "metadata": {},
   "outputs": [],
   "source": [
    "for loop\n",
    "    if index:\n",
    "        # hyphen 처리\n",
    "        # 's 처리\n",
    "        \n",
    "    # fur-piece's 같은 경우도 있을 수 있으므로 뭘 먼저 처리할지 생각해야 함\n",
    "    # 루프를 타면서 furpiece를 만났을 때는 extend, 나머지는 word"
   ]
  },
  {
   "cell_type": "code",
   "execution_count": 51,
   "id": "92cce234",
   "metadata": {},
   "outputs": [
    {
     "data": {
      "text/plain": [
       "['i', 'me', 'my', 'myself', 'we', 'our', 'ours', 'ourselves', 'you', \"you're\"]"
      ]
     },
     "execution_count": 51,
     "metadata": {},
     "output_type": "execute_result"
    }
   ],
   "source": [
    "stopwords = nltk.corpus.stopwords.words('english') # 불용어: 빈도수만 많고 의미 없는\n",
    "[word not in stopwords] # 불용어 제거\n",
    "stopwords\n",
    "\n",
    "stopwords[:10]"
   ]
  }
 ],
 "metadata": {
  "kernelspec": {
   "display_name": "Python 3 (ipykernel)",
   "language": "python",
   "name": "python3"
  },
  "language_info": {
   "codemirror_mode": {
    "name": "ipython",
    "version": 3
   },
   "file_extension": ".py",
   "mimetype": "text/x-python",
   "name": "python",
   "nbconvert_exporter": "python",
   "pygments_lexer": "ipython3",
   "version": "3.9.7"
  }
 },
 "nbformat": 4,
 "nbformat_minor": 5
}
