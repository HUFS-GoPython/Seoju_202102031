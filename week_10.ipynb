{
 "cells": [
  {
   "cell_type": "code",
   "execution_count": 1,
   "id": "e200863a",
   "metadata": {},
   "outputs": [],
   "source": [
    "from collections import defaultdict"
   ]
  },
  {
   "cell_type": "markdown",
   "id": "a670ffe1",
   "metadata": {},
   "source": [
    "### defaultdict\n",
    "- 값이 없으면 0으로 설정될 수 있게 해 주는 딕셔너리\n",
    "- defaultdict(list) #[]"
   ]
  },
  {
   "cell_type": "code",
   "execution_count": 3,
   "id": "e3691e91",
   "metadata": {},
   "outputs": [],
   "source": [
    "letter = 'defaultdict'\n",
    "empty = {}\n",
    "for ch in letter:\n",
    "    # if empty[ch] = 0\n",
    "    # else 값을 넣어라\n",
    "    empty.setdefault(ch, 0) # a가 없으면 기본값으로 0을 넣어라\n",
    "    empty[ch] += 1"
   ]
  },
  {
   "cell_type": "code",
   "execution_count": 4,
   "id": "257f5f23",
   "metadata": {},
   "outputs": [
    {
     "data": {
      "text/plain": [
       "{'d': 2, 'e': 1, 'f': 1, 'a': 1, 'u': 1, 'l': 1, 't': 2, 'i': 1, 'c': 1}"
      ]
     },
     "execution_count": 4,
     "metadata": {},
     "output_type": "execute_result"
    }
   ],
   "source": [
    "empty"
   ]
  },
  {
   "cell_type": "code",
   "execution_count": 5,
   "id": "3b329318",
   "metadata": {},
   "outputs": [
    {
     "data": {
      "text/plain": [
       "defaultdict(int,\n",
       "            {'d': 2,\n",
       "             'e': 1,\n",
       "             'f': 1,\n",
       "             'a': 1,\n",
       "             'u': 1,\n",
       "             'l': 1,\n",
       "             't': 2,\n",
       "             'i': 1,\n",
       "             'c': 1})"
      ]
     },
     "execution_count": 5,
     "metadata": {},
     "output_type": "execute_result"
    }
   ],
   "source": [
    "empty2 = defaultdict(int)\n",
    "for ch in letter:\n",
    "    empty2[ch] += 1\n",
    "    \n",
    "empty2"
   ]
  },
  {
   "cell_type": "markdown",
   "id": "4b2e6d0e",
   "metadata": {},
   "source": [
    "### Object & Class\n",
    "- 객체: 실제적인 물건, 개념\n",
    "- 속성, 행동을 가지는 개념\n",
    "- ex) 자동차\n",
    "    - 속성: 엔진, 브랜드, 가격, 색상, 이름, ... => 변수\n",
    "    - 행동: 나가다, 정지하다, 좌회전, 우회전 => 메서드(함수)\n",
    "- ex) 고양이\n",
    "    - 속성: 종, 이름, 색깔, 몸무게, 성별, ...\n",
    "    - 행동: 울다, 뛰다, 걷다, 째려보다, ...\n",
    "- 사전\n",
    "    - 속성: 글자 수, 시작 글자, 출현 빈도수, ...\n",
    "    - 행동: 추가하다, 제외하다, ...\n",
    "- 관련짓는 방법:\n",
    "    - 사람 / 상점 / 물건\n",
    "    - 이름, 돈 / 재고, 이익, 고객명단 / 브랜드, 제품명, 가격\n",
    "    - 사다 / 회원 등록, 팔다, 수익 계산 / ...\n",
    "- 객체 사용 이유: 코드 재사용 수월하게"
   ]
  },
  {
   "cell_type": "markdown",
   "id": "394fe1f3",
   "metadata": {},
   "source": [
    "### 클래스\n",
    "- 객체가 가져야 할 기본 정보를 담은 코드\n",
    "- 설계도, 틀, 프레임워크\n",
    "- like 붕어빵의 틀\n",
    "- 붕어빵 == 인스턴스\n",
    "- 'class Car:'\n",
    "    - 클래스명은 카멜표기법을 쓴다. ex. NiceCar"
   ]
  },
  {
   "cell_type": "code",
   "execution_count": 7,
   "id": "6c96fa89",
   "metadata": {},
   "outputs": [
    {
     "data": {
      "text/plain": [
       "<__main__.Car at 0x14020dd4670>"
      ]
     },
     "execution_count": 7,
     "metadata": {},
     "output_type": "execute_result"
    }
   ],
   "source": [
    "# class 정의\n",
    "class Car:\n",
    "    pass\n",
    "\n",
    "# 선언 (괄호 필수)\n",
    "# 붕어빵 생성\n",
    "car1 = Car()\n",
    "car1"
   ]
  },
  {
   "cell_type": "code",
   "execution_count": 8,
   "id": "6bfd26a1",
   "metadata": {},
   "outputs": [
    {
     "data": {
      "text/plain": [
       "<__main__.Car at 0x14020dd4970>"
      ]
     },
     "execution_count": 8,
     "metadata": {},
     "output_type": "execute_result"
    }
   ],
   "source": [
    "# 붕어빵 생성\n",
    "car2 = Car()\n",
    "car2\n",
    "\n",
    "# 주소값은 다르지만 타입은 동일"
   ]
  },
  {
   "cell_type": "code",
   "execution_count": 9,
   "id": "b35bf87e",
   "metadata": {},
   "outputs": [
    {
     "data": {
      "text/plain": [
       "__main__.Car"
      ]
     },
     "execution_count": 9,
     "metadata": {},
     "output_type": "execute_result"
    }
   ],
   "source": [
    "type(car2) # nltk book type == Text"
   ]
  },
  {
   "cell_type": "code",
   "execution_count": 10,
   "id": "5c29662b",
   "metadata": {},
   "outputs": [],
   "source": [
    "car1.brand = 'mercedes'\n",
    "car2.brand = 'kia'"
   ]
  },
  {
   "cell_type": "code",
   "execution_count": 11,
   "id": "749f3a10",
   "metadata": {},
   "outputs": [
    {
     "name": "stdout",
     "output_type": "stream",
     "text": [
      "mercedes\n",
      "kia\n"
     ]
    }
   ],
   "source": [
    "for car in [car1, car2]:\n",
    "    print(car.brand)"
   ]
  },
  {
   "cell_type": "code",
   "execution_count": 12,
   "id": "a579a759",
   "metadata": {},
   "outputs": [],
   "source": [
    "class Car:\n",
    "    # 속성(브랜드 이름)을 정해줌\n",
    "    brand = 'mercedes'\n",
    "    \n",
    "car3 = Car()"
   ]
  },
  {
   "cell_type": "code",
   "execution_count": 13,
   "id": "fc6a207f",
   "metadata": {},
   "outputs": [
    {
     "data": {
      "text/plain": [
       "'mercedes'"
      ]
     },
     "execution_count": 13,
     "metadata": {},
     "output_type": "execute_result"
    }
   ],
   "source": [
    "car3.brand"
   ]
  },
  {
   "cell_type": "code",
   "execution_count": 25,
   "id": "4592fec1",
   "metadata": {},
   "outputs": [],
   "source": [
    "# 다양한 속성을 만들기\n",
    "\n",
    "class Car:\n",
    "    def __init__(self, brand): # __init__: 속성을 초기화하는 함수 (*self == my_car)\n",
    "        self.brand = brand # self == instance"
   ]
  },
  {
   "cell_type": "code",
   "execution_count": 17,
   "id": "1f5392b7",
   "metadata": {},
   "outputs": [
    {
     "data": {
      "text/plain": [
       "'toyota'"
      ]
     },
     "execution_count": 17,
     "metadata": {},
     "output_type": "execute_result"
    }
   ],
   "source": [
    "my_car = Car(brand = 'toyota')\n",
    "my_car.brand"
   ]
  },
  {
   "cell_type": "markdown",
   "id": "c1c5ef0f",
   "metadata": {},
   "source": [
    "- color, model 속성 초기화하기\n",
    "- 인스턴스 만들기"
   ]
  },
  {
   "cell_type": "code",
   "execution_count": 2,
   "id": "112a4b48",
   "metadata": {},
   "outputs": [],
   "source": [
    "class Car:\n",
    "    def __init__(self, brand, model, color):\n",
    "        self.brand = brand\n",
    "        self.model = model\n",
    "        self.color = color\n",
    "        \n",
    "my_morning = Car('kia', 'morning', 'black')"
   ]
  },
  {
   "cell_type": "code",
   "execution_count": 4,
   "id": "bc23b4c4",
   "metadata": {},
   "outputs": [
    {
     "data": {
      "text/plain": [
       "('kia', 'morning', 'black')"
      ]
     },
     "execution_count": 4,
     "metadata": {},
     "output_type": "execute_result"
    }
   ],
   "source": [
    "my_morning.brand, my_morning.model, my_morning.color"
   ]
  },
  {
   "cell_type": "code",
   "execution_count": 30,
   "id": "4f9fc462",
   "metadata": {},
   "outputs": [
    {
     "data": {
      "text/plain": [
       "'white'"
      ]
     },
     "execution_count": 30,
     "metadata": {},
     "output_type": "execute_result"
    }
   ],
   "source": [
    " # 이 객체에 대해서만 속성 바꾸기\n",
    "\n",
    "my_morning.color = 'white'\n",
    "my_morning.color"
   ]
  },
  {
   "cell_type": "code",
   "execution_count": 5,
   "id": "ed8c2653",
   "metadata": {},
   "outputs": [
    {
     "data": {
      "text/plain": [
       "'yellow'"
      ]
     },
     "execution_count": 5,
     "metadata": {},
     "output_type": "execute_result"
    }
   ],
   "source": [
    "# 다른 객체에 대해서는 당연히 바뀌지 않음\n",
    "\n",
    "my_sorento = Car('kia', 'sorento', 'yellow')\n",
    "my_sorento.color"
   ]
  },
  {
   "cell_type": "code",
   "execution_count": 46,
   "id": "03c45e93",
   "metadata": {},
   "outputs": [],
   "source": [
    "class Car:\n",
    "    def __init__(self, brand, model, color):\n",
    "        self.brand = brand\n",
    "        self.model = model\n",
    "        self.color = color\n",
    "\n",
    "# action 정의하기\n",
    "    def drive(self): # 함수 첫번째 인자는 무조건 self\n",
    "        print('차가 움직인다.')\n",
    "\n",
    "    def stop(self):\n",
    "        print('차가 멈춘다.')\n",
    "        \n",
    "    def change_color(self):\n",
    "        # self.color -> 'pink'로 바꾸기\n",
    "        my_morning.color = 'pink'\n",
    "        \n",
    "my_morning = Car('kia', 'morning', 'black')"
   ]
  },
  {
   "cell_type": "code",
   "execution_count": 44,
   "id": "97260f73",
   "metadata": {},
   "outputs": [
    {
     "name": "stdout",
     "output_type": "stream",
     "text": [
      "차가 멈춘다.\n"
     ]
    }
   ],
   "source": [
    "my_morning.stop()"
   ]
  },
  {
   "cell_type": "code",
   "execution_count": 47,
   "id": "53de3989",
   "metadata": {},
   "outputs": [
    {
     "data": {
      "text/plain": [
       "'black'"
      ]
     },
     "execution_count": 47,
     "metadata": {},
     "output_type": "execute_result"
    }
   ],
   "source": [
    "my_morning.color"
   ]
  },
  {
   "cell_type": "markdown",
   "id": "6c5c4e78",
   "metadata": {},
   "source": [
    "### 연습"
   ]
  },
  {
   "cell_type": "code",
   "execution_count": 21,
   "id": "14e43f77",
   "metadata": {},
   "outputs": [],
   "source": [
    "class Car:\n",
    "    def __init__(self, brand, model, color):\n",
    "        self.brand = brand\n",
    "        self.model = model\n",
    "        self.color = color\n",
    "\n",
    "    def drive(self):\n",
    "        print(f'내 차(브랜드 = {self.brand})가 움직인다.')\n",
    "        # 출력: 내 차(브랜드 = {}) 이 움직인다.\n",
    "\n",
    "    def stop(self):\n",
    "        print('차가 멈춘다.')\n",
    "        \n",
    "    def change_color(self):\n",
    "        # self.color -> 'pink'로 변경하기\n",
    "        self.color = 'pink'\n",
    "        \n",
    "my_morning = Car('kia', 'morning', 'black')\n",
    "my_morning.change_color()"
   ]
  },
  {
   "cell_type": "code",
   "execution_count": 22,
   "id": "d832ffa4",
   "metadata": {},
   "outputs": [
    {
     "name": "stdout",
     "output_type": "stream",
     "text": [
      "내 차(브랜드 = kia)가 움직인다.\n"
     ]
    }
   ],
   "source": [
    "my_morning.drive()"
   ]
  },
  {
   "cell_type": "code",
   "execution_count": 20,
   "id": "05d2e9b4",
   "metadata": {},
   "outputs": [
    {
     "data": {
      "text/plain": [
       "'pink'"
      ]
     },
     "execution_count": 20,
     "metadata": {},
     "output_type": "execute_result"
    }
   ],
   "source": [
    "my_morning.color"
   ]
  },
  {
   "cell_type": "markdown",
   "id": "703dfa92",
   "metadata": {},
   "source": [
    "- 내가 원하는 컬러로 바꾸기\n",
    "- 컬러가 있으면 그 컬러로, 없으면 orange로 기본값 설정하기\n",
    "- model 값을 받지 않아도 되도록 설정하기"
   ]
  },
  {
   "cell_type": "code",
   "execution_count": 31,
   "id": "1137d62a",
   "metadata": {},
   "outputs": [],
   "source": [
    "class Car:\n",
    "    def __init__(self, brand, model = None, color = 'orange'):\n",
    "        # model = None (0), model = ' ' (X)\n",
    "        self.brand = brand\n",
    "        # self.brand = 어떤 객체가 만들어지더라도 가져갈 브랜드\n",
    "        # brand = 객체 생성 시 설정되는 브랜드명 (처음에 들어오는 값)\n",
    "        self.model = model\n",
    "        self.color = color\n",
    "\n",
    "    def drive(self):\n",
    "        print(f'내 차 (브랜드 = {self.brand})가 움직인다.')\n",
    "\n",
    "    def stop(self):\n",
    "        print('차가 멈춘다.')\n",
    "        \n",
    "    def change_color(self, color):\n",
    "        self.color = 'pink'\n",
    "        # 입력되는 컬러로 설정하기\n",
    "        self.color = color\n",
    "        \n",
    "my_morning = Car('kia', 'morning', 'black')\n",
    "my_morning.change_color('blue')"
   ]
  },
  {
   "cell_type": "code",
   "execution_count": 32,
   "id": "f43bf17a",
   "metadata": {},
   "outputs": [
    {
     "data": {
      "text/plain": [
       "'blue'"
      ]
     },
     "execution_count": 32,
     "metadata": {},
     "output_type": "execute_result"
    }
   ],
   "source": [
    "my_morning.color"
   ]
  },
  {
   "cell_type": "markdown",
   "id": "87dc8333",
   "metadata": {},
   "source": [
    "### getter, setter\n",
    "- 캡슐화, 정보 은닉\n",
    "- 클래스 외부에서 변수 접근을 용이하지 않도록 하는 것\n",
    "- public -> private\n",
    "\n",
    "\n",
    "- 01. 틀에서 변수를 바꾸는 것\n",
    "- 02. 인스턴스에서 변수를 바꾸는 것"
   ]
  },
  {
   "cell_type": "code",
   "execution_count": 84,
   "id": "01f29210",
   "metadata": {},
   "outputs": [],
   "source": [
    "class Fruit:\n",
    "    color = 'red'"
   ]
  },
  {
   "cell_type": "code",
   "execution_count": 85,
   "id": "1ad4a2d9",
   "metadata": {},
   "outputs": [
    {
     "data": {
      "text/plain": [
       "'red'"
      ]
     },
     "execution_count": 85,
     "metadata": {},
     "output_type": "execute_result"
    }
   ],
   "source": [
    "apple = Fruit()\n",
    "apple.color"
   ]
  },
  {
   "cell_type": "code",
   "execution_count": 86,
   "id": "fb36db1f",
   "metadata": {},
   "outputs": [],
   "source": [
    "# 클래스에서는 red로 정의했어도, Furit으로 접근하여 purple로 전부 바꿔버릴 수 있음\n",
    "\n",
    "Fruit.color = 'purple'"
   ]
  },
  {
   "cell_type": "code",
   "execution_count": 87,
   "id": "d6b66a4a",
   "metadata": {},
   "outputs": [
    {
     "data": {
      "text/plain": [
       "'purple'"
      ]
     },
     "execution_count": 87,
     "metadata": {},
     "output_type": "execute_result"
    }
   ],
   "source": [
    "orange = Fruit()\n",
    "orange.color"
   ]
  },
  {
   "cell_type": "code",
   "execution_count": 33,
   "id": "9f07a032",
   "metadata": {},
   "outputs": [],
   "source": [
    "class Car:\n",
    "    def __init__(self, input_brand):\n",
    "        self.brand = input_brand\n",
    "        \n",
    "    # getter\n",
    "    def get_brand(self):\n",
    "        # 원래 변수명에 접근 가능하도록\n",
    "        print('from the getter')\n",
    "        return self.brand\n",
    "    \n",
    "    # setter\n",
    "    def set_brand(self, input_brand):\n",
    "        # 변수명을 바꾸는 작업(리턴 값 x)\n",
    "        print('from the setter')\n",
    "        self.brand = input_brand"
   ]
  },
  {
   "cell_type": "code",
   "execution_count": 91,
   "id": "658446fc",
   "metadata": {},
   "outputs": [
    {
     "data": {
      "text/plain": [
       "'toyota'"
      ]
     },
     "execution_count": 91,
     "metadata": {},
     "output_type": "execute_result"
    }
   ],
   "source": [
    "ex = Car('toyota')\n",
    "ex.brand"
   ]
  },
  {
   "cell_type": "code",
   "execution_count": 92,
   "id": "8f4bade0",
   "metadata": {},
   "outputs": [
    {
     "name": "stdout",
     "output_type": "stream",
     "text": [
      "from the getter\n"
     ]
    },
    {
     "data": {
      "text/plain": [
       "'toyota'"
      ]
     },
     "execution_count": 92,
     "metadata": {},
     "output_type": "execute_result"
    }
   ],
   "source": [
    "ex.get_brand()"
   ]
  },
  {
   "cell_type": "code",
   "execution_count": 93,
   "id": "e445a58e",
   "metadata": {},
   "outputs": [
    {
     "name": "stdout",
     "output_type": "stream",
     "text": [
      "from the setter\n"
     ]
    }
   ],
   "source": [
    "ex.set_brand('mazuda')"
   ]
  },
  {
   "cell_type": "code",
   "execution_count": 94,
   "id": "4aad36bc",
   "metadata": {},
   "outputs": [
    {
     "data": {
      "text/plain": [
       "'mazuda'"
      ]
     },
     "execution_count": 94,
     "metadata": {},
     "output_type": "execute_result"
    }
   ],
   "source": [
    "ex.brand"
   ]
  },
  {
   "cell_type": "code",
   "execution_count": 95,
   "id": "863ef866",
   "metadata": {},
   "outputs": [
    {
     "name": "stdout",
     "output_type": "stream",
     "text": [
      "from the getter\n"
     ]
    },
    {
     "data": {
      "text/plain": [
       "'mazuda'"
      ]
     },
     "execution_count": 95,
     "metadata": {},
     "output_type": "execute_result"
    }
   ],
   "source": [
    "ex.get_brand()"
   ]
  },
  {
   "cell_type": "code",
   "execution_count": 96,
   "id": "f42741e8",
   "metadata": {},
   "outputs": [],
   "source": [
    "# Car로 접근하여 값 바꿔도 안 바뀜\n",
    "\n",
    "Car.brand = 'bmw'"
   ]
  },
  {
   "cell_type": "code",
   "execution_count": 97,
   "id": "cbe22d1b",
   "metadata": {},
   "outputs": [
    {
     "data": {
      "text/plain": [
       "'toyota'"
      ]
     },
     "execution_count": 97,
     "metadata": {},
     "output_type": "execute_result"
    }
   ],
   "source": [
    "a = Car('toyota')\n",
    "a.brand"
   ]
  },
  {
   "cell_type": "code",
   "execution_count": 98,
   "id": "edf8030e",
   "metadata": {},
   "outputs": [
    {
     "name": "stdout",
     "output_type": "stream",
     "text": [
      "from the getter\n"
     ]
    },
    {
     "data": {
      "text/plain": [
       "'toyota'"
      ]
     },
     "execution_count": 98,
     "metadata": {},
     "output_type": "execute_result"
    }
   ],
   "source": [
    "a.get_brand()"
   ]
  },
  {
   "cell_type": "markdown",
   "id": "ce7a7f7a",
   "metadata": {},
   "source": [
    "- 2. \n",
    "    - hidden_brand로 숨기기\n",
    "    - property() 통해 .brand로 알려주기"
   ]
  },
  {
   "cell_type": "code",
   "execution_count": 99,
   "id": "089b894d",
   "metadata": {},
   "outputs": [
    {
     "data": {
      "text/plain": [
       "'kia'"
      ]
     },
     "execution_count": 99,
     "metadata": {},
     "output_type": "execute_result"
    }
   ],
   "source": [
    "class Car:\n",
    "    def __init__(self, input_brand):\n",
    "        self.hidden_brand = input_brand\n",
    "        \n",
    "    def get_brand(self):\n",
    "        return self.hidden_brand\n",
    "    \n",
    "    def set_brand(self, input_brand):\n",
    "        self.hidden_brand = input_brand\n",
    "        \n",
    "    # 내가 사용할 변수명    \n",
    "    brand = property(get_brand, set_brand)\n",
    "    \n",
    "c = Car('kia')\n",
    "c.brand"
   ]
  },
  {
   "cell_type": "code",
   "execution_count": 100,
   "id": "d168dc41",
   "metadata": {},
   "outputs": [],
   "source": [
    "c.brand = 'hyundai'"
   ]
  },
  {
   "cell_type": "code",
   "execution_count": 101,
   "id": "7d3c6745",
   "metadata": {},
   "outputs": [],
   "source": [
    "Car.brand = 'toyota'"
   ]
  },
  {
   "cell_type": "code",
   "execution_count": 102,
   "id": "1a4c9216",
   "metadata": {},
   "outputs": [],
   "source": [
    "d = Car('')"
   ]
  },
  {
   "cell_type": "markdown",
   "id": "f2f1116b",
   "metadata": {},
   "source": [
    "- 3. 데코레이터\n",
    "     - decorator : @로 시작하는 수식"
   ]
  },
  {
   "cell_type": "code",
   "execution_count": 37,
   "id": "1c0ffee1",
   "metadata": {},
   "outputs": [
    {
     "data": {
      "text/plain": [
       "'aa'"
      ]
     },
     "execution_count": 37,
     "metadata": {},
     "output_type": "execute_result"
    }
   ],
   "source": [
    "class Car:\n",
    "    def __init__(self, input_brand):\n",
    "        self.hidden_brand = input_brand\n",
    "    \n",
    "    @property\n",
    "    def brand(self):\n",
    "        return self.hidden_brand\n",
    "    \n",
    "    @brand.setter\n",
    "    def brand(self, input_brand):\n",
    "        self.hidden_brand = input_brand\n",
    "        \n",
    "c = Car('aa')\n",
    "c.brand"
   ]
  },
  {
   "cell_type": "markdown",
   "id": "8de8de29",
   "metadata": {},
   "source": [
    "- *** 4\n",
    "    - .__brand"
   ]
  },
  {
   "cell_type": "code",
   "execution_count": 35,
   "id": "15e4810d",
   "metadata": {},
   "outputs": [
    {
     "ename": "AttributeError",
     "evalue": "'Car' object has no attribute '__brand'",
     "output_type": "error",
     "traceback": [
      "\u001b[1;31m---------------------------------------------------------------------------\u001b[0m",
      "\u001b[1;31mAttributeError\u001b[0m                            Traceback (most recent call last)",
      "\u001b[1;32m~\\AppData\\Local\\Temp/ipykernel_17128/2871847229.py\u001b[0m in \u001b[0;36m<module>\u001b[1;34m\u001b[0m\n\u001b[0;32m     12\u001b[0m \u001b[1;33m\u001b[0m\u001b[0m\n\u001b[0;32m     13\u001b[0m \u001b[0mc\u001b[0m \u001b[1;33m=\u001b[0m \u001b[0mCar\u001b[0m\u001b[1;33m(\u001b[0m\u001b[1;34m'bb'\u001b[0m\u001b[1;33m)\u001b[0m\u001b[1;33m\u001b[0m\u001b[1;33m\u001b[0m\u001b[0m\n\u001b[1;32m---> 14\u001b[1;33m \u001b[0mc\u001b[0m\u001b[1;33m.\u001b[0m\u001b[0m__brand\u001b[0m\u001b[1;33m\u001b[0m\u001b[1;33m\u001b[0m\u001b[0m\n\u001b[0m",
      "\u001b[1;31mAttributeError\u001b[0m: 'Car' object has no attribute '__brand'"
     ]
    }
   ],
   "source": [
    "class Car:\n",
    "    def __init__(self, input_brand):\n",
    "        self.__brand = input_brand\n",
    "    \n",
    "    @property\n",
    "    def brand(self):\n",
    "        return self.__brand\n",
    "    \n",
    "    @brand.setter\n",
    "    def brand(self, input_brand):\n",
    "        self.__brand = input_brand\n",
    "        \n",
    "c = Car('bb')\n",
    "c.__brand"
   ]
  },
  {
   "cell_type": "code",
   "execution_count": 36,
   "id": "d8633ad0",
   "metadata": {},
   "outputs": [
    {
     "data": {
      "text/plain": [
       "'bb'"
      ]
     },
     "execution_count": 36,
     "metadata": {},
     "output_type": "execute_result"
    }
   ],
   "source": [
    "c.brand"
   ]
  },
  {
   "cell_type": "code",
   "execution_count": 21,
   "id": "b701e51b",
   "metadata": {},
   "outputs": [
    {
     "data": {
      "text/plain": [
       "14"
      ]
     },
     "execution_count": 21,
     "metadata": {},
     "output_type": "execute_result"
    }
   ],
   "source": [
    "class Circle:\n",
    "    def __init__(self, radius): # 여기서 diameter을 써주지 않아도\n",
    "        self.radius = radius\n",
    "    \n",
    "    @property # property 활용하면\n",
    "    def diameter(self):\n",
    "        return self.radius * 2\n",
    "    \n",
    "c = Circle(7)\n",
    "c.diameter # 속성처럼 사용 가능"
   ]
  },
  {
   "cell_type": "markdown",
   "id": "66259cae",
   "metadata": {},
   "source": [
    "### 실습\n",
    "- 객체: 메모장(노트), 메모(: 글귀)\n",
    "- 변수: 제목, 페이지번호, 메모\n",
    "- 메서드: 추가, 삭제, 페이지번호 (: 쓰기, 지우기)\n",
    "\n",
    "\n",
    "- getter, setter 메모장 제목에 설정하기\n",
    "- '메모' 객체에 글귀를 추가한다\n",
    "- '메모장' 객체에 메모 추가\n",
    "- 페이지 번호가 늘어난다.\n",
    "- 메모를 삭제하면 페이지 번호가 줄어들고\n",
    "- 페이지가 300을 넘으면 메모 추가 못하게 막기\n",
    "- 페이지 번호로 메모 찾기"
   ]
  },
  {
   "cell_type": "code",
   "execution_count": 25,
   "id": "a4fe5204",
   "metadata": {},
   "outputs": [],
   "source": [
    "class Note:\n",
    "    def __init__(self, contents = None):\n",
    "        self.contents = contents\n",
    "        \n",
    "    def write_contents(self, contents):\n",
    "        self.contents = contents\n",
    "        \n",
    "    def remove_contents(self):\n",
    "        self.contents = ''"
   ]
  },
  {
   "cell_type": "code",
   "execution_count": 26,
   "id": "31ffcaca",
   "metadata": {},
   "outputs": [],
   "source": [
    "class Notebook:\n",
    "    def __init__(self, title = None):\n",
    "        self.__title = title\n",
    "        self.page_num = 1\n",
    "        self.notes = {}\n",
    "        \n",
    "    def get_title(self):\n",
    "        return self.__title\n",
    "    \n",
    "    def set_title(self, title):\n",
    "        self.__title = title\n",
    "        \n",
    "    def add_note(self, note, page = 0):\n",
    "        if self.page_num < 300:\n",
    "            if page == 0:\n",
    "                self.notes[self.page_num] = note\n",
    "                self.page_num += 1\n",
    "            else:\n",
    "                self.notes = {page : note}\n",
    "                self.page_num += 1\n",
    "        else:\n",
    "            print('페이지를 추가할 수 없습니다.')\n",
    "            \n",
    "    def remove_note(self, page_num):\n",
    "        if page_num in self.notes.keys():\n",
    "            print(f'\"{self.notes.pop(page_num)}\"를 삭제했습니다.')\n",
    "        else:\n",
    "            print('해당 페이지는 존재하지 않습니다.')\n",
    "            \n",
    "    def get_page_num(self):\n",
    "        return self.page_num - 1\n",
    "            \n",
    "    def print_page(self, page_num):\n",
    "        print(f'{self.notes[page_num]}')\n",
    "        \n",
    "    def print_all_pages(self):\n",
    "        for i in range(1, len(self.notes.keys()) + 1):\n",
    "            print(f'Page{i}: {self.notes[i]}')"
   ]
  },
  {
   "cell_type": "code",
   "execution_count": 36,
   "id": "70b26d97",
   "metadata": {},
   "outputs": [],
   "source": [
    "# 메모 추가하기\n",
    "memo1 = '꿈을 이루고자 하는 용기만 있다면 모든 꿈을 이룰 수 있다.'\n",
    "memo2 = '웃음이 없는 하루는 버린 하루다.'\n",
    "memo3 = '승리는 가장 끈기 있는 사람에게 돌아간다.'\n",
    "\n",
    "# 메모 쓰기\n",
    "note.write_contents(memo1)\n",
    "note.write_contents(memo2)\n",
    "note.write_contents(memo3)\n",
    "\n",
    "# 메모장 만들기\n",
    "my_book = Notebook('내 메모장')\n",
    "\n",
    "# 메모장에 메모 추가하기\n",
    "my_book.add_note(memo1)\n",
    "my_book.add_note(memo2)\n",
    "my_book.add_note(memo3)"
   ]
  },
  {
   "cell_type": "code",
   "execution_count": 37,
   "id": "1b5721ea",
   "metadata": {},
   "outputs": [
    {
     "name": "stdout",
     "output_type": "stream",
     "text": [
      "Page1: 꿈을 이루고자 하는 용기만 있다면 모든 꿈을 이룰 수 있다.\n",
      "Page2: 웃음이 없는 하루는 버린 하루다.\n",
      "Page3: 승리는 가장 끈기 있는 사람에게 돌아간다.\n"
     ]
    }
   ],
   "source": [
    "# 메모장 내용 확인하기\n",
    "my_book.print_all_pages()"
   ]
  },
  {
   "cell_type": "code",
   "execution_count": 32,
   "id": "dd2c9331",
   "metadata": {},
   "outputs": [
    {
     "name": "stdout",
     "output_type": "stream",
     "text": [
      "승리는 가장 끈기 있는 사람에게 돌아간다.\n"
     ]
    }
   ],
   "source": [
    "# 페이지 번호로 메모 찾기(출력)\n",
    "my_book.print_page(3)"
   ]
  },
  {
   "cell_type": "code",
   "execution_count": 33,
   "id": "750796a2",
   "metadata": {},
   "outputs": [
    {
     "data": {
      "text/plain": [
       "3"
      ]
     },
     "execution_count": 33,
     "metadata": {},
     "output_type": "execute_result"
    }
   ],
   "source": [
    "# 페이지 번호 확인\n",
    "my_book.get_page_num()"
   ]
  },
  {
   "cell_type": "code",
   "execution_count": 34,
   "id": "c1c4ef4e",
   "metadata": {},
   "outputs": [
    {
     "name": "stdout",
     "output_type": "stream",
     "text": [
      "\"꿈을 이루고자 하는 용기만 있다면 모든 꿈을 이룰 수 있다.\"를 삭제했습니다.\n"
     ]
    }
   ],
   "source": [
    "# 페이지 번호로 메모 삭제\n",
    "my_book.remove_note(1)"
   ]
  }
 ],
 "metadata": {
  "kernelspec": {
   "display_name": "Python 3 (ipykernel)",
   "language": "python",
   "name": "python3"
  },
  "language_info": {
   "codemirror_mode": {
    "name": "ipython",
    "version": 3
   },
   "file_extension": ".py",
   "mimetype": "text/x-python",
   "name": "python",
   "nbconvert_exporter": "python",
   "pygments_lexer": "ipython3",
   "version": "3.9.7"
  }
 },
 "nbformat": 4,
 "nbformat_minor": 5
}
