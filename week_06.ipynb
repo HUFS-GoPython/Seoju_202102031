{
 "cells": [
  {
   "cell_type": "markdown",
   "id": "70e36a10",
   "metadata": {},
   "source": [
    "## NLTK Corpus"
   ]
  },
  {
   "cell_type": "code",
   "execution_count": 2,
   "id": "ef9e5dce",
   "metadata": {},
   "outputs": [
    {
     "name": "stderr",
     "output_type": "stream",
     "text": [
      "[nltk_data] Downloading package inaugural to\n",
      "[nltk_data]     C:\\Users\\user\\AppData\\Roaming\\nltk_data...\n",
      "[nltk_data]   Package inaugural is already up-to-date!\n",
      "[nltk_data] Downloading package brown to\n",
      "[nltk_data]     C:\\Users\\user\\AppData\\Roaming\\nltk_data...\n",
      "[nltk_data]   Package brown is already up-to-date!\n"
     ]
    },
    {
     "data": {
      "text/plain": [
       "True"
      ]
     },
     "execution_count": 2,
     "metadata": {},
     "output_type": "execute_result"
    }
   ],
   "source": [
    "# nltk brown, inaugural\n",
    "\n",
    "import nltk\n",
    "nltk.download(['inaugural', 'brown'])"
   ]
  },
  {
   "cell_type": "code",
   "execution_count": 3,
   "id": "c72abf4d",
   "metadata": {},
   "outputs": [],
   "source": [
    "brown = nltk.corpus.brown"
   ]
  },
  {
   "cell_type": "code",
   "execution_count": 5,
   "id": "3c4ec4aa",
   "metadata": {},
   "outputs": [
    {
     "name": "stdout",
     "output_type": "stream",
     "text": [
      "                 can could  will would   may might \n",
      "     adventure    46   151    50   191     5    58 \n",
      "belles_lettres   246   213   236   392   207   113 \n",
      "     editorial   121    56   233   180    74    39 \n",
      "       fiction    37   166    52   287     8    44 \n",
      "    government   117    38   244   120   153    13 \n"
     ]
    }
   ],
   "source": [
    "cfd1 = nltk.ConditionalFreqDist(\n",
    "    (genre, word)\n",
    "    for genre in brown.categories()\n",
    "    for word in brown.words(categories = genre)\n",
    ")\n",
    "\n",
    "genres = brown.categories()[:5]\n",
    "modals = ['can', 'could', 'will', 'would', 'may', 'might']\n",
    "cfd1.tabulate(conditions = genres, samples = modals)"
   ]
  },
  {
   "cell_type": "code",
   "execution_count": 17,
   "id": "5d3b38db",
   "metadata": {},
   "outputs": [
    {
     "name": "stdout",
     "output_type": "stream",
     "text": [
      "                  can could   may might  will would \n",
      "      adventure    48   154     7    59    51   194 \n",
      " belles_lettres   249   216   221   113   246   397 \n",
      "      editorial   124    57    79    39   235   185 \n",
      "        fiction    39   168    10    44    56   291 \n",
      "     government   119    38   179    13   244   120 \n",
      "        hobbies   276    59   143    22   269    83 \n",
      "          humor    17    33     8     8    13    56 \n",
      "        learned   367   159   336   128   340   321 \n",
      "           lore   170   142   170    50   178   188 \n",
      "        mystery    45   145    15    57    25   189 \n",
      "           news    94    87    93    38   389   246 \n",
      "       religion    84    59    79    12    72    69 \n",
      "        reviews    45    40    47    26    61    48 \n",
      "        romance    79   195    11    51    49   247 \n",
      "science_fiction    16    49     4    12    17    80 \n"
     ]
    }
   ],
   "source": [
    "cfd2 = nltk.ConditionalFreqDist(\n",
    "    (genre, modals)\n",
    "    for genre in brown.categories()\n",
    "    for modals in ['can', 'could', 'will', 'would', 'may', 'might']\n",
    "    \n",
    "    for word in brown.words(categories = genre)\n",
    "        if word.lower() == modals # candidate\n",
    ")\n",
    "\n",
    "cfd2.tabulate()"
   ]
  },
  {
   "cell_type": "code",
   "execution_count": 11,
   "id": "b2ae7a8d",
   "metadata": {},
   "outputs": [],
   "source": [
    "### 보충"
   ]
  },
  {
   "cell_type": "markdown",
   "id": "2101955b",
   "metadata": {},
   "source": [
    "### Inaugural\n",
    "- 연설문 데이터"
   ]
  },
  {
   "cell_type": "code",
   "execution_count": 12,
   "id": "c35aa0db",
   "metadata": {},
   "outputs": [],
   "source": [
    "inaugural = nltk.corpus.inaugural"
   ]
  },
  {
   "cell_type": "code",
   "execution_count": 21,
   "id": "1b1710ee",
   "metadata": {},
   "outputs": [
    {
     "data": {
      "text/plain": [
       "['1789-Washington.txt', '1793-Washington.txt', '1797-Adams.txt']"
      ]
     },
     "execution_count": 21,
     "metadata": {},
     "output_type": "execute_result"
    }
   ],
   "source": [
    "inaugural.fileids()[:3] # 연도-이름.txt 형태"
   ]
  },
  {
   "cell_type": "markdown",
   "id": "08be38a8",
   "metadata": {},
   "source": [
    "#### Quiz. inaugural에서 america, citizen의 빈도수, 연도별로"
   ]
  },
  {
   "cell_type": "code",
   "execution_count": 6,
   "id": "3e8557d3",
   "metadata": {},
   "outputs": [
    {
     "data": {
      "text/plain": [
       "'\\nnltk.ConditionalFreqDist(\\n        (target_word, fileids) # fileid에서 .txt 제거하기\\n        # 작성하기\\n)\\n'"
      ]
     },
     "execution_count": 6,
     "metadata": {},
     "output_type": "execute_result"
    }
   ],
   "source": [
    "\"\"\"\n",
    "nltk.ConditionalFreqDist(\n",
    "        (target_word, fileids) # fileid에서 .txt 제거하기\n",
    "        # 작성하기\n",
    ")\n",
    "\"\"\""
   ]
  },
  {
   "cell_type": "code",
   "execution_count": 24,
   "id": "dd34a78d",
   "metadata": {},
   "outputs": [
    {
     "data": {
      "image/png": "[encoded data removed]",
      "text/plain": [
       "<Figure size 432x288 with 1 Axes>"
      ]
     },
     "metadata": {
      "needs_background": "light"
     },
     "output_type": "display_data"
    },
    {
     "data": {
      "text/plain": [
       "<AxesSubplot:xlabel='Samples', ylabel='Counts'>"
      ]
     },
     "execution_count": 24,
     "metadata": {},
     "output_type": "execute_result"
    }
   ],
   "source": [
    "cfd3 = nltk.ConditionalFreqDist(\n",
    "    # (genre, modals) \n",
    "    (target_word, fileid[:-4])\n",
    "    #(fileid[:-4], target_word) # 순서 바꾸기도 가능(x <-> y축)\n",
    "    \n",
    "    # for genre in brown.categories()\n",
    "    for fileid in inaugural.fileids()\n",
    "    \n",
    "    # for modals in ['can', 'could', 'will', 'would', 'may', 'might']\n",
    "    for target_word in ['america', 'citizen']\n",
    "    \n",
    "    # for word in brown.words(categories = genre)\n",
    "    for word in inaugural.words(fileids = fileid)\n",
    "        # if word.lower() == modals # candidate\n",
    "        if word.lower().startswith(target_word)\n",
    ")\n",
    "\n",
    "cfd3.plot()"
   ]
  },
  {
   "cell_type": "markdown",
   "id": "49a7d557",
   "metadata": {},
   "source": [
    "## Tuple & List"
   ]
  },
  {
   "cell_type": "markdown",
   "id": "1cf5d8b6",
   "metadata": {},
   "source": [
    "1. 생성하기"
   ]
  },
  {
   "cell_type": "code",
   "execution_count": 27,
   "id": "0e10017c",
   "metadata": {},
   "outputs": [
    {
     "data": {
      "text/plain": [
       "((), [])"
      ]
     },
     "execution_count": 27,
     "metadata": {},
     "output_type": "execute_result"
    }
   ],
   "source": [
    "emptyT = ()\n",
    "emptyT = tuple()\n",
    "\n",
    "emptyL = []\n",
    "emptyL = list()\n",
    "\n",
    "emptyT, emptyL"
   ]
  },
  {
   "cell_type": "markdown",
   "id": "83e2686f",
   "metadata": {},
   "source": [
    "1-1.요소가 2개 이상일 때"
   ]
  },
  {
   "cell_type": "code",
   "execution_count": 28,
   "id": "62ac6def",
   "metadata": {},
   "outputs": [
    {
     "data": {
      "text/plain": [
       "(('a', 'b'), ['a', 'b'])"
      ]
     },
     "execution_count": 28,
     "metadata": {},
     "output_type": "execute_result"
    }
   ],
   "source": [
    "listA = ['a', 'b']\n",
    "tupleA = 'a','b' # 괄호 없이 사용하는 것이 일반적\n",
    "tupleA = ('a','b')\n",
    "\n",
    "tupleA, listA"
   ]
  },
  {
   "cell_type": "markdown",
   "id": "b929c813",
   "metadata": {},
   "source": [
    "1-2. 요소가 1개일 때"
   ]
  },
  {
   "cell_type": "code",
   "execution_count": 29,
   "id": "3dda9a42",
   "metadata": {},
   "outputs": [
    {
     "data": {
      "text/plain": [
       "(('a',), ['a'])"
      ]
     },
     "execution_count": 29,
     "metadata": {},
     "output_type": "execute_result"
    }
   ],
   "source": [
    "listA = ['a']\n",
    "tupleA = ('a',) #,(comma)가 붙어야 함, 붙이지 않으면 스트링\n",
    "tupleA = 'a',\n",
    "\n",
    "tupleA, listA"
   ]
  },
  {
   "cell_type": "code",
   "execution_count": 30,
   "id": "8a8a4bb2",
   "metadata": {},
   "outputs": [
    {
     "data": {
      "text/plain": [
       "str"
      ]
     },
     "execution_count": 30,
     "metadata": {},
     "output_type": "execute_result"
    }
   ],
   "source": [
    "ex = ('a')\n",
    "type(ex)"
   ]
  },
  {
   "cell_type": "markdown",
   "id": "9bf3dc1e",
   "metadata": {},
   "source": [
    "2. 여러 변수 할당하기\n",
    "- packing: 하나의 변수에 여러 개의 데이터를 할당함\n",
    "    - 리스트, 튜플 등이 여기에 속함\n",
    "    - a = [1, 2, 3, 4]\n",
    "- unpacking: 여러 변수에 하나의 데이터를 할당함, 그것을 각각의 변수로 변환함\n",
    "    - a, b, c = [1, 2, 3]"
   ]
  },
  {
   "cell_type": "code",
   "execution_count": 31,
   "id": "018a4aef",
   "metadata": {},
   "outputs": [
    {
     "data": {
      "text/plain": [
       "('l', 'e', 'e')"
      ]
     },
     "execution_count": 31,
     "metadata": {},
     "output_type": "execute_result"
    }
   ],
   "source": [
    "name = 'lee'\n",
    "a, b, c = name\n",
    "a, b, c # unpacking"
   ]
  },
  {
   "cell_type": "code",
   "execution_count": 35,
   "id": "eebd8dbb",
   "metadata": {},
   "outputs": [
    {
     "data": {
      "text/plain": [
       "('abcd', 'hello')"
      ]
     },
     "execution_count": 35,
     "metadata": {},
     "output_type": "execute_result"
    }
   ],
   "source": [
    "# 값 교환\n",
    "pwd = 'abcd'\n",
    "userId = 'hello'\n",
    "\n",
    "# pwd = 'hello', userId = 'abcd'\n",
    "temp1 = pwd\n",
    "temp2 = userId\n",
    "pwd = temp2\n",
    "userId = temp1\n",
    "\n",
    "# 튜플 사용 => 길게 거쳐가지 않아도 되는 것이 장점\n",
    "pwd, userId = userId, pwd\n",
    "pwd, userId"
   ]
  },
  {
   "cell_type": "markdown",
   "id": "4ff6191a",
   "metadata": {},
   "source": [
    "3. 연산\n",
    "- 리스트와 동일"
   ]
  },
  {
   "cell_type": "code",
   "execution_count": 36,
   "id": "ceab294c",
   "metadata": {},
   "outputs": [
    {
     "data": {
      "text/plain": [
       "('a', 'b', 'c')"
      ]
     },
     "execution_count": 36,
     "metadata": {},
     "output_type": "execute_result"
    }
   ],
   "source": [
    "('a',) + ('b', 'c')"
   ]
  },
  {
   "cell_type": "code",
   "execution_count": 38,
   "id": "2007f292",
   "metadata": {},
   "outputs": [
    {
     "data": {
      "text/plain": [
       "('a', 'b', 'a', 'b', 'a', 'b', 'a', 'b')"
      ]
     },
     "execution_count": 38,
     "metadata": {},
     "output_type": "execute_result"
    }
   ],
   "source": [
    "('a', 'b') * 4"
   ]
  },
  {
   "cell_type": "code",
   "execution_count": 40,
   "id": "9ae437bc",
   "metadata": {},
   "outputs": [
    {
     "data": {
      "text/plain": [
       "((1, 2), (1, 3))"
      ]
     },
     "execution_count": 40,
     "metadata": {},
     "output_type": "execute_result"
    }
   ],
   "source": [
    "a = 1, 2\n",
    "b = 1, 3\n",
    "\n",
    "a, b"
   ]
  },
  {
   "cell_type": "markdown",
   "id": "869285d9",
   "metadata": {},
   "source": [
    "4. 순회하기\n",
    "- 리스트와 동일하게 loop 가능"
   ]
  },
  {
   "cell_type": "code",
   "execution_count": 41,
   "id": "77da6a39",
   "metadata": {},
   "outputs": [
    {
     "name": "stdout",
     "output_type": "stream",
     "text": [
      "(1, 2, 3, 4, 5)\n",
      "(1, 2, 3, 4, 5)\n",
      "(1, 2, 3, 4, 5)\n",
      "(1, 2, 3, 4, 5)\n",
      "(1, 2, 3, 4, 5)\n"
     ]
    }
   ],
   "source": [
    "a = 1, 2, 3, 4, 5\n",
    "\n",
    "for i in a:\n",
    "    print(a)"
   ]
  },
  {
   "cell_type": "markdown",
   "id": "c4ddd425",
   "metadata": {},
   "source": [
    "5. list comprehension\n",
    "- tuple? (존재x)"
   ]
  },
  {
   "cell_type": "code",
   "execution_count": 44,
   "id": "7ad5c42c",
   "metadata": {},
   "outputs": [
    {
     "data": {
      "text/plain": [
       "(1, 2, 3, 4, 5)"
      ]
     },
     "execution_count": 44,
     "metadata": {},
     "output_type": "execute_result"
    }
   ],
   "source": [
    "# 1. \n",
    "tuple([word for word in a])\n",
    "      \n",
    "# 2. 느린 방법\n",
    "*[word for word in a],"
   ]
  },
  {
   "cell_type": "markdown",
   "id": "121f89dc",
   "metadata": {},
   "source": [
    "6. 튜플은 불변 객체\n",
    "- a = 1, 2, 3, 4\n",
    "- 코드 수정 시, 수정할 수 없도록 하는 용도로 사용함.\n",
    "- 예) key 값 저장\n",
    "\n",
    "blue = 1\n",
    "white = 2\n",
    ".\n",
    ".\n",
    ".\n",
    "\n",
    "- 메모리 사용 적음"
   ]
  },
  {
   "cell_type": "code",
   "execution_count": 47,
   "id": "110379b6",
   "metadata": {},
   "outputs": [
    {
     "data": {
      "text/plain": [
       "(2492174531840, 2492173609376)"
      ]
     },
     "execution_count": 47,
     "metadata": {},
     "output_type": "execute_result"
    }
   ],
   "source": [
    "a = (1,) \n",
    "b = (1, 2, 3)\n",
    "id(a), id(a + b) # 튜플 a를 수정한 것 X, a+b를 하여 새로운 c를 만들어낸 것"
   ]
  },
  {
   "cell_type": "markdown",
   "id": "9d4117e3",
   "metadata": {},
   "source": [
    "7. 형 변환\n",
    "- tuple()\n",
    "- ()"
   ]
  },
  {
   "cell_type": "code",
   "execution_count": 48,
   "id": "d4b88a48",
   "metadata": {},
   "outputs": [
    {
     "data": {
      "text/plain": [
       "(('c', 'a', 't'), ['cat'])"
      ]
     },
     "execution_count": 48,
     "metadata": {},
     "output_type": "execute_result"
    }
   ],
   "source": [
    "tuple('cat'), ['cat'] # 주의!"
   ]
  },
  {
   "cell_type": "code",
   "execution_count": 49,
   "id": "116e8826",
   "metadata": {},
   "outputs": [
    {
     "data": {
      "text/plain": [
       "(['c', 'a', 't'], ['cat'])"
      ]
     },
     "execution_count": 49,
     "metadata": {},
     "output_type": "execute_result"
    }
   ],
   "source": [
    "list('cat'), ['cat']"
   ]
  },
  {
   "cell_type": "code",
   "execution_count": 50,
   "id": "bc23225c",
   "metadata": {},
   "outputs": [
    {
     "data": {
      "text/plain": [
       "1"
      ]
     },
     "execution_count": 50,
     "metadata": {},
     "output_type": "execute_result"
    }
   ],
   "source": [
    "b[0]"
   ]
  },
  {
   "cell_type": "markdown",
   "id": "140b98a2",
   "metadata": {},
   "source": [
    "- 튜플의 장점:\n",
    "    - 타인이 변경하는 것을 막을 수 있음 **\n",
    "    - 메모리 사용 적음\n",
    "- 리스트 장점:\n",
    "    - 데이터를 순차적으로 파악하기에 적함\n",
    "    - 중복되는 데이터를 포함할 수 있음"
   ]
  },
  {
   "cell_type": "code",
   "execution_count": 5,
   "id": "0a092172",
   "metadata": {},
   "outputs": [
    {
     "data": {
      "text/plain": [
       "\"\\n\\n\\tThey/ppss neither/cc liked/vbd nor/cc disliked/vbd the/at Old/jj-tl Man/nn-tl ./.\\nTo/in them/ppo he/pps could/md have/hv been/ben the/at broken/vbn bell/nn in/in the/at church/nn tower/nn which/wdt rang/vbd before/in and/cc after/in Mass/nn-tl ,/, and/cc at/in noon/nn ,/, and/cc at/in six/cd each/dt evening/nn --/-- its/pp$ tone/nn ,/, repetitive/jj ,/, monotonous/jj ,/, never/rb breaking/vbg the/at boredom/nn of/in the/at streets/nns ./.\\nThe/at Old/jj-tl Man/nn-tl was/bedz unimportant/jj ./.\\n\\n\\n\\tYet/rb if/cs he/pps were/bed not/* there/rb ,/, they/ppss would/md have/hv missed/vbn him/ppo ,/, as/cs they/ppss would/md have/hv missed/vbn the/at sounds/nns of/in bees/nns buzzing/vbg against/in the/at screen/nn door/nn in/in early/jj June/np ;/. ;/.\\nor/cc the/at smell/nn of/in thick/jj tomato/nn paste/nn --/-- the/at ripe/jj smell/nn that/wps was/bedz both/abx sweet/jj and/cc sour/jj --/-- rising/vbg up/rp from/in aluminum/nn trays/nns wrapped/vbn in/in fly-dotted/jj cheesecloth/nn ./.\\nOr/cc the/at surging/vbg whirling/vbg sounds/nns of/in bats/nns at/in night/nn ,/, when/wrb their/pp$ black/jj bodies/nns dived/vbd into/in the/at blackness/nn above/in and/cc below/in the/at amber/jj street/nn lights/nns ./.\\nOr/cc the/at bay/nn of/in female/nn dogs/nns in/in heat/nn ./.\\n\\n\\n\\tThey/ppss never/rb called/vbd him/ppo by/in name/nn ,/, although/cs he/pps had/hvd one/pn ./.\\nFilippo/np Rossi/np ,/, that's/dt+bez what/wdt he/pps was/bedz called/vbn in/in the/at old/jj country/nn ;/. ;/.\\nbut/cc here/rb he/pps was/bedz just/rb Signore/np or/cc the/at Old/jj-tl Man/nn-tl ./.\\nBut/cc this/dt was/bedz not/* unusual/jj ,/, because/cs youth/nn in/in these/dts quarters/nns was/bedz always/rb pushed/vbn at/in a/at distance/nn from/in its/pp$ elders/nns ./.\\nYouth/nn obeyed/vbd when/wrb commanded/vbn ./.\\nIt/pps went/vbd to/in church/nn on/in Sunday/nr and/cc one/cd Saturday/nr a/at month/nn went/vbd to/in confession/nn ./.\\nBut/cc youth/nn asked/vbd nothing/pn of/in its/pp$ parents/nns --/-- not/* a/at touch/nn of/in the/at hand/nn or/cc a/at kiss/nn given/vbn in/in passing/vbg ./.\\n\\n\\n\\tThe/at only/ap thing/nn unusual/jj about/in the/at Old/jj-tl Man/nn-tl had/hvd long/jj since/rb happened/vbn ./.\\nBut/cc the/at past/nn was/bedz dead/jj here/rb as/cs the/at present/jj was/bedz dead/jj ./.\\nOnce/cs the/at Old/jj-tl Man/nn-tl had/hvd had/hvn a/at wife/nn ./.\\nAnd/cc once/cs she/pps ,/, too/rb ,/, ignored/vbd him/ppo ./.\\nWith/in a/at tiny/jj fur-piece/nn wrapped/vbd around/in her/pp$ shoulders/nns ,/, she/pps wiggled/vbd her/pp$ satin-covered/jj buttocks/nns down/in the/at street/nn before/in him/ppo and/cc didn't/dod* stop/vb ./.\\nIn/in one/cd hand/nn she/pps clutched/vbd a/at hundred/cd dollar/nn bill/nn and/cc in/in the/at other/ap a/at straw/nn suitcase/nn ./.\\nThe/at way/nn she/pps strutted/vbd down/in the/at street/nn ,/, the/at Old/jj-tl Man/nn-tl would/md have/hv been/ben blind/jj not/* to/to have/hv noticed/vbn both/abx ./.\\nWithout/in looking/vbg at/in him/ppo ,/, without/in looking/vbg at/in anything/pn except/in Drexel/np-tl Street/nn-tl directly/rb in/in front/nn of/in her/ppo ,/, she/pps climbed/vbd up/rp into/in one/cd of/in those/dts orange/jj streetcars/nns ,/, rode/vbd away/rb in/in it/ppo ,/, and/cc never/rb came/vbd back/rb ./.\\n\\n\\n\\t``/`` But/cc she/pps shouldn't/md* have/hv come/vbn here/rb in/in the/at first/od place/nn ''/'' ,/, the/at women/nns had/hvd said/vbn ./.\\n\\n\\n\\t``/`` No/rb ,/, no/rb ./.\\nNot/* that/dt one/pn ./.\\nShe/pps thought/vbd she/pps was/bedz bigger/jjr than/cs we/ppss are/ber because/cs she/pps came/vbd from/in Torino/np ''/'' ./.\\n\\n\\n\\t``/`` Eh/uh ,/, Torino/np !/. !/.\\nShe/pps gave/vbd herself/ppl fancy/jj airs/nns !/. !/.\\nJust/rb because/cs she/pps had/hvd a/at part/nn on/in the/at stage/nn in/in the/at old/jj country/nn ,/, she/pps thought/vbd she/pps could/md carry/vb her/pp$ head/nn higher/rbr than/cs ours/pp$$ ''/'' ./.\\nThey/ppss had/hvd slapped/vbn their/pp$ thighs/nns ./.\\n\\n\\n\\t``/`` It's/pps+bez not/* for/in making/vbg pretty/jj speeches/nns about/in Dante/np those/dts actresses/nns get/vb paid/vbn so/ql good/rb ''/'' ./.\\n\\n\\n\\t``/`` Henh/uh ''/'' !/. !/.\\nCalloused/vbn fingers/nns ,/, caressed/vbn only/rb by/in the/at smoothness/nn of/in polished/vbn rosaries/nns ,/, had/hvd swayed/vbn excitedly/rb beneath/in puckered/vbn chins/nns where/wrb tiny/jj black/jj hairs/nns sprouted/vbd ,/, never/rb to/to be/be tweezed/vbn away/rb ./.\\nMauve-colored/jj mouths/nns that/wps had/hvd never/rb known/vbn anything/pn sweeter/jjr than/cs the/at taste/nn of/in new/jj wine/nn and/cc the/at passion/nn of/in man's/nn$ tongue/nn had/hvd not/* smiled/vbn ,/, but/cc had/hvd condemned/vbn again/rb and/cc again/rb ./.\\n``/`` Puttana/fw-nn ''/'' !/. !/.\\n\\n\\n\\tBut/cc if/cs the/at Old/jj-tl Man/nn-tl even/rb thought/vbd about/in his/pp$ wife/nn now/rb ,/, nobody/pn cared/vbd a/at fig/nn ./.\\nIt/pps was/bedz enough/ap for/in people/nns to/to know/vb that/cs at/in one/cd time/nn he/pps had/hvd looked/vbn down/in the/at street/nn at/in the/at f\""
      ]
     },
     "execution_count": 5,
     "metadata": {},
     "output_type": "execute_result"
    }
   ],
   "source": [
    "text = brown.raw(categories = 'romance')[:5000] # => list of words, sentence split 남긴 형태로 출력\n",
    "text"
   ]
  },
  {
   "cell_type": "markdown",
   "id": "fcadd3dc",
   "metadata": {},
   "source": [
    "과제) brown 코퍼스에서 romance 장르 raw 앞에서 5000개 선택\n",
    "- 문장 분철 있는 토큰 리스트로 만들기\n",
    "- 리스트컴프리핸션, for문 사용하여 불필요한 것들 제거하기\n",
    "- 문장 부호 모두 제거\n",
    "\n",
    "\\n\\n\\tThey/ppss neither/cc liked/vbd nor/cc disliked/vbd\n",
    "['They', 'neither', 'liked']"
   ]
  },
  {
   "cell_type": "markdown",
   "id": "9f4d99bb",
   "metadata": {},
   "source": [
    "### List 관련 함수"
   ]
  },
  {
   "cell_type": "markdown",
   "id": "b39513ce",
   "metadata": {},
   "source": [
    "#### 1. 항목 변경하기"
   ]
  },
  {
   "cell_type": "code",
   "execution_count": 66,
   "id": "1bee43b7",
   "metadata": {},
   "outputs": [],
   "source": [
    "days = ['월', '화', '수', '목']"
   ]
  },
  {
   "cell_type": "code",
   "execution_count": 67,
   "id": "d4adb8ed",
   "metadata": {},
   "outputs": [
    {
     "data": {
      "text/plain": [
       "['월', '화', '수', '목', 'fri']"
      ]
     },
     "execution_count": 67,
     "metadata": {},
     "output_type": "execute_result"
    }
   ],
   "source": [
    "# append(): 마지막에 요소 추가\n",
    "\n",
    "days.append('fri')\n",
    "days"
   ]
  },
  {
   "cell_type": "code",
   "execution_count": 68,
   "id": "2844d397",
   "metadata": {},
   "outputs": [
    {
     "data": {
      "text/plain": [
       "['월', '화', 'Sat', '수', '목', 'fri']"
      ]
     },
     "execution_count": 68,
     "metadata": {},
     "output_type": "execute_result"
    }
   ],
   "source": [
    "# insert: 오프셋 지정 가능\n",
    "\n",
    "days.insert(2, 'Sat')\n",
    "days"
   ]
  },
  {
   "cell_type": "markdown",
   "id": "ab3a8eb6",
   "metadata": {},
   "source": [
    "#### extend와 append의 차이점\n",
    "- extend: 병합이 되어 삽입됨\n",
    "- append: 리스트 자체가 하나의 item으로 삽입됨"
   ]
  },
  {
   "cell_type": "code",
   "execution_count": 70,
   "id": "d63e7b6a",
   "metadata": {},
   "outputs": [
    {
     "data": {
      "text/plain": [
       "['월', '화', 'Sat', '수', '목', 'fri', '토', '일', '토', '일']"
      ]
     },
     "execution_count": 70,
     "metadata": {},
     "output_type": "execute_result"
    }
   ],
   "source": [
    "listA = ['토', '일']\n",
    "days.extend(listA)\n",
    "days\n",
    "\n",
    "# 두 번 실행시키면 두 번 병합됨"
   ]
  },
  {
   "cell_type": "code",
   "execution_count": 71,
   "id": "7146f716",
   "metadata": {},
   "outputs": [
    {
     "data": {
      "text/plain": [
       "['월', '화', 'Sat', '수', '목', 'fri', '토', '일', '토', '일', ['토', '일']]"
      ]
     },
     "execution_count": 71,
     "metadata": {},
     "output_type": "execute_result"
    }
   ],
   "source": [
    "days.append(listA)\n",
    "days"
   ]
  },
  {
   "cell_type": "code",
   "execution_count": 72,
   "id": "e1073ec2",
   "metadata": {
    "scrolled": true
   },
   "outputs": [
    {
     "data": {
      "text/plain": [
       "['월', '화', 'Sat', '수', '목', 'fri', '토', '일', '토', '일', ['토', '일']]"
      ]
     },
     "execution_count": 72,
     "metadata": {},
     "output_type": "execute_result"
    }
   ],
   "source": [
    "days == listA\n",
    "days"
   ]
  },
  {
   "cell_type": "code",
   "execution_count": 73,
   "id": "cfb3b26e",
   "metadata": {},
   "outputs": [
    {
     "data": {
      "text/plain": [
       "['월', '화', 'Sat', '수', '목', 'fri', '토', '일', '공휴일', '일', ['토', '일']]"
      ]
     },
     "execution_count": 73,
     "metadata": {},
     "output_type": "execute_result"
    }
   ],
   "source": [
    "# 오프셋으로 접근\n",
    "\n",
    "days[-3] = '공휴일'\n",
    "days"
   ]
  },
  {
   "cell_type": "code",
   "execution_count": 74,
   "id": "cba9f724",
   "metadata": {},
   "outputs": [
    {
     "data": {
      "text/plain": [
       "[1, 2, 3, '수', '목', 'fri', '토', '일', '공휴일', '일', ['토', '일']]"
      ]
     },
     "execution_count": 74,
     "metadata": {},
     "output_type": "execute_result"
    }
   ],
   "source": [
    "# 슬라이싱: 개수 달라도 오류 x\n",
    "\n",
    "days[:3] = 1, 2, 3\n",
    "days"
   ]
  },
  {
   "cell_type": "code",
   "execution_count": 75,
   "id": "677c7b96",
   "metadata": {},
   "outputs": [
    {
     "data": {
      "text/plain": [
       "['c', 'a', 't', '수', '목', 'fri', '토', '일', '공휴일', '일', ['토', '일']]"
      ]
     },
     "execution_count": 75,
     "metadata": {},
     "output_type": "execute_result"
    }
   ],
   "source": [
    "# 문자열로 접근 시 주의! 글자 하나하나 순회하여 들어감\n",
    "\n",
    "days[:3] = 'cat'\n",
    "days"
   ]
  },
  {
   "cell_type": "code",
   "execution_count": 76,
   "id": "1d69c94a",
   "metadata": {},
   "outputs": [
    {
     "data": {
      "text/plain": [
       "[1, 2, 3, 4, 5]"
      ]
     },
     "execution_count": 76,
     "metadata": {},
     "output_type": "execute_result"
    }
   ],
   "source": [
    "# a = 1, 2, 3, 4, 5\n",
    "a = list(range(1, 6)) # 리스트로 가져오기 가능\n",
    "a"
   ]
  },
  {
   "cell_type": "markdown",
   "id": "2ab00e3a",
   "metadata": {},
   "source": [
    "### 삭제하기\n",
    "- del\n",
    "- remove\n",
    "- pop\n",
    "- clear"
   ]
  },
  {
   "cell_type": "code",
   "execution_count": 77,
   "id": "fca26195",
   "metadata": {},
   "outputs": [
    {
     "data": {
      "text/plain": [
       "['a', 't', '수', '목', 'fri', '토', '일', '공휴일', '일', ['토', '일']]"
      ]
     },
     "execution_count": 77,
     "metadata": {},
     "output_type": "execute_result"
    }
   ],
   "source": [
    "# 1. 오프셋\n",
    "\n",
    "del days[0] # 자리가 보존되지 않고 item이 하나씩 앞당겨짐\n",
    "days"
   ]
  },
  {
   "cell_type": "code",
   "execution_count": 78,
   "id": "009f84fd",
   "metadata": {},
   "outputs": [
    {
     "data": {
      "text/plain": [
       "['t', '수', '목', 'fri', '토', '일', '공휴일', '일', ['토', '일']]"
      ]
     },
     "execution_count": 78,
     "metadata": {},
     "output_type": "execute_result"
    }
   ],
   "source": [
    "# 2. 특정 값 삭제\n",
    "\n",
    "days.remove('a') # 0번째만 삭제\n",
    "days"
   ]
  },
  {
   "cell_type": "code",
   "execution_count": 79,
   "id": "25bb93b6",
   "metadata": {},
   "outputs": [
    {
     "data": {
      "text/plain": [
       "'t'"
      ]
     },
     "execution_count": 79,
     "metadata": {},
     "output_type": "execute_result"
    }
   ],
   "source": [
    "# 3. pop(index) ( default = -1 맨 마지막 요소를 삭제)\n",
    "\n",
    "days.pop(0)"
   ]
  },
  {
   "cell_type": "code",
   "execution_count": 80,
   "id": "4a572ab9",
   "metadata": {},
   "outputs": [
    {
     "data": {
      "text/plain": [
       "['수', '목', 'fri', '토', '일', '공휴일', '일', ['토', '일']]"
      ]
     },
     "execution_count": 80,
     "metadata": {},
     "output_type": "execute_result"
    }
   ],
   "source": [
    "days"
   ]
  },
  {
   "cell_type": "code",
   "execution_count": 82,
   "id": "36bc12e9",
   "metadata": {
    "scrolled": true
   },
   "outputs": [
    {
     "data": {
      "text/plain": [
       "[]"
      ]
     },
     "execution_count": 82,
     "metadata": {},
     "output_type": "execute_result"
    }
   ],
   "source": [
    "# clear: 전부 삭제\n",
    "\n",
    "days.clear()\n",
    "days"
   ]
  },
  {
   "cell_type": "markdown",
   "id": "55e8df41",
   "metadata": {},
   "source": [
    "### 값 찾기"
   ]
  },
  {
   "cell_type": "code",
   "execution_count": 67,
   "id": "4a2bed3d",
   "metadata": {},
   "outputs": [
    {
     "data": {
      "text/plain": [
       "2"
      ]
     },
     "execution_count": 67,
     "metadata": {},
     "output_type": "execute_result"
    }
   ],
   "source": [
    "a = list(range(5))\n",
    "a.index(2)"
   ]
  },
  {
   "cell_type": "code",
   "execution_count": 68,
   "id": "e515d0a5",
   "metadata": {},
   "outputs": [
    {
     "data": {
      "text/plain": [
       "True"
      ]
     },
     "execution_count": 68,
     "metadata": {},
     "output_type": "execute_result"
    }
   ],
   "source": [
    "# 값 확인\n",
    "3 in a"
   ]
  },
  {
   "cell_type": "markdown",
   "id": "3134654f",
   "metadata": {},
   "source": [
    "#### 정렬하기\n",
    "- 리스트.sort(reverse): 정렬 뒤 값 반환하지 않고 기존 값 변경\n",
    "- sorted(리스트, reverse): 정렬된 복사본을 반환, 기존 값은 유지됨\n",
    "\n",
    "\n",
    "- 리스트.reverse()\n",
    "- list(reversed(리스트)): 리스트로 감싸야 함"
   ]
  },
  {
   "cell_type": "code",
   "execution_count": 70,
   "id": "d224a2a4",
   "metadata": {},
   "outputs": [
    {
     "data": {
      "text/plain": [
       "[4, 3, 2, 1, 0]"
      ]
     },
     "execution_count": 70,
     "metadata": {},
     "output_type": "execute_result"
    }
   ],
   "source": [
    "sorted(a, reverse = True)"
   ]
  },
  {
   "cell_type": "code",
   "execution_count": 71,
   "id": "bf3766bd",
   "metadata": {},
   "outputs": [
    {
     "data": {
      "text/plain": [
       "[0, 1, 2, 3, 4]"
      ]
     },
     "execution_count": 71,
     "metadata": {},
     "output_type": "execute_result"
    }
   ],
   "source": [
    "a"
   ]
  },
  {
   "cell_type": "code",
   "execution_count": 73,
   "id": "68f38843",
   "metadata": {},
   "outputs": [
    {
     "data": {
      "text/plain": [
       "[0, 1, 2, 3, 4]"
      ]
     },
     "execution_count": 73,
     "metadata": {},
     "output_type": "execute_result"
    }
   ],
   "source": [
    "a. sort()\n",
    "a"
   ]
  },
  {
   "cell_type": "code",
   "execution_count": 74,
   "id": "fddd7fa2",
   "metadata": {},
   "outputs": [],
   "source": [
    "b = sorted(a, reverse = True)"
   ]
  },
  {
   "cell_type": "code",
   "execution_count": 75,
   "id": "f391ac94",
   "metadata": {},
   "outputs": [
    {
     "data": {
      "text/plain": [
       "([0, 1, 2, 3, 4], [4, 3, 2, 1, 0])"
      ]
     },
     "execution_count": 75,
     "metadata": {},
     "output_type": "execute_result"
    }
   ],
   "source": [
    "a, b"
   ]
  },
  {
   "cell_type": "code",
   "execution_count": 77,
   "id": "41977710",
   "metadata": {},
   "outputs": [
    {
     "data": {
      "text/plain": [
       "[0, 1, 2, 3, 4]"
      ]
     },
     "execution_count": 77,
     "metadata": {},
     "output_type": "execute_result"
    }
   ],
   "source": [
    "b.sort()\n",
    "b"
   ]
  },
  {
   "cell_type": "code",
   "execution_count": 78,
   "id": "293910f6",
   "metadata": {},
   "outputs": [
    {
     "data": {
      "text/plain": [
       "[0, 1, 2, 3, 4]"
      ]
     },
     "execution_count": 78,
     "metadata": {},
     "output_type": "execute_result"
    }
   ],
   "source": [
    "b"
   ]
  },
  {
   "cell_type": "code",
   "execution_count": 81,
   "id": "6e9d2e3f",
   "metadata": {},
   "outputs": [
    {
     "data": {
      "text/plain": [
       "[4, 3, 2, 1, 0]"
      ]
     },
     "execution_count": 81,
     "metadata": {},
     "output_type": "execute_result"
    }
   ],
   "source": [
    "c = list(reversed(b))\n",
    "c"
   ]
  },
  {
   "cell_type": "markdown",
   "id": "2a15f39f",
   "metadata": {},
   "source": [
    "#### 할당하기\n",
    "- '='로 할당할 때는 하나의 값이 변하면 함께 변함. (메모리 주소를 참조하고 있으므로)\n",
    "- shallow copy\n",
    "    - a가 변해도 b가 변하지 않게 하는 복사\n",
    "    - 리스트.copy()\n",
    "    - list(리스트)\n",
    "    - 리스트[:]\n",
    "- deep copy\n",
    "    - 하위에 중"
   ]
  },
  {
   "cell_type": "code",
   "execution_count": 82,
   "id": "6d142241",
   "metadata": {},
   "outputs": [
    {
     "data": {
      "text/plain": [
       "[0, 1, 2, 3, 4]"
      ]
     },
     "execution_count": 82,
     "metadata": {},
     "output_type": "execute_result"
    }
   ],
   "source": [
    "a"
   ]
  },
  {
   "cell_type": "code",
   "execution_count": 87,
   "id": "b4123927",
   "metadata": {},
   "outputs": [
    {
     "data": {
      "text/plain": [
       "[7, 1, 2, 3, 4]"
      ]
     },
     "execution_count": 87,
     "metadata": {},
     "output_type": "execute_result"
    }
   ],
   "source": [
    "b = a  # [0, 1, 2, 3, 4]에 a, b가 메모리 주소를 참조함\n",
    "b[0] = 7\n",
    "b"
   ]
  },
  {
   "cell_type": "code",
   "execution_count": 85,
   "id": "532a9b7b",
   "metadata": {},
   "outputs": [
    {
     "data": {
      "text/plain": [
       "[7, 1, 2, 3, 4]"
      ]
     },
     "execution_count": 85,
     "metadata": {},
     "output_type": "execute_result"
    }
   ],
   "source": [
    "a # a도 변경됨"
   ]
  },
  {
   "cell_type": "code",
   "execution_count": 88,
   "id": "f888fc93",
   "metadata": {},
   "outputs": [
    {
     "data": {
      "text/plain": [
       "(2492173526912, 2492173526912)"
      ]
     },
     "execution_count": 88,
     "metadata": {},
     "output_type": "execute_result"
    }
   ],
   "source": [
    "id(a), id(b)"
   ]
  },
  {
   "cell_type": "code",
   "execution_count": 89,
   "id": "6ab88e10",
   "metadata": {},
   "outputs": [
    {
     "data": {
      "text/plain": [
       "(2492173526912, 2492172985856, 2492173591104, 2492173525376)"
      ]
     },
     "execution_count": 89,
     "metadata": {},
     "output_type": "execute_result"
    }
   ],
   "source": [
    "# shallow\n",
    "\n",
    "b = a.copy()\n",
    "c = list(a)\n",
    "d = a[:]\n",
    "\n",
    "id(a), id(b), id(c), id(d) # 모두 다른 값"
   ]
  },
  {
   "cell_type": "code",
   "execution_count": 90,
   "id": "7de65a47",
   "metadata": {},
   "outputs": [
    {
     "data": {
      "text/plain": [
       "[7, 1, 2, 3, 4, [6, 7, 8]]"
      ]
     },
     "execution_count": 90,
     "metadata": {},
     "output_type": "execute_result"
    }
   ],
   "source": [
    "a.append([6, 7, 8])\n",
    "a"
   ]
  },
  {
   "cell_type": "code",
   "execution_count": 91,
   "id": "2506cf61",
   "metadata": {},
   "outputs": [
    {
     "data": {
      "text/plain": [
       "[7, 1, 2, 3, 4, [6, 7, 8]]"
      ]
     },
     "execution_count": 91,
     "metadata": {},
     "output_type": "execute_result"
    }
   ],
   "source": [
    "e = a.copy()\n",
    "e"
   ]
  },
  {
   "cell_type": "code",
   "execution_count": 94,
   "id": "d9ac3bae",
   "metadata": {},
   "outputs": [
    {
     "data": {
      "text/plain": [
       "([7, 1, 2, 3, 4, [0, 7, 8]], [7, 1, 2, 3, 4, [0, 7, 8]])"
      ]
     },
     "execution_count": 94,
     "metadata": {},
     "output_type": "execute_result"
    }
   ],
   "source": [
    "a[-1][0] = 0\n",
    "a, e"
   ]
  },
  {
   "cell_type": "code",
   "execution_count": 95,
   "id": "45827f6f",
   "metadata": {},
   "outputs": [
    {
     "data": {
      "text/plain": [
       "[7, 1, 2, 3, 4, [0, 7, 8]]"
      ]
     },
     "execution_count": 95,
     "metadata": {},
     "output_type": "execute_result"
    }
   ],
   "source": [
    "import copy\n",
    "f = copy.deepcopy(a)\n",
    "f"
   ]
  },
  {
   "cell_type": "code",
   "execution_count": 97,
   "id": "352f4c8d",
   "metadata": {},
   "outputs": [
    {
     "data": {
      "text/plain": [
       "([7, 1, 2, 3, 4, [0, 7, 8]], [7, 1, 2, 3, 4, [0, 7, 9]])"
      ]
     },
     "execution_count": 97,
     "metadata": {},
     "output_type": "execute_result"
    }
   ],
   "source": [
    "f[-1][-1] = 9\n",
    "a, f"
   ]
  },
  {
   "cell_type": "markdown",
   "id": "59c15214",
   "metadata": {},
   "source": [
    "#### 순회하기\n",
    "- zip(): 여러 개의 리스트 동시 순회\n",
    "- enumerate(): 인덱스도 함께 순회하고자 할 때 (list, range)\n",
    "- range()"
   ]
  },
  {
   "cell_type": "code",
   "execution_count": 100,
   "id": "05ba5367",
   "metadata": {},
   "outputs": [
    {
     "name": "stdout",
     "output_type": "stream",
     "text": [
      "(1, 'mon')\n",
      "(2, 'tue')\n",
      "(3, 'wed')\n"
     ]
    }
   ],
   "source": [
    "a = [1, 2, 3]\n",
    "b = ['mon', 'tue', 'wed', 'thu']\n",
    "\n",
    "for itemA, itemB in zip(a, b): # 아이템 수가 적은 시퀀스에서 완료됨\n",
    "    print((itemA, itemB))"
   ]
  },
  {
   "cell_type": "code",
   "execution_count": 101,
   "id": "6ebf5306",
   "metadata": {},
   "outputs": [
    {
     "data": {
      "text/plain": [
       "[(1, 'mon'), (2, 'tue'), (3, 'wed')]"
      ]
     },
     "execution_count": 101,
     "metadata": {},
     "output_type": "execute_result"
    }
   ],
   "source": [
    "list(zip(a, b))"
   ]
  },
  {
   "cell_type": "code",
   "execution_count": 102,
   "id": "fadf09d3",
   "metadata": {},
   "outputs": [
    {
     "data": {
      "text/plain": [
       "{1: 'mon', 2: 'tue', 3: 'wed'}"
      ]
     },
     "execution_count": 102,
     "metadata": {},
     "output_type": "execute_result"
    }
   ],
   "source": [
    "dict(zip(a, b)) # 딕셔너리"
   ]
  },
  {
   "cell_type": "code",
   "execution_count": 109,
   "id": "b9c45f0e",
   "metadata": {},
   "outputs": [
    {
     "name": "stdout",
     "output_type": "stream",
     "text": [
      "(0, 'mon')\n",
      "(1, 'tue')\n",
      "(2, 'wed')\n",
      "(3, 'thu')\n"
     ]
    }
   ],
   "source": [
    "for idx, itemA in enumerate(b):\n",
    "    print((idx, itemA))"
   ]
  },
  {
   "cell_type": "markdown",
   "id": "a83d2f0a",
   "metadata": {},
   "source": [
    "#### 리스트 컴프리핸션"
   ]
  },
  {
   "cell_type": "code",
   "execution_count": 111,
   "id": "99bdbc8c",
   "metadata": {},
   "outputs": [
    {
     "data": {
      "text/plain": [
       "[(1, 'mon'), (2, 'tue'), (3, 'wed')]"
      ]
     },
     "execution_count": 111,
     "metadata": {},
     "output_type": "execute_result"
    }
   ],
   "source": [
    "ex = [(nal, day) for nal, day in zip(a, b)]\n",
    "ex"
   ]
  },
  {
   "cell_type": "markdown",
   "id": "f59b1fa1",
   "metadata": {},
   "source": [
    "### mini quiz\n",
    "- 리스트 컴프리핸션 -> for문으로 바꾸기\n",
    "    - for문을 사용하여 ex를 구현하기\n",
    "        - a, b"
   ]
  },
  {
   "cell_type": "code",
   "execution_count": 116,
   "id": "e4483a03",
   "metadata": {},
   "outputs": [
    {
     "data": {
      "text/plain": [
       "[(1, 'mon'), (2, 'tue'), (3, 'wed')]"
      ]
     },
     "execution_count": 116,
     "metadata": {},
     "output_type": "execute_result"
    }
   ],
   "source": [
    "result = []\n",
    "\n",
    "for nal, day in zip(a, b):\n",
    "    result.append((nal, day)) # 주의: () 감싸주기\n",
    "    \n",
    "result"
   ]
  },
  {
   "cell_type": "code",
   "execution_count": 119,
   "id": "79efe909",
   "metadata": {},
   "outputs": [
    {
     "data": {
      "text/plain": [
       "[(1, 'mon'),\n",
       " (1, 'tue'),\n",
       " (1, 'wed'),\n",
       " (1, 'thu'),\n",
       " (2, 'mon'),\n",
       " (2, 'tue'),\n",
       " (2, 'wed'),\n",
       " (2, 'thu'),\n",
       " (3, 'mon'),\n",
       " (3, 'tue'),\n",
       " (3, 'wed'),\n",
       " (3, 'thu')]"
      ]
     },
     "execution_count": 119,
     "metadata": {},
     "output_type": "execute_result"
    }
   ],
   "source": [
    "# for day in b\n",
    "    # for nal in a\n",
    "[(nal, day) for nal in a for day in b] # nal, day 각각 선언"
   ]
  },
  {
   "cell_type": "markdown",
   "id": "476becca",
   "metadata": {},
   "source": [
    "### Mini Quiz\n",
    "\n",
    "Q1. \n",
    "- sentence = \"don't judge a book by its cover\"\n",
    "- [(대문자, 타이틀, 글자 수)] 의 형태로 저장된 리스트로 만들기\n",
    "\n",
    "Q2.\n",
    "- text = [['hello', 'guys'], ['how', 'are', 'you']]\n",
    "- 2-1. 문장으로 구성된 리스트로 만들기\n",
    "         - ['hellp guys', 'how are you']\n",
    "- 2-2. 전체 단어를 하나의 리스트로 가져오기\n",
    "        - ['', '', '', '']\n",
    "- 2-3. 전체를 스트링으로 가져오기\n",
    "        - 'hello guys how are you"
   ]
  },
  {
   "cell_type": "markdown",
   "id": "8a9abf82",
   "metadata": {},
   "source": [
    "Q1."
   ]
  },
  {
   "cell_type": "code",
   "execution_count": 123,
   "id": "1f60d61a",
   "metadata": {},
   "outputs": [
    {
     "data": {
      "text/plain": [
       "[(\"DON'T\", \"Don'T\", 5),\n",
       " ('JUDGE', 'Judge', 5),\n",
       " ('A', 'A', 1),\n",
       " ('BOOK', 'Book', 4),\n",
       " ('BY', 'By', 2),\n",
       " ('ITS', 'Its', 3),\n",
       " ('COVER', 'Cover', 5)]"
      ]
     },
     "execution_count": 123,
     "metadata": {},
     "output_type": "execute_result"
    }
   ],
   "source": [
    "sentence = \"don't judge a book by its cover\"\n",
    "[(word.upper(), word.title(), len(word)) for word in sentence.split()]"
   ]
  },
  {
   "cell_type": "markdown",
   "id": "f5cca8d7",
   "metadata": {},
   "source": [
    "Q2."
   ]
  },
  {
   "cell_type": "code",
   "execution_count": 125,
   "id": "4afcafae",
   "metadata": {},
   "outputs": [],
   "source": [
    "text = [['hello', 'guys'], ['how', 'are', 'you']]"
   ]
  },
  {
   "cell_type": "code",
   "execution_count": 130,
   "id": "8671f6cd",
   "metadata": {},
   "outputs": [
    {
     "data": {
      "text/plain": [
       "['hello guys', 'how are you']"
      ]
     },
     "execution_count": 130,
     "metadata": {},
     "output_type": "execute_result"
    }
   ],
   "source": [
    "# 1.\n",
    "\n",
    "[' '.join(sent) for sent in text] # ['', '']"
   ]
  },
  {
   "cell_type": "code",
   "execution_count": 131,
   "id": "fb52476f",
   "metadata": {},
   "outputs": [
    {
     "name": "stdout",
     "output_type": "stream",
     "text": [
      "hello\n",
      "guys\n",
      "how\n",
      "are\n",
      "you\n"
     ]
    }
   ],
   "source": [
    "for sent in text:\n",
    "    for word in sent:\n",
    "        print(word)"
   ]
  },
  {
   "cell_type": "code",
   "execution_count": 133,
   "id": "47e71046",
   "metadata": {},
   "outputs": [
    {
     "data": {
      "text/plain": [
       "['hello', 'guys', 'how', 'are', 'you']"
      ]
     },
     "execution_count": 133,
     "metadata": {},
     "output_type": "execute_result"
    }
   ],
   "source": [
    "# 2.\n",
    "\n",
    "[word for sent in text for word in sent]"
   ]
  },
  {
   "cell_type": "code",
   "execution_count": 137,
   "id": "4dd487fa",
   "metadata": {},
   "outputs": [
    {
     "data": {
      "text/plain": [
       "'hello guys how are you'"
      ]
     },
     "execution_count": 137,
     "metadata": {},
     "output_type": "execute_result"
    }
   ],
   "source": [
    "# 3.\n",
    "\n",
    "' '.join([word for sent in text for word in sent])"
   ]
  }
 ],
 "metadata": {
  "kernelspec": {
   "display_name": "Python 3 (ipykernel)",
   "language": "python",
   "name": "python3"
  },
  "language_info": {
   "codemirror_mode": {
    "name": "ipython",
    "version": 3
   },
   "file_extension": ".py",
   "mimetype": "text/x-python",
   "name": "python",
   "nbconvert_exporter": "python",
   "pygments_lexer": "ipython3",
   "version": "3.9.7"
  }
 },
 "nbformat": 4,
 "nbformat_minor": 5
}
